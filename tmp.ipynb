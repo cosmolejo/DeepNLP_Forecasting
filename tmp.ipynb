{
 "cells": [
  {
   "cell_type": "code",
   "id": "initial_id",
   "metadata": {
    "collapsed": true,
    "ExecuteTime": {
     "end_time": "2025-05-17T14:39:53.002285Z",
     "start_time": "2025-05-17T14:39:52.219492Z"
    }
   },
   "source": "from autogluon.timeseries import TimeSeriesDataFrame, TimeSeriesPredictor",
   "outputs": [],
   "execution_count": 1
  },
  {
   "metadata": {
    "ExecuteTime": {
     "end_time": "2025-05-17T14:40:04.961323Z",
     "start_time": "2025-05-17T14:40:04.956812Z"
    }
   },
   "cell_type": "code",
   "source": "from utils.functions import *",
   "id": "8e4f395b926f8c8f",
   "outputs": [],
   "execution_count": 2
  },
  {
   "metadata": {
    "ExecuteTime": {
     "end_time": "2025-05-17T14:40:10.024898Z",
     "start_time": "2025-05-17T14:40:07.883668Z"
    }
   },
   "cell_type": "code",
   "source": [
    "data = TimeSeriesDataFrame.from_path(\n",
    "    \"https://autogluon.s3.amazonaws.com/datasets/timeseries/grocery_sales/test.csv\",\n",
    ")\n",
    "data.head()"
   ],
   "id": "5497d72fe5ab573b",
   "outputs": [
    {
     "data": {
      "text/plain": [
       "                     scaled_price  promotion_email  promotion_homepage  \\\n",
       "item_id  timestamp                                                       \n",
       "1062_101 2018-01-01      0.879130              0.0                 0.0   \n",
       "         2018-01-08      0.994517              0.0                 0.0   \n",
       "         2018-01-15      1.005513              0.0                 0.0   \n",
       "         2018-01-22      1.000000              0.0                 0.0   \n",
       "         2018-01-29      0.883309              0.0                 0.0   \n",
       "\n",
       "                     unit_sales  \n",
       "item_id  timestamp               \n",
       "1062_101 2018-01-01       636.0  \n",
       "         2018-01-08       123.0  \n",
       "         2018-01-15       391.0  \n",
       "         2018-01-22       339.0  \n",
       "         2018-01-29       661.0  "
      ],
      "text/html": [
       "<div>\n",
       "<style scoped>\n",
       "    .dataframe tbody tr th:only-of-type {\n",
       "        vertical-align: middle;\n",
       "    }\n",
       "\n",
       "    .dataframe tbody tr th {\n",
       "        vertical-align: top;\n",
       "    }\n",
       "\n",
       "    .dataframe thead th {\n",
       "        text-align: right;\n",
       "    }\n",
       "</style>\n",
       "<table border=\"1\" class=\"dataframe\">\n",
       "  <thead>\n",
       "    <tr style=\"text-align: right;\">\n",
       "      <th></th>\n",
       "      <th></th>\n",
       "      <th>scaled_price</th>\n",
       "      <th>promotion_email</th>\n",
       "      <th>promotion_homepage</th>\n",
       "      <th>unit_sales</th>\n",
       "    </tr>\n",
       "    <tr>\n",
       "      <th>item_id</th>\n",
       "      <th>timestamp</th>\n",
       "      <th></th>\n",
       "      <th></th>\n",
       "      <th></th>\n",
       "      <th></th>\n",
       "    </tr>\n",
       "  </thead>\n",
       "  <tbody>\n",
       "    <tr>\n",
       "      <th rowspan=\"5\" valign=\"top\">1062_101</th>\n",
       "      <th>2018-01-01</th>\n",
       "      <td>0.879130</td>\n",
       "      <td>0.0</td>\n",
       "      <td>0.0</td>\n",
       "      <td>636.0</td>\n",
       "    </tr>\n",
       "    <tr>\n",
       "      <th>2018-01-08</th>\n",
       "      <td>0.994517</td>\n",
       "      <td>0.0</td>\n",
       "      <td>0.0</td>\n",
       "      <td>123.0</td>\n",
       "    </tr>\n",
       "    <tr>\n",
       "      <th>2018-01-15</th>\n",
       "      <td>1.005513</td>\n",
       "      <td>0.0</td>\n",
       "      <td>0.0</td>\n",
       "      <td>391.0</td>\n",
       "    </tr>\n",
       "    <tr>\n",
       "      <th>2018-01-22</th>\n",
       "      <td>1.000000</td>\n",
       "      <td>0.0</td>\n",
       "      <td>0.0</td>\n",
       "      <td>339.0</td>\n",
       "    </tr>\n",
       "    <tr>\n",
       "      <th>2018-01-29</th>\n",
       "      <td>0.883309</td>\n",
       "      <td>0.0</td>\n",
       "      <td>0.0</td>\n",
       "      <td>661.0</td>\n",
       "    </tr>\n",
       "  </tbody>\n",
       "</table>\n",
       "</div>"
      ]
     },
     "execution_count": 3,
     "metadata": {},
     "output_type": "execute_result"
    }
   ],
   "execution_count": 3
  },
  {
   "metadata": {
    "ExecuteTime": {
     "end_time": "2025-05-17T14:41:26.783931Z",
     "start_time": "2025-05-17T14:41:26.779140Z"
    }
   },
   "cell_type": "code",
   "source": [
    "prediction_length = 8\n",
    "train_data, test_data = data.train_test_split(prediction_length=prediction_length)"
   ],
   "id": "b8c224233d9934e4",
   "outputs": [],
   "execution_count": 5
  },
  {
   "metadata": {
    "ExecuteTime": {
     "end_time": "2025-05-17T14:41:41.729044Z",
     "start_time": "2025-05-17T14:41:35.994023Z"
    }
   },
   "cell_type": "code",
   "source": [
    "predictor = TimeSeriesPredictor(\n",
    "    prediction_length=prediction_length,\n",
    "    target=\"unit_sales\",\n",
    "    known_covariates_names=[\"scaled_price\", \"promotion_email\", \"promotion_homepage\"],\n",
    ").fit(\n",
    "    train_data,\n",
    "    hyperparameters={\n",
    "        \"Chronos\": [\n",
    "            # Zero-shot model WITHOUT covariates\n",
    "            {\n",
    "                \"model_path\": \"bolt_small\",\n",
    "                \"ag_args\": {\"name_suffix\": \"ZeroShot\"},\n",
    "            },\n",
    "            # Chronos-Bolt (Small) combined with CatBoost on covariates\n",
    "            {\n",
    "                \"model_path\": \"bolt_small\",\n",
    "                \"covariate_regressor\": \"CAT\",\n",
    "                \"target_scaler\": \"standard\",\n",
    "                \"ag_args\": {\"name_suffix\": \"WithRegressor\"},\n",
    "            },\n",
    "        ],\n",
    "    },\n",
    "    enable_ensemble=False,\n",
    "    time_limit=60,\n",
    ")"
   ],
   "id": "59eb74d9b3d8e67e",
   "outputs": [
    {
     "name": "stderr",
     "output_type": "stream",
     "text": [
      "Beginning AutoGluon training... Time limit = 60s\n",
      "AutoGluon will save models to '/home/antares/Documents/PoliTo/Fall_24/DeepNLP/DeepNLP_Forecasting/AutogluonModels/ag-20250517_144135'\n",
      "=================== System Info ===================\n",
      "AutoGluon Version:  1.2\n",
      "Python Version:     3.12.9\n",
      "Operating System:   Linux\n",
      "Platform Machine:   x86_64\n",
      "Platform Version:   #202412060638~1743109366~22.04~1fce33b SMP PREEMPT_DYNAMIC Thu M\n",
      "CPU Count:          16\n",
      "GPU Count:          1\n",
      "Memory Avail:       3.70 GB / 15.32 GB (24.1%)\n",
      "Disk Space Avail:   320.51 GB / 441.91 GB (72.5%)\n",
      "===================================================\n",
      "\n",
      "Fitting with arguments:\n",
      "{'enable_ensemble': False,\n",
      " 'eval_metric': WQL,\n",
      " 'hyperparameters': {'Chronos': [{'ag_args': {'name_suffix': 'ZeroShot'},\n",
      "                                  'model_path': 'bolt_small'},\n",
      "                                 {'ag_args': {'name_suffix': 'WithRegressor'},\n",
      "                                  'covariate_regressor': 'CAT',\n",
      "                                  'model_path': 'bolt_small',\n",
      "                                  'target_scaler': 'standard'}]},\n",
      " 'known_covariates_names': ['scaled_price',\n",
      "                            'promotion_email',\n",
      "                            'promotion_homepage'],\n",
      " 'num_val_windows': 1,\n",
      " 'prediction_length': 8,\n",
      " 'quantile_levels': [0.1, 0.2, 0.3, 0.4, 0.5, 0.6, 0.7, 0.8, 0.9],\n",
      " 'random_seed': 123,\n",
      " 'refit_every_n_windows': 1,\n",
      " 'refit_full': False,\n",
      " 'skip_model_selection': False,\n",
      " 'target': 'unit_sales',\n",
      " 'time_limit': 60,\n",
      " 'verbosity': 2}\n",
      "\n",
      "Inferred time series frequency: 'W-MON'\n",
      "Provided train_data has 7337 rows (NaN fraction=6.6%), 319 time series. Median time series length is 23 (min=23, max=23). \n",
      "\n",
      "Provided data contains following columns:\n",
      "\ttarget: 'unit_sales'\n",
      "\tknown_covariates:\n",
      "\t\tcategorical:        []\n",
      "\t\tcontinuous (float): ['scaled_price', 'promotion_email', 'promotion_homepage']\n",
      "\n",
      "To learn how to fix incorrectly inferred types, please see documentation for TimeSeriesPredictor.fit\n",
      "\n",
      "AutoGluon will gauge predictive performance using evaluation metric: 'WQL'\n",
      "\tThis metric's sign has been flipped to adhere to being higher_is_better. The metric score can be multiplied by -1 to get the metric value.\n",
      "===================================================\n",
      "\n",
      "Starting training. Start time is 2025-05-17 16:41:36\n",
      "Models that will be trained: ['ChronosZeroShot[bolt_small]', 'ChronosWithRegressor[bolt_small]']\n",
      "Training timeseries model ChronosZeroShot[bolt_small]. Training for up to 30.0s of the 59.9s of remaining time.\n",
      "\t-0.4523       = Validation score (-WQL)\n",
      "\t2.74    s     = Training runtime\n",
      "\t1.56    s     = Validation (prediction) runtime\n",
      "Training timeseries model ChronosWithRegressor[bolt_small]. Training for up to 55.6s of the 55.6s of remaining time.\n",
      "\t-0.3580       = Validation score (-WQL)\n",
      "\t0.44    s     = Training runtime\n",
      "\t0.87    s     = Validation (prediction) runtime\n",
      "Training complete. Models trained: ['ChronosZeroShot[bolt_small]', 'ChronosWithRegressor[bolt_small]']\n",
      "Total runtime: 5.65 s\n",
      "Best model: ChronosWithRegressor[bolt_small]\n",
      "Best model score: -0.3580\n"
     ]
    }
   ],
   "execution_count": 6
  },
  {
   "metadata": {
    "ExecuteTime": {
     "end_time": "2025-05-17T14:41:56.149612Z",
     "start_time": "2025-05-17T14:41:54.145215Z"
    }
   },
   "cell_type": "code",
   "source": "predictor.leaderboard(test_data)",
   "id": "966c99f1876d1091",
   "outputs": [
    {
     "name": "stderr",
     "output_type": "stream",
     "text": [
      "Additional data provided, testing on additional data. Resulting leaderboard will be sorted according to test score (`score_test`).\n"
     ]
    },
    {
     "data": {
      "text/plain": [
       "                              model  score_test  score_val  pred_time_test  \\\n",
       "0  ChronosWithRegressor[bolt_small]   -0.268969  -0.358048        0.978846   \n",
       "1       ChronosZeroShot[bolt_small]   -0.318562  -0.452296        0.956743   \n",
       "\n",
       "   pred_time_val  fit_time_marginal  fit_order  \n",
       "0       0.872210           0.437420          2  \n",
       "1       1.556524           2.735768          1  "
      ],
      "text/html": [
       "<div>\n",
       "<style scoped>\n",
       "    .dataframe tbody tr th:only-of-type {\n",
       "        vertical-align: middle;\n",
       "    }\n",
       "\n",
       "    .dataframe tbody tr th {\n",
       "        vertical-align: top;\n",
       "    }\n",
       "\n",
       "    .dataframe thead th {\n",
       "        text-align: right;\n",
       "    }\n",
       "</style>\n",
       "<table border=\"1\" class=\"dataframe\">\n",
       "  <thead>\n",
       "    <tr style=\"text-align: right;\">\n",
       "      <th></th>\n",
       "      <th>model</th>\n",
       "      <th>score_test</th>\n",
       "      <th>score_val</th>\n",
       "      <th>pred_time_test</th>\n",
       "      <th>pred_time_val</th>\n",
       "      <th>fit_time_marginal</th>\n",
       "      <th>fit_order</th>\n",
       "    </tr>\n",
       "  </thead>\n",
       "  <tbody>\n",
       "    <tr>\n",
       "      <th>0</th>\n",
       "      <td>ChronosWithRegressor[bolt_small]</td>\n",
       "      <td>-0.268969</td>\n",
       "      <td>-0.358048</td>\n",
       "      <td>0.978846</td>\n",
       "      <td>0.872210</td>\n",
       "      <td>0.437420</td>\n",
       "      <td>2</td>\n",
       "    </tr>\n",
       "    <tr>\n",
       "      <th>1</th>\n",
       "      <td>ChronosZeroShot[bolt_small]</td>\n",
       "      <td>-0.318562</td>\n",
       "      <td>-0.452296</td>\n",
       "      <td>0.956743</td>\n",
       "      <td>1.556524</td>\n",
       "      <td>2.735768</td>\n",
       "      <td>1</td>\n",
       "    </tr>\n",
       "  </tbody>\n",
       "</table>\n",
       "</div>"
      ]
     },
     "execution_count": 7,
     "metadata": {},
     "output_type": "execute_result"
    }
   ],
   "execution_count": 7
  },
  {
   "metadata": {
    "ExecuteTime": {
     "end_time": "2025-05-17T14:43:32.993514Z",
     "start_time": "2025-05-17T14:43:32.897783Z"
    }
   },
   "cell_type": "code",
   "source": [
    "predictions3 = predictor.predict(\n",
    "    test_data.iloc[: -prediction_length], known_covariates=test_data.iloc[-prediction_length:])"
   ],
   "id": "1aef4f7bf359444c",
   "outputs": [
    {
     "ename": "ValueError",
     "evalue": "known_covariates are missing information for the following item_ids: ['1062_101', '1062_102', '1062_104', '1062_106', '1062_108', '1062_109', ...].",
     "output_type": "error",
     "traceback": [
      "\u001B[31m---------------------------------------------------------------------------\u001B[39m",
      "\u001B[31mValueError\u001B[39m                                Traceback (most recent call last)",
      "\u001B[36mCell\u001B[39m\u001B[36m \u001B[39m\u001B[32mIn[8]\u001B[39m\u001B[32m, line 1\u001B[39m\n\u001B[32m----> \u001B[39m\u001B[32m1\u001B[39m predictions3 = predictor.predict(\n\u001B[32m      2\u001B[39m     test_data.iloc[: -prediction_length], known_covariates=test_data.iloc[-prediction_length:])\n",
      "\u001B[36mFile \u001B[39m\u001B[32m~/anaconda3/envs/deepnlp/lib/python3.12/site-packages/autogluon/timeseries/predictor.py:856\u001B[39m, in \u001B[36mTimeSeriesPredictor.predict\u001B[39m\u001B[34m(self, data, known_covariates, model, use_cache, random_seed)\u001B[39m\n\u001B[32m    854\u001B[39m \u001B[38;5;28;01mif\u001B[39;00m known_covariates \u001B[38;5;129;01mis\u001B[39;00m \u001B[38;5;129;01mnot\u001B[39;00m \u001B[38;5;28;01mNone\u001B[39;00m:\n\u001B[32m    855\u001B[39m     known_covariates = \u001B[38;5;28mself\u001B[39m._to_data_frame(known_covariates)\n\u001B[32m--> \u001B[39m\u001B[32m856\u001B[39m predictions = \u001B[38;5;28mself\u001B[39m._learner.predict(\n\u001B[32m    857\u001B[39m     data,\n\u001B[32m    858\u001B[39m     known_covariates=known_covariates,\n\u001B[32m    859\u001B[39m     model=model,\n\u001B[32m    860\u001B[39m     use_cache=use_cache,\n\u001B[32m    861\u001B[39m     random_seed=random_seed,\n\u001B[32m    862\u001B[39m )\n\u001B[32m    863\u001B[39m \u001B[38;5;28;01mreturn\u001B[39;00m predictions.reindex(original_item_id_order, level=ITEMID)\n",
      "\u001B[36mFile \u001B[39m\u001B[32m~/anaconda3/envs/deepnlp/lib/python3.12/site-packages/autogluon/timeseries/learner.py:187\u001B[39m, in \u001B[36mTimeSeriesLearner.predict\u001B[39m\u001B[34m(self, data, known_covariates, model, use_cache, random_seed, **kwargs)\u001B[39m\n\u001B[32m    185\u001B[39m data = \u001B[38;5;28mself\u001B[39m.feature_generator.transform(data)\n\u001B[32m    186\u001B[39m known_covariates = \u001B[38;5;28mself\u001B[39m.feature_generator.transform_future_known_covariates(known_covariates)\n\u001B[32m--> \u001B[39m\u001B[32m187\u001B[39m known_covariates = \u001B[38;5;28mself\u001B[39m._align_covariates_with_forecast_index(known_covariates=known_covariates, data=data)\n\u001B[32m    188\u001B[39m \u001B[38;5;28;01mreturn\u001B[39;00m \u001B[38;5;28mself\u001B[39m.load_trainer().predict(\n\u001B[32m    189\u001B[39m     data=data,\n\u001B[32m    190\u001B[39m     known_covariates=known_covariates,\n\u001B[32m   (...)\u001B[39m\u001B[32m    194\u001B[39m     **kwargs,\n\u001B[32m    195\u001B[39m )\n",
      "\u001B[36mFile \u001B[39m\u001B[32m~/anaconda3/envs/deepnlp/lib/python3.12/site-packages/autogluon/timeseries/learner.py:160\u001B[39m, in \u001B[36mTimeSeriesLearner._align_covariates_with_forecast_index\u001B[39m\u001B[34m(self, known_covariates, data)\u001B[39m\n\u001B[32m    158\u001B[39m missing_item_ids = data.item_ids.difference(known_covariates.item_ids)\n\u001B[32m    159\u001B[39m \u001B[38;5;28;01mif\u001B[39;00m \u001B[38;5;28mlen\u001B[39m(missing_item_ids) > \u001B[32m0\u001B[39m:\n\u001B[32m--> \u001B[39m\u001B[32m160\u001B[39m     \u001B[38;5;28;01mraise\u001B[39;00m \u001B[38;5;167;01mValueError\u001B[39;00m(\n\u001B[32m    161\u001B[39m         \u001B[33mf\u001B[39m\u001B[33m\"\u001B[39m\u001B[33mknown_covariates are missing information for the following item_ids: \u001B[39m\u001B[38;5;132;01m{\u001B[39;00mreprlib.repr(missing_item_ids.to_list())\u001B[38;5;132;01m}\u001B[39;00m\u001B[33m.\u001B[39m\u001B[33m\"\u001B[39m\n\u001B[32m    162\u001B[39m     )\n\u001B[32m    164\u001B[39m forecast_index = get_forecast_horizon_index_ts_dataframe(\n\u001B[32m    165\u001B[39m     data, prediction_length=\u001B[38;5;28mself\u001B[39m.prediction_length, freq=\u001B[38;5;28mself\u001B[39m.freq\n\u001B[32m    166\u001B[39m )\n\u001B[32m    167\u001B[39m \u001B[38;5;28;01mtry\u001B[39;00m:\n",
      "\u001B[31mValueError\u001B[39m: known_covariates are missing information for the following item_ids: ['1062_101', '1062_102', '1062_104', '1062_106', '1062_108', '1062_109', ...]."
     ]
    }
   ],
   "execution_count": 8
  },
  {
   "metadata": {
    "ExecuteTime": {
     "end_time": "2025-05-17T14:56:25.503637Z",
     "start_time": "2025-05-17T14:56:25.496168Z"
    }
   },
   "cell_type": "code",
   "source": "test_data.loc[:,[\"scaled_price\", \"promotion_email\", \"promotion_homepage\"]]",
   "id": "38f6eb1ce67f3c2d",
   "outputs": [
    {
     "data": {
      "text/plain": [
       "                     scaled_price  promotion_email  promotion_homepage\n",
       "item_id  timestamp                                                    \n",
       "1062_101 2018-01-01      0.879130              0.0                 0.0\n",
       "         2018-01-08      0.994517              0.0                 0.0\n",
       "         2018-01-15      1.005513              0.0                 0.0\n",
       "         2018-01-22      1.000000              0.0                 0.0\n",
       "         2018-01-29      0.883309              0.0                 0.0\n",
       "...                           ...              ...                 ...\n",
       "2956_108 2018-07-02      1.001721              0.0                 0.0\n",
       "         2018-07-09      0.998282              0.0                 0.0\n",
       "         2018-07-16      0.996570              0.0                 0.0\n",
       "         2018-07-23      1.000000              0.0                 0.0\n",
       "         2018-07-30      1.001718              0.0                 0.0\n",
       "\n",
       "[9889 rows x 3 columns]"
      ],
      "text/html": [
       "<div>\n",
       "<style scoped>\n",
       "    .dataframe tbody tr th:only-of-type {\n",
       "        vertical-align: middle;\n",
       "    }\n",
       "\n",
       "    .dataframe tbody tr th {\n",
       "        vertical-align: top;\n",
       "    }\n",
       "\n",
       "    .dataframe thead th {\n",
       "        text-align: right;\n",
       "    }\n",
       "</style>\n",
       "<table border=\"1\" class=\"dataframe\">\n",
       "  <thead>\n",
       "    <tr style=\"text-align: right;\">\n",
       "      <th></th>\n",
       "      <th></th>\n",
       "      <th>scaled_price</th>\n",
       "      <th>promotion_email</th>\n",
       "      <th>promotion_homepage</th>\n",
       "    </tr>\n",
       "    <tr>\n",
       "      <th>item_id</th>\n",
       "      <th>timestamp</th>\n",
       "      <th></th>\n",
       "      <th></th>\n",
       "      <th></th>\n",
       "    </tr>\n",
       "  </thead>\n",
       "  <tbody>\n",
       "    <tr>\n",
       "      <th rowspan=\"5\" valign=\"top\">1062_101</th>\n",
       "      <th>2018-01-01</th>\n",
       "      <td>0.879130</td>\n",
       "      <td>0.0</td>\n",
       "      <td>0.0</td>\n",
       "    </tr>\n",
       "    <tr>\n",
       "      <th>2018-01-08</th>\n",
       "      <td>0.994517</td>\n",
       "      <td>0.0</td>\n",
       "      <td>0.0</td>\n",
       "    </tr>\n",
       "    <tr>\n",
       "      <th>2018-01-15</th>\n",
       "      <td>1.005513</td>\n",
       "      <td>0.0</td>\n",
       "      <td>0.0</td>\n",
       "    </tr>\n",
       "    <tr>\n",
       "      <th>2018-01-22</th>\n",
       "      <td>1.000000</td>\n",
       "      <td>0.0</td>\n",
       "      <td>0.0</td>\n",
       "    </tr>\n",
       "    <tr>\n",
       "      <th>2018-01-29</th>\n",
       "      <td>0.883309</td>\n",
       "      <td>0.0</td>\n",
       "      <td>0.0</td>\n",
       "    </tr>\n",
       "    <tr>\n",
       "      <th>...</th>\n",
       "      <th>...</th>\n",
       "      <td>...</td>\n",
       "      <td>...</td>\n",
       "      <td>...</td>\n",
       "    </tr>\n",
       "    <tr>\n",
       "      <th rowspan=\"5\" valign=\"top\">2956_108</th>\n",
       "      <th>2018-07-02</th>\n",
       "      <td>1.001721</td>\n",
       "      <td>0.0</td>\n",
       "      <td>0.0</td>\n",
       "    </tr>\n",
       "    <tr>\n",
       "      <th>2018-07-09</th>\n",
       "      <td>0.998282</td>\n",
       "      <td>0.0</td>\n",
       "      <td>0.0</td>\n",
       "    </tr>\n",
       "    <tr>\n",
       "      <th>2018-07-16</th>\n",
       "      <td>0.996570</td>\n",
       "      <td>0.0</td>\n",
       "      <td>0.0</td>\n",
       "    </tr>\n",
       "    <tr>\n",
       "      <th>2018-07-23</th>\n",
       "      <td>1.000000</td>\n",
       "      <td>0.0</td>\n",
       "      <td>0.0</td>\n",
       "    </tr>\n",
       "    <tr>\n",
       "      <th>2018-07-30</th>\n",
       "      <td>1.001718</td>\n",
       "      <td>0.0</td>\n",
       "      <td>0.0</td>\n",
       "    </tr>\n",
       "  </tbody>\n",
       "</table>\n",
       "<p>9889 rows × 3 columns</p>\n",
       "</div>"
      ]
     },
     "execution_count": 11,
     "metadata": {},
     "output_type": "execute_result"
    }
   ],
   "execution_count": 11
  },
  {
   "metadata": {},
   "cell_type": "code",
   "outputs": [],
   "execution_count": null,
   "source": "",
   "id": "316dfba3f149ee8f"
  }
 ],
 "metadata": {
  "kernelspec": {
   "display_name": "Python 3",
   "language": "python",
   "name": "python3"
  },
  "language_info": {
   "codemirror_mode": {
    "name": "ipython",
    "version": 2
   },
   "file_extension": ".py",
   "mimetype": "text/x-python",
   "name": "python",
   "nbconvert_exporter": "python",
   "pygments_lexer": "ipython2",
   "version": "2.7.6"
  }
 },
 "nbformat": 4,
 "nbformat_minor": 5
}

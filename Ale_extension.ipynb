{
 "cells": [
  {
   "cell_type": "code",
   "execution_count": 3,
   "metadata": {},
   "outputs": [
    {
     "data": {
      "text/plain": [
       "'hola'"
      ]
     },
     "execution_count": 3,
     "metadata": {},
     "output_type": "execute_result"
    }
   ],
   "source": [
    "\"hola\""
   ]
  },
  {
   "cell_type": "code",
   "execution_count": 50,
   "metadata": {},
   "outputs": [
    {
     "name": "stdout",
     "output_type": "stream",
     "text": [
      "2.5.1\n",
      "12.6\n"
     ]
    }
   ],
   "source": [
    "#Conda environment python 3.12.10 chronos_project\n",
    "#Run as administrator\n",
    "\n",
    "#pip install datasets\n",
    "import datasets\n",
    "import pandas as pd \n",
    "from IPython.display import display\n",
    "\n",
    "#In Anaconda prompt: conda activate chronos_project\\ conda install matplotlib\n",
    "import matplotlib.pyplot as plt\n",
    "#para exportar el environment : (dnlp_p) C:\\Users\\alejandrs>pip freeze > requirements.txt\n",
    "\n",
    "#Database libraries\n",
    "import torch\n",
    "from chronos import BaseChronosPipeline\n",
    "from autogluon.timeseries import TimeSeriesDataFrame, TimeSeriesPredictor\n",
    "import random as rn\n",
    "\n",
    "#!pip install seaborn\n",
    "import seaborn as sns\n",
    "from sklearn.model_selection import train_test_split\n",
    "\n",
    "#Progress bar\n",
    "from tqdm import tqdm\n",
    "print(torch.__version__)\n",
    "print(torch.version.cuda)\n",
    "\n",
    "#Function file\n",
    "from utils import functions as fc"
   ]
  },
  {
   "cell_type": "code",
   "execution_count": 5,
   "metadata": {},
   "outputs": [
    {
     "name": "stderr",
     "output_type": "stream",
     "text": [
      "c:\\Users\\alejandrs\\anaconda3\\envs\\chronosEnv\\Lib\\site-packages\\fs\\__init__.py:4: UserWarning: pkg_resources is deprecated as an API. See https://setuptools.pypa.io/en/latest/pkg_resources.html. The pkg_resources package is slated for removal as early as 2025-11-30. Refrain from using this package or pin to Setuptools<81.\n",
      "  __import__(\"pkg_resources\").declare_namespace(__name__)  # type: ignore\n"
     ]
    }
   ],
   "source": [
    "from statsforecast.models import SeasonalNaive\n"
   ]
  },
  {
   "cell_type": "markdown",
   "metadata": {},
   "source": [
    "# M4 dataset"
   ]
  },
  {
   "cell_type": "markdown",
   "metadata": {},
   "source": [
    "The schema from the dataset follows the next structure: \n",
    "\n",
    "* Each dataset row corresponds to a single (univariate or multivariate) time series.\n",
    "\n",
    "* There exists one column with name id and type string that contains the unique identifier of each time series.\n",
    "\n",
    "* There exists one column of type Sequence with dtype timestamp[ms]. This column contains the timestamps of the observations. Timestamps are guaranteed to have a regular frequency that can be obtained with pandas.infer_freq.\n",
    "\n",
    "* There exists at least one column of type Sequence with numeric (float, double, or int) dtype. These columns can be interpreted as target time series.\n",
    "\n",
    "* For each row, all columns of type Sequence have same length. Remaining columns of types other than Sequence (e.g., string or float) can be interpreted as static covariates."
   ]
  },
  {
   "cell_type": "markdown",
   "metadata": {},
   "source": [
    "Database M4: \n",
    "This dataset is a collection of 100,000 time series used for the fourth edition of the Makridakis forecasting Competition. The M4 dataset consists of time series of yearly, quarterly, monthly and other (weekly, daily and hourly) data, which were used as part of the training corpus of the Chronos model.\n",
    "\n",
    "https://paperswithcode.com/dataset/m4"
   ]
  },
  {
   "cell_type": "code",
   "execution_count": 6,
   "metadata": {},
   "outputs": [],
   "source": [
    "def plot_timeseries_forecasting(historical_data, low, median, high, start_forecasting_date=-1,\n",
    "                                prediction_interval = .8, prediction_length = 12,\n",
    "                                figsize=(20,5)):\n",
    "    years_data = historical_data.index\n",
    "    start = pd.date_range(years_data[-1], periods=2, freq=\"MS\")[-1] if start_forecasting_date == -1 else start_forecasting_date\n",
    "    forecast_index = pd.date_range(start=start,\n",
    "                                   periods=prediction_length, freq=\"MS\")\n",
    "\n",
    "    plt.figure(figsize=figsize)\n",
    "    plt.plot(years_data, historical_data,\n",
    "             color=\"royalblue\", label=\"Historical data\")\n",
    "    plt.plot(forecast_index, median, color=\"tomato\", label=\"Median forecast\")\n",
    "    plt.fill_between(forecast_index, low, high, color=\"tomato\", alpha=0.3,\n",
    "                     label=f\"{prediction_interval * 100}% prediction interval\")\n",
    "\n",
    "    plt.axvline(x=start, color='gray', linestyle='--', linewidth=2)\n",
    "    plt.legend()\n",
    "    plt.grid()\n",
    "    plt.show()"
   ]
  },
  {
   "cell_type": "code",
   "execution_count": 7,
   "metadata": {},
   "outputs": [
    {
     "name": "stderr",
     "output_type": "stream",
     "text": [
      "Using the latest cached version of the dataset since autogluon/chronos_datasets couldn't be found on the Hugging Face Hub\n",
      "Found the latest cached dataset configuration 'm4_daily' at C:\\Users\\alejandrs\\.cache\\huggingface\\datasets\\autogluon___chronos_datasets\\m4_daily\\0.0.0\\eeecad0b82a8c237e212ce6f8d1abecb513e2cec (last modified on Fri Apr 25 17:29:19 2025).\n"
     ]
    }
   ],
   "source": [
    "ds = datasets.load_dataset(\"autogluon/chronos_datasets\", \"m4_daily\", split=\"train\")\n",
    "ds.set_format(\"numpy\")  # sequences returned as numpy arrays"
   ]
  },
  {
   "cell_type": "code",
   "execution_count": 8,
   "metadata": {},
   "outputs": [
    {
     "name": "stdout",
     "output_type": "stream",
     "text": [
      "Dataset({\n",
      "    features: ['id', 'timestamp', 'target', 'category'],\n",
      "    num_rows: 4227\n",
      "})\n"
     ]
    }
   ],
   "source": [
    "print(ds)"
   ]
  },
  {
   "cell_type": "code",
   "execution_count": 9,
   "metadata": {},
   "outputs": [
    {
     "name": "stdout",
     "output_type": "stream",
     "text": [
      "{'id': Value(dtype='string', id=None), 'timestamp': Sequence(feature=Value(dtype='timestamp[ms]', id=None), length=-1, id=None), 'target': Sequence(feature=Value(dtype='float64', id=None), length=-1, id=None), 'category': Value(dtype='string', id=None)}\n"
     ]
    }
   ],
   "source": [
    "print(ds.features)"
   ]
  },
  {
   "cell_type": "code",
   "execution_count": 10,
   "metadata": {},
   "outputs": [],
   "source": [
    "ds.set_format(\"numpy\")  #sequences returned as numpy arrays"
   ]
  },
  {
   "cell_type": "code",
   "execution_count": 11,
   "metadata": {},
   "outputs": [
    {
     "name": "stdout",
     "output_type": "stream",
     "text": [
      "Dataset({\n",
      "    features: ['id', 'timestamp', 'target', 'category'],\n",
      "    num_rows: 4227\n",
      "})\n"
     ]
    }
   ],
   "source": [
    "print(ds)"
   ]
  },
  {
   "cell_type": "code",
   "execution_count": 12,
   "metadata": {},
   "outputs": [
    {
     "data": {
      "text/plain": [
       "{'id': 'T000600',\n",
       " 'timestamp': array(['2012-03-30T12:00:00.000', '2012-03-31T12:00:00.000',\n",
       "        '2012-04-01T12:00:00.000', ..., '2016-03-10T12:00:00.000',\n",
       "        '2016-03-11T12:00:00.000', '2016-03-12T12:00:00.000'],\n",
       "       dtype='datetime64[ms]'),\n",
       " 'target': array([2668.89, 2675.19, 2713.79, ..., 1294.4 , 1262.09, 1270.44],\n",
       "       dtype=float32),\n",
       " 'category': 'Micro'}"
      ]
     },
     "execution_count": 12,
     "metadata": {},
     "output_type": "execute_result"
    }
   ],
   "source": [
    "ds[600]"
   ]
  },
  {
   "cell_type": "code",
   "execution_count": 13,
   "metadata": {},
   "outputs": [],
   "source": [
    "def to_pandas(ds: datasets.Dataset) -> \"pd.DataFrame\":\n",
    "    \"\"\"Convert dataset to long data frame format.\"\"\"\n",
    "    sequence_columns = [col for col in ds.features if isinstance(ds.features[col], datasets.Sequence)]\n",
    "    return ds.to_pandas().explode(sequence_columns).infer_objects()\n"
   ]
  },
  {
   "cell_type": "code",
   "execution_count": 14,
   "metadata": {},
   "outputs": [],
   "source": [
    "m4_df= to_pandas(ds)"
   ]
  },
  {
   "cell_type": "markdown",
   "metadata": {},
   "source": [
    "## EDA"
   ]
  },
  {
   "cell_type": "code",
   "execution_count": 15,
   "metadata": {},
   "outputs": [
    {
     "data": {
      "text/html": [
       "<div>\n",
       "<style scoped>\n",
       "    .dataframe tbody tr th:only-of-type {\n",
       "        vertical-align: middle;\n",
       "    }\n",
       "\n",
       "    .dataframe tbody tr th {\n",
       "        vertical-align: top;\n",
       "    }\n",
       "\n",
       "    .dataframe thead th {\n",
       "        text-align: right;\n",
       "    }\n",
       "</style>\n",
       "<table border=\"1\" class=\"dataframe\">\n",
       "  <thead>\n",
       "    <tr style=\"text-align: right;\">\n",
       "      <th></th>\n",
       "      <th>id</th>\n",
       "      <th>timestamp</th>\n",
       "      <th>target</th>\n",
       "      <th>category</th>\n",
       "    </tr>\n",
       "  </thead>\n",
       "  <tbody>\n",
       "    <tr>\n",
       "      <th>0</th>\n",
       "      <td>T000000</td>\n",
       "      <td>1994-03-01 12:00:00</td>\n",
       "      <td>1017.1</td>\n",
       "      <td>Macro</td>\n",
       "    </tr>\n",
       "    <tr>\n",
       "      <th>0</th>\n",
       "      <td>T000000</td>\n",
       "      <td>1994-03-02 12:00:00</td>\n",
       "      <td>1019.3</td>\n",
       "      <td>Macro</td>\n",
       "    </tr>\n",
       "    <tr>\n",
       "      <th>0</th>\n",
       "      <td>T000000</td>\n",
       "      <td>1994-03-03 12:00:00</td>\n",
       "      <td>1017.0</td>\n",
       "      <td>Macro</td>\n",
       "    </tr>\n",
       "    <tr>\n",
       "      <th>0</th>\n",
       "      <td>T000000</td>\n",
       "      <td>1994-03-04 12:00:00</td>\n",
       "      <td>1019.2</td>\n",
       "      <td>Macro</td>\n",
       "    </tr>\n",
       "    <tr>\n",
       "      <th>0</th>\n",
       "      <td>T000000</td>\n",
       "      <td>1994-03-05 12:00:00</td>\n",
       "      <td>1018.7</td>\n",
       "      <td>Macro</td>\n",
       "    </tr>\n",
       "    <tr>\n",
       "      <th>0</th>\n",
       "      <td>T000000</td>\n",
       "      <td>1994-03-06 12:00:00</td>\n",
       "      <td>1015.6</td>\n",
       "      <td>Macro</td>\n",
       "    </tr>\n",
       "    <tr>\n",
       "      <th>0</th>\n",
       "      <td>T000000</td>\n",
       "      <td>1994-03-07 12:00:00</td>\n",
       "      <td>1018.5</td>\n",
       "      <td>Macro</td>\n",
       "    </tr>\n",
       "    <tr>\n",
       "      <th>0</th>\n",
       "      <td>T000000</td>\n",
       "      <td>1994-03-08 12:00:00</td>\n",
       "      <td>1018.3</td>\n",
       "      <td>Macro</td>\n",
       "    </tr>\n",
       "    <tr>\n",
       "      <th>0</th>\n",
       "      <td>T000000</td>\n",
       "      <td>1994-03-09 12:00:00</td>\n",
       "      <td>1018.4</td>\n",
       "      <td>Macro</td>\n",
       "    </tr>\n",
       "    <tr>\n",
       "      <th>0</th>\n",
       "      <td>T000000</td>\n",
       "      <td>1994-03-10 12:00:00</td>\n",
       "      <td>1021.5</td>\n",
       "      <td>Macro</td>\n",
       "    </tr>\n",
       "  </tbody>\n",
       "</table>\n",
       "</div>"
      ],
      "text/plain": [
       "        id           timestamp  target category\n",
       "0  T000000 1994-03-01 12:00:00  1017.1    Macro\n",
       "0  T000000 1994-03-02 12:00:00  1019.3    Macro\n",
       "0  T000000 1994-03-03 12:00:00  1017.0    Macro\n",
       "0  T000000 1994-03-04 12:00:00  1019.2    Macro\n",
       "0  T000000 1994-03-05 12:00:00  1018.7    Macro\n",
       "0  T000000 1994-03-06 12:00:00  1015.6    Macro\n",
       "0  T000000 1994-03-07 12:00:00  1018.5    Macro\n",
       "0  T000000 1994-03-08 12:00:00  1018.3    Macro\n",
       "0  T000000 1994-03-09 12:00:00  1018.4    Macro\n",
       "0  T000000 1994-03-10 12:00:00  1021.5    Macro"
      ]
     },
     "execution_count": 15,
     "metadata": {},
     "output_type": "execute_result"
    }
   ],
   "source": [
    "m4_df.head(10)"
   ]
  },
  {
   "cell_type": "code",
   "execution_count": 16,
   "metadata": {},
   "outputs": [
    {
     "data": {
      "text/plain": [
       "id                   object\n",
       "timestamp    datetime64[ns]\n",
       "target              float64\n",
       "category             object\n",
       "dtype: object"
      ]
     },
     "execution_count": 16,
     "metadata": {},
     "output_type": "execute_result"
    }
   ],
   "source": [
    "m4_df.dtypes \n",
    "#The datatype od the timestamp is adequate just as target"
   ]
  },
  {
   "cell_type": "code",
   "execution_count": 17,
   "metadata": {},
   "outputs": [
    {
     "data": {
      "text/html": [
       "<div>\n",
       "<style scoped>\n",
       "    .dataframe tbody tr th:only-of-type {\n",
       "        vertical-align: middle;\n",
       "    }\n",
       "\n",
       "    .dataframe tbody tr th {\n",
       "        vertical-align: top;\n",
       "    }\n",
       "\n",
       "    .dataframe thead th {\n",
       "        text-align: right;\n",
       "    }\n",
       "</style>\n",
       "<table border=\"1\" class=\"dataframe\">\n",
       "  <thead>\n",
       "    <tr style=\"text-align: right;\">\n",
       "      <th></th>\n",
       "      <th>id</th>\n",
       "      <th>timestamp</th>\n",
       "      <th>target</th>\n",
       "      <th>category</th>\n",
       "    </tr>\n",
       "  </thead>\n",
       "  <tbody>\n",
       "    <tr>\n",
       "      <th>count</th>\n",
       "      <td>10023836</td>\n",
       "      <td>10023836</td>\n",
       "      <td>1.002384e+07</td>\n",
       "      <td>10023836</td>\n",
       "    </tr>\n",
       "    <tr>\n",
       "      <th>unique</th>\n",
       "      <td>4227</td>\n",
       "      <td>NaN</td>\n",
       "      <td>NaN</td>\n",
       "      <td>6</td>\n",
       "    </tr>\n",
       "    <tr>\n",
       "      <th>top</th>\n",
       "      <td>T004098</td>\n",
       "      <td>NaN</td>\n",
       "      <td>NaN</td>\n",
       "      <td>Finance</td>\n",
       "    </tr>\n",
       "    <tr>\n",
       "      <th>freq</th>\n",
       "      <td>9933</td>\n",
       "      <td>NaN</td>\n",
       "      <td>NaN</td>\n",
       "      <td>5088053</td>\n",
       "    </tr>\n",
       "    <tr>\n",
       "      <th>mean</th>\n",
       "      <td>NaN</td>\n",
       "      <td>2006-12-26 02:30:14.423939328</td>\n",
       "      <td>5.691850e+03</td>\n",
       "      <td>NaN</td>\n",
       "    </tr>\n",
       "    <tr>\n",
       "      <th>min</th>\n",
       "      <td>NaN</td>\n",
       "      <td>1906-06-19 12:00:00</td>\n",
       "      <td>1.500000e+01</td>\n",
       "      <td>NaN</td>\n",
       "    </tr>\n",
       "    <tr>\n",
       "      <th>25%</th>\n",
       "      <td>NaN</td>\n",
       "      <td>2004-07-19 12:00:00</td>\n",
       "      <td>1.518050e+03</td>\n",
       "      <td>NaN</td>\n",
       "    </tr>\n",
       "    <tr>\n",
       "      <th>50%</th>\n",
       "      <td>NaN</td>\n",
       "      <td>2007-10-26 12:00:00</td>\n",
       "      <td>5.230500e+03</td>\n",
       "      <td>NaN</td>\n",
       "    </tr>\n",
       "    <tr>\n",
       "      <th>75%</th>\n",
       "      <td>NaN</td>\n",
       "      <td>2010-10-16 12:00:00</td>\n",
       "      <td>9.003000e+03</td>\n",
       "      <td>NaN</td>\n",
       "    </tr>\n",
       "    <tr>\n",
       "      <th>max</th>\n",
       "      <td>NaN</td>\n",
       "      <td>2017-11-16 12:00:00</td>\n",
       "      <td>3.520000e+05</td>\n",
       "      <td>NaN</td>\n",
       "    </tr>\n",
       "    <tr>\n",
       "      <th>std</th>\n",
       "      <td>NaN</td>\n",
       "      <td>NaN</td>\n",
       "      <td>4.246910e+03</td>\n",
       "      <td>NaN</td>\n",
       "    </tr>\n",
       "  </tbody>\n",
       "</table>\n",
       "</div>"
      ],
      "text/plain": [
       "              id                      timestamp        target  category\n",
       "count   10023836                       10023836  1.002384e+07  10023836\n",
       "unique      4227                            NaN           NaN         6\n",
       "top      T004098                            NaN           NaN   Finance\n",
       "freq        9933                            NaN           NaN   5088053\n",
       "mean         NaN  2006-12-26 02:30:14.423939328  5.691850e+03       NaN\n",
       "min          NaN            1906-06-19 12:00:00  1.500000e+01       NaN\n",
       "25%          NaN            2004-07-19 12:00:00  1.518050e+03       NaN\n",
       "50%          NaN            2007-10-26 12:00:00  5.230500e+03       NaN\n",
       "75%          NaN            2010-10-16 12:00:00  9.003000e+03       NaN\n",
       "max          NaN            2017-11-16 12:00:00  3.520000e+05       NaN\n",
       "std          NaN                            NaN  4.246910e+03       NaN"
      ]
     },
     "execution_count": 17,
     "metadata": {},
     "output_type": "execute_result"
    }
   ],
   "source": [
    "m4_df.describe(include=\"all\")"
   ]
  },
  {
   "cell_type": "code",
   "execution_count": 18,
   "metadata": {},
   "outputs": [
    {
     "data": {
      "text/plain": [
       "array(['Macro', 'Micro', 'Demographic', 'Industry', 'Finance', 'Other'],\n",
       "      dtype=object)"
      ]
     },
     "execution_count": 18,
     "metadata": {},
     "output_type": "execute_result"
    }
   ],
   "source": [
    "m4_df.category.unique()"
   ]
  },
  {
   "cell_type": "code",
   "execution_count": 19,
   "metadata": {},
   "outputs": [
    {
     "data": {
      "text/plain": [
       "category\n",
       "Finance        5088053\n",
       "Micro          4323958\n",
       "Other           250463\n",
       "Industry        236411\n",
       "Macro            84520\n",
       "Demographic      40431\n",
       "Name: count, dtype: int64"
      ]
     },
     "execution_count": 19,
     "metadata": {},
     "output_type": "execute_result"
    }
   ],
   "source": [
    "m4_df[\"category\"].value_counts()"
   ]
  },
  {
   "cell_type": "code",
   "execution_count": 20,
   "metadata": {},
   "outputs": [
    {
     "data": {
      "text/plain": [
       "dtype('O')"
      ]
     },
     "execution_count": 20,
     "metadata": {},
     "output_type": "execute_result"
    }
   ],
   "source": [
    "#Verify which type is the category column different to Object\n",
    "m4_df[\"category\"].dtype"
   ]
  },
  {
   "cell_type": "code",
   "execution_count": 21,
   "metadata": {},
   "outputs": [
    {
     "name": "stdout",
     "output_type": "stream",
     "text": [
      "string\n"
     ]
    }
   ],
   "source": [
    "# Convert the \"category\" column to string type\n",
    "m4_df[\"category\"] = m4_df[\"category\"].astype(\"string\")\n",
    "# Verify the new data type\n",
    "print(m4_df[\"category\"].dtype)"
   ]
  },
  {
   "cell_type": "code",
   "execution_count": 22,
   "metadata": {},
   "outputs": [
    {
     "data": {
      "text/plain": [
       "dtype('O')"
      ]
     },
     "execution_count": 22,
     "metadata": {},
     "output_type": "execute_result"
    }
   ],
   "source": [
    "#Which is the type of the id column\n",
    "m4_df[\"id\"].dtype"
   ]
  },
  {
   "cell_type": "code",
   "execution_count": 23,
   "metadata": {},
   "outputs": [
    {
     "name": "stdout",
     "output_type": "stream",
     "text": [
      "string\n"
     ]
    }
   ],
   "source": [
    "m4_df[\"id\"] = m4_df[\"id\"].astype(\"string\")\n",
    "print(m4_df[\"id\"].dtype)"
   ]
  },
  {
   "cell_type": "code",
   "execution_count": 24,
   "metadata": {},
   "outputs": [],
   "source": [
    "#We are going to work with the categories: \"Finance\", \"Demography\" and \"Industry\"\n",
    "df_Finance = m4_df[m4_df[\"category\"] == \"Finance\"]\n",
    "df_Demography = m4_df[m4_df[\"category\"] == \"Demographic\"]\n",
    "df_Industry = m4_df[m4_df[\"category\"] == \"Industry\"]"
   ]
  },
  {
   "cell_type": "markdown",
   "metadata": {},
   "source": [
    "## Finance dataset"
   ]
  },
  {
   "cell_type": "code",
   "execution_count": 25,
   "metadata": {},
   "outputs": [
    {
     "data": {
      "text/html": [
       "<div>\n",
       "<style scoped>\n",
       "    .dataframe tbody tr th:only-of-type {\n",
       "        vertical-align: middle;\n",
       "    }\n",
       "\n",
       "    .dataframe tbody tr th {\n",
       "        vertical-align: top;\n",
       "    }\n",
       "\n",
       "    .dataframe thead th {\n",
       "        text-align: right;\n",
       "    }\n",
       "</style>\n",
       "<table border=\"1\" class=\"dataframe\">\n",
       "  <thead>\n",
       "    <tr style=\"text-align: right;\">\n",
       "      <th></th>\n",
       "      <th>id</th>\n",
       "      <th>timestamp</th>\n",
       "      <th>target</th>\n",
       "      <th>category</th>\n",
       "    </tr>\n",
       "  </thead>\n",
       "  <tbody>\n",
       "    <tr>\n",
       "      <th>2035</th>\n",
       "      <td>T002035</td>\n",
       "      <td>2005-01-04 12:00:00</td>\n",
       "      <td>2785.00</td>\n",
       "      <td>Finance</td>\n",
       "    </tr>\n",
       "    <tr>\n",
       "      <th>2035</th>\n",
       "      <td>T002035</td>\n",
       "      <td>2005-01-05 12:00:00</td>\n",
       "      <td>2780.30</td>\n",
       "      <td>Finance</td>\n",
       "    </tr>\n",
       "    <tr>\n",
       "      <th>2035</th>\n",
       "      <td>T002035</td>\n",
       "      <td>2005-01-06 12:00:00</td>\n",
       "      <td>2780.30</td>\n",
       "      <td>Finance</td>\n",
       "    </tr>\n",
       "    <tr>\n",
       "      <th>2035</th>\n",
       "      <td>T002035</td>\n",
       "      <td>2005-01-07 12:00:00</td>\n",
       "      <td>2780.30</td>\n",
       "      <td>Finance</td>\n",
       "    </tr>\n",
       "    <tr>\n",
       "      <th>2035</th>\n",
       "      <td>T002035</td>\n",
       "      <td>2005-01-08 12:00:00</td>\n",
       "      <td>2780.10</td>\n",
       "      <td>Finance</td>\n",
       "    </tr>\n",
       "    <tr>\n",
       "      <th>2035</th>\n",
       "      <td>T002035</td>\n",
       "      <td>2005-01-09 12:00:00</td>\n",
       "      <td>2785.00</td>\n",
       "      <td>Finance</td>\n",
       "    </tr>\n",
       "    <tr>\n",
       "      <th>2035</th>\n",
       "      <td>T002035</td>\n",
       "      <td>2005-01-10 12:00:00</td>\n",
       "      <td>2777.20</td>\n",
       "      <td>Finance</td>\n",
       "    </tr>\n",
       "    <tr>\n",
       "      <th>2035</th>\n",
       "      <td>T002035</td>\n",
       "      <td>2005-01-11 12:00:00</td>\n",
       "      <td>2778.30</td>\n",
       "      <td>Finance</td>\n",
       "    </tr>\n",
       "    <tr>\n",
       "      <th>2035</th>\n",
       "      <td>T002035</td>\n",
       "      <td>2005-01-12 12:00:00</td>\n",
       "      <td>2782.17</td>\n",
       "      <td>Finance</td>\n",
       "    </tr>\n",
       "    <tr>\n",
       "      <th>2035</th>\n",
       "      <td>T002035</td>\n",
       "      <td>2005-01-13 12:00:00</td>\n",
       "      <td>2787.55</td>\n",
       "      <td>Finance</td>\n",
       "    </tr>\n",
       "  </tbody>\n",
       "</table>\n",
       "</div>"
      ],
      "text/plain": [
       "           id           timestamp   target category\n",
       "2035  T002035 2005-01-04 12:00:00  2785.00  Finance\n",
       "2035  T002035 2005-01-05 12:00:00  2780.30  Finance\n",
       "2035  T002035 2005-01-06 12:00:00  2780.30  Finance\n",
       "2035  T002035 2005-01-07 12:00:00  2780.30  Finance\n",
       "2035  T002035 2005-01-08 12:00:00  2780.10  Finance\n",
       "2035  T002035 2005-01-09 12:00:00  2785.00  Finance\n",
       "2035  T002035 2005-01-10 12:00:00  2777.20  Finance\n",
       "2035  T002035 2005-01-11 12:00:00  2778.30  Finance\n",
       "2035  T002035 2005-01-12 12:00:00  2782.17  Finance\n",
       "2035  T002035 2005-01-13 12:00:00  2787.55  Finance"
      ]
     },
     "execution_count": 25,
     "metadata": {},
     "output_type": "execute_result"
    }
   ],
   "source": [
    "df_Finance.head(10)"
   ]
  },
  {
   "cell_type": "code",
   "execution_count": 26,
   "metadata": {},
   "outputs": [
    {
     "data": {
      "text/plain": [
       "0"
      ]
     },
     "execution_count": 26,
     "metadata": {},
     "output_type": "execute_result"
    }
   ],
   "source": [
    "#Check fot nulls in the target column\n",
    "df_Finance[\"target\"].isnull().sum()"
   ]
  },
  {
   "cell_type": "code",
   "execution_count": 27,
   "metadata": {},
   "outputs": [],
   "source": [
    "#How do I need to pass the data to chronos?"
   ]
  },
  {
   "cell_type": "markdown",
   "metadata": {},
   "source": [
    "## Industry dataset"
   ]
  },
  {
   "cell_type": "code",
   "execution_count": 28,
   "metadata": {},
   "outputs": [
    {
     "data": {
      "text/html": [
       "<div>\n",
       "<style scoped>\n",
       "    .dataframe tbody tr th:only-of-type {\n",
       "        vertical-align: middle;\n",
       "    }\n",
       "\n",
       "    .dataframe tbody tr th {\n",
       "        vertical-align: top;\n",
       "    }\n",
       "\n",
       "    .dataframe thead th {\n",
       "        text-align: right;\n",
       "    }\n",
       "</style>\n",
       "<table border=\"1\" class=\"dataframe\">\n",
       "  <thead>\n",
       "    <tr style=\"text-align: right;\">\n",
       "      <th></th>\n",
       "      <th>id</th>\n",
       "      <th>timestamp</th>\n",
       "      <th>target</th>\n",
       "      <th>category</th>\n",
       "    </tr>\n",
       "  </thead>\n",
       "  <tbody>\n",
       "    <tr>\n",
       "      <th>1613</th>\n",
       "      <td>T001613</td>\n",
       "      <td>2000-03-01 12:00:00</td>\n",
       "      <td>1235.29</td>\n",
       "      <td>Industry</td>\n",
       "    </tr>\n",
       "    <tr>\n",
       "      <th>1613</th>\n",
       "      <td>T001613</td>\n",
       "      <td>2000-03-02 12:00:00</td>\n",
       "      <td>1228.21</td>\n",
       "      <td>Industry</td>\n",
       "    </tr>\n",
       "    <tr>\n",
       "      <th>1613</th>\n",
       "      <td>T001613</td>\n",
       "      <td>2000-03-03 12:00:00</td>\n",
       "      <td>1204.90</td>\n",
       "      <td>Industry</td>\n",
       "    </tr>\n",
       "    <tr>\n",
       "      <th>1613</th>\n",
       "      <td>T001613</td>\n",
       "      <td>2000-03-04 12:00:00</td>\n",
       "      <td>1212.50</td>\n",
       "      <td>Industry</td>\n",
       "    </tr>\n",
       "    <tr>\n",
       "      <th>1613</th>\n",
       "      <td>T001613</td>\n",
       "      <td>2000-03-05 12:00:00</td>\n",
       "      <td>1209.77</td>\n",
       "      <td>Industry</td>\n",
       "    </tr>\n",
       "    <tr>\n",
       "      <th>1613</th>\n",
       "      <td>T001613</td>\n",
       "      <td>2000-03-06 12:00:00</td>\n",
       "      <td>1206.46</td>\n",
       "      <td>Industry</td>\n",
       "    </tr>\n",
       "    <tr>\n",
       "      <th>1613</th>\n",
       "      <td>T001613</td>\n",
       "      <td>2000-03-07 12:00:00</td>\n",
       "      <td>1218.21</td>\n",
       "      <td>Industry</td>\n",
       "    </tr>\n",
       "    <tr>\n",
       "      <th>1613</th>\n",
       "      <td>T001613</td>\n",
       "      <td>2000-03-08 12:00:00</td>\n",
       "      <td>1220.78</td>\n",
       "      <td>Industry</td>\n",
       "    </tr>\n",
       "    <tr>\n",
       "      <th>1613</th>\n",
       "      <td>T001613</td>\n",
       "      <td>2000-03-09 12:00:00</td>\n",
       "      <td>1226.55</td>\n",
       "      <td>Industry</td>\n",
       "    </tr>\n",
       "    <tr>\n",
       "      <th>1613</th>\n",
       "      <td>T001613</td>\n",
       "      <td>2000-03-10 12:00:00</td>\n",
       "      <td>1223.35</td>\n",
       "      <td>Industry</td>\n",
       "    </tr>\n",
       "  </tbody>\n",
       "</table>\n",
       "</div>"
      ],
      "text/plain": [
       "           id           timestamp   target  category\n",
       "1613  T001613 2000-03-01 12:00:00  1235.29  Industry\n",
       "1613  T001613 2000-03-02 12:00:00  1228.21  Industry\n",
       "1613  T001613 2000-03-03 12:00:00  1204.90  Industry\n",
       "1613  T001613 2000-03-04 12:00:00  1212.50  Industry\n",
       "1613  T001613 2000-03-05 12:00:00  1209.77  Industry\n",
       "1613  T001613 2000-03-06 12:00:00  1206.46  Industry\n",
       "1613  T001613 2000-03-07 12:00:00  1218.21  Industry\n",
       "1613  T001613 2000-03-08 12:00:00  1220.78  Industry\n",
       "1613  T001613 2000-03-09 12:00:00  1226.55  Industry\n",
       "1613  T001613 2000-03-10 12:00:00  1223.35  Industry"
      ]
     },
     "execution_count": 28,
     "metadata": {},
     "output_type": "execute_result"
    }
   ],
   "source": [
    "df_Industry.head(10)"
   ]
  },
  {
   "cell_type": "code",
   "execution_count": 29,
   "metadata": {},
   "outputs": [
    {
     "data": {
      "text/plain": [
       "<StringArray>\n",
       "['T001613', 'T001614', 'T001615', 'T001616', 'T001617', 'T001618', 'T001619',\n",
       " 'T001620', 'T001621', 'T001622',\n",
       " ...\n",
       " 'T002025', 'T002026', 'T002027', 'T002028', 'T002029', 'T002030', 'T002031',\n",
       " 'T002032', 'T002033', 'T002034']\n",
       "Length: 422, dtype: string"
      ]
     },
     "execution_count": 29,
     "metadata": {},
     "output_type": "execute_result"
    }
   ],
   "source": [
    "df_Industry[\"id\"].unique()"
   ]
  },
  {
   "cell_type": "code",
   "execution_count": 30,
   "metadata": {},
   "outputs": [
    {
     "data": {
      "text/html": [
       "<div>\n",
       "<style scoped>\n",
       "    .dataframe tbody tr th:only-of-type {\n",
       "        vertical-align: middle;\n",
       "    }\n",
       "\n",
       "    .dataframe tbody tr th {\n",
       "        vertical-align: top;\n",
       "    }\n",
       "\n",
       "    .dataframe thead th {\n",
       "        text-align: right;\n",
       "    }\n",
       "</style>\n",
       "<table border=\"1\" class=\"dataframe\">\n",
       "  <thead>\n",
       "    <tr style=\"text-align: right;\">\n",
       "      <th></th>\n",
       "      <th>id</th>\n",
       "      <th>counts</th>\n",
       "    </tr>\n",
       "  </thead>\n",
       "  <tbody>\n",
       "    <tr>\n",
       "      <th>401</th>\n",
       "      <td>T002014</td>\n",
       "      <td>4569</td>\n",
       "    </tr>\n",
       "    <tr>\n",
       "      <th>402</th>\n",
       "      <td>T002015</td>\n",
       "      <td>4454</td>\n",
       "    </tr>\n",
       "    <tr>\n",
       "      <th>0</th>\n",
       "      <td>T001613</td>\n",
       "      <td>4330</td>\n",
       "    </tr>\n",
       "    <tr>\n",
       "      <th>1</th>\n",
       "      <td>T001614</td>\n",
       "      <td>4329</td>\n",
       "    </tr>\n",
       "    <tr>\n",
       "      <th>418</th>\n",
       "      <td>T002031</td>\n",
       "      <td>4211</td>\n",
       "    </tr>\n",
       "    <tr>\n",
       "      <th>417</th>\n",
       "      <td>T002030</td>\n",
       "      <td>4211</td>\n",
       "    </tr>\n",
       "    <tr>\n",
       "      <th>416</th>\n",
       "      <td>T002029</td>\n",
       "      <td>4211</td>\n",
       "    </tr>\n",
       "    <tr>\n",
       "      <th>415</th>\n",
       "      <td>T002028</td>\n",
       "      <td>4211</td>\n",
       "    </tr>\n",
       "    <tr>\n",
       "      <th>414</th>\n",
       "      <td>T002027</td>\n",
       "      <td>4211</td>\n",
       "    </tr>\n",
       "    <tr>\n",
       "      <th>412</th>\n",
       "      <td>T002025</td>\n",
       "      <td>4211</td>\n",
       "    </tr>\n",
       "  </tbody>\n",
       "</table>\n",
       "</div>"
      ],
      "text/plain": [
       "          id  counts\n",
       "401  T002014    4569\n",
       "402  T002015    4454\n",
       "0    T001613    4330\n",
       "1    T001614    4329\n",
       "418  T002031    4211\n",
       "417  T002030    4211\n",
       "416  T002029    4211\n",
       "415  T002028    4211\n",
       "414  T002027    4211\n",
       "412  T002025    4211"
      ]
     },
     "execution_count": 30,
     "metadata": {},
     "output_type": "execute_result"
    }
   ],
   "source": [
    "df_Industry.groupby(\"id\").size().reset_index(name=\"counts\").sort_values(by=\"counts\", ascending=False).head(10)"
   ]
  },
  {
   "cell_type": "code",
   "execution_count": 31,
   "metadata": {},
   "outputs": [
    {
     "data": {
      "text/plain": [
       "(236411, 4)"
      ]
     },
     "execution_count": 31,
     "metadata": {},
     "output_type": "execute_result"
    }
   ],
   "source": [
    "df_Industry.shape"
   ]
  },
  {
   "cell_type": "code",
   "execution_count": 32,
   "metadata": {},
   "outputs": [],
   "source": [
    "df_Industry.index = pd.to_datetime(df_Industry.timestamp)"
   ]
  },
  {
   "cell_type": "code",
   "execution_count": 33,
   "metadata": {},
   "outputs": [
    {
     "data": {
      "image/png": "[encoded data removed]",
      "text/plain": [
       "<Figure size 1500x500 with 1 Axes>"
      ]
     },
     "metadata": {},
     "output_type": "display_data"
    }
   ],
   "source": [
    "# Gráph \n",
    "fig, ax = plt.subplots(figsize=(15, 5))\n",
    "ax.plot(df_Industry[\"target\"],\".\", color=\"blue\", label=\"Target\")\n",
    "ax.set_title(\"Serie Temporal Completa - df_Industry\", fontsize=16)\n",
    "ax.set_xlabel(\"Fecha\", fontsize=14)\n",
    "ax.set_ylabel(\"Target\", fontsize=14)\n",
    "ax.legend(fontsize=12)\n",
    "fig.autofmt_xdate()\n",
    "plt.show()\n",
    "#As we can observe in the graph, there is more than one timeseries in the dataset."
   ]
  },
  {
   "cell_type": "code",
   "execution_count": 34,
   "metadata": {},
   "outputs": [
    {
     "data": {
      "image/png": "[encoded data removed]",
      "text/plain": [
       "<Figure size 1500x500 with 1 Axes>"
      ]
     },
     "metadata": {},
     "output_type": "display_data"
    }
   ],
   "source": [
    "# Select the interval from 2000 to 2001\n",
    "df_subset = df_Industry.sort_index().loc['2000-01-01':'2001-12-31', :]\n",
    "\n",
    "# Graficar el target para el periodo seleccionado\n",
    "plt.figure(figsize=(15, 5))\n",
    "plt.scatter(df_subset.index, df_subset[\"target\"], label=\"Target\")\n",
    "plt.title(\"Target de 2000 a 2010\", fontsize=16)\n",
    "plt.xlabel(\"Fecha\", fontsize=14)\n",
    "plt.ylabel(\"Target\", fontsize=14)\n",
    "plt.legend(fontsize=12)\n",
    "plt.show()"
   ]
  },
  {
   "cell_type": "code",
   "execution_count": 35,
   "metadata": {},
   "outputs": [
    {
     "data": {
      "text/plain": [
       "count                   4569\n",
       "mean     2006-06-02 12:00:00\n",
       "min      2000-03-01 12:00:00\n",
       "25%      2003-04-17 12:00:00\n",
       "50%      2006-06-02 12:00:00\n",
       "75%      2009-07-18 12:00:00\n",
       "max      2012-09-02 12:00:00\n",
       "Name: timestamp, dtype: object"
      ]
     },
     "execution_count": 35,
     "metadata": {},
     "output_type": "execute_result"
    }
   ],
   "source": [
    "df_Industry[df_Industry[\"id\"]==\"T002014\"][\"timestamp\"].describe()\n",
    "#The dataseries to work in is going to be the one with the most quantity of data. \n",
    "#The first year of the data is 2000 and the maximum is 2012"
   ]
  },
  {
   "cell_type": "code",
   "execution_count": 36,
   "metadata": {},
   "outputs": [],
   "source": [
    "df_Industry_1=df_Industry[df_Industry[\"id\"]==\"T002014\"]"
   ]
  },
  {
   "cell_type": "code",
   "execution_count": 37,
   "metadata": {},
   "outputs": [
    {
     "data": {
      "text/html": [
       "<div>\n",
       "<style scoped>\n",
       "    .dataframe tbody tr th:only-of-type {\n",
       "        vertical-align: middle;\n",
       "    }\n",
       "\n",
       "    .dataframe tbody tr th {\n",
       "        vertical-align: top;\n",
       "    }\n",
       "\n",
       "    .dataframe thead th {\n",
       "        text-align: right;\n",
       "    }\n",
       "</style>\n",
       "<table border=\"1\" class=\"dataframe\">\n",
       "  <thead>\n",
       "    <tr style=\"text-align: right;\">\n",
       "      <th></th>\n",
       "      <th>id</th>\n",
       "      <th>timestamp</th>\n",
       "      <th>target</th>\n",
       "    </tr>\n",
       "    <tr>\n",
       "      <th>timestamp</th>\n",
       "      <th></th>\n",
       "      <th></th>\n",
       "      <th></th>\n",
       "    </tr>\n",
       "  </thead>\n",
       "  <tbody>\n",
       "    <tr>\n",
       "      <th>2000-03-01 12:00:00</th>\n",
       "      <td>T002014</td>\n",
       "      <td>2000-03-01 12:00:00</td>\n",
       "      <td>1648.4</td>\n",
       "    </tr>\n",
       "    <tr>\n",
       "      <th>2000-03-02 12:00:00</th>\n",
       "      <td>T002014</td>\n",
       "      <td>2000-03-02 12:00:00</td>\n",
       "      <td>1671.4</td>\n",
       "    </tr>\n",
       "    <tr>\n",
       "      <th>2000-03-03 12:00:00</th>\n",
       "      <td>T002014</td>\n",
       "      <td>2000-03-03 12:00:00</td>\n",
       "      <td>1673.9</td>\n",
       "    </tr>\n",
       "    <tr>\n",
       "      <th>2000-03-04 12:00:00</th>\n",
       "      <td>T002014</td>\n",
       "      <td>2000-03-04 12:00:00</td>\n",
       "      <td>1680.5</td>\n",
       "    </tr>\n",
       "    <tr>\n",
       "      <th>2000-03-05 12:00:00</th>\n",
       "      <td>T002014</td>\n",
       "      <td>2000-03-05 12:00:00</td>\n",
       "      <td>1692.7</td>\n",
       "    </tr>\n",
       "    <tr>\n",
       "      <th>2000-03-06 12:00:00</th>\n",
       "      <td>T002014</td>\n",
       "      <td>2000-03-06 12:00:00</td>\n",
       "      <td>1685.9</td>\n",
       "    </tr>\n",
       "    <tr>\n",
       "      <th>2000-03-07 12:00:00</th>\n",
       "      <td>T002014</td>\n",
       "      <td>2000-03-07 12:00:00</td>\n",
       "      <td>1705.0</td>\n",
       "    </tr>\n",
       "    <tr>\n",
       "      <th>2000-03-08 12:00:00</th>\n",
       "      <td>T002014</td>\n",
       "      <td>2000-03-08 12:00:00</td>\n",
       "      <td>1705.2</td>\n",
       "    </tr>\n",
       "    <tr>\n",
       "      <th>2000-03-09 12:00:00</th>\n",
       "      <td>T002014</td>\n",
       "      <td>2000-03-09 12:00:00</td>\n",
       "      <td>1690.8</td>\n",
       "    </tr>\n",
       "    <tr>\n",
       "      <th>2000-03-10 12:00:00</th>\n",
       "      <td>T002014</td>\n",
       "      <td>2000-03-10 12:00:00</td>\n",
       "      <td>1706.4</td>\n",
       "    </tr>\n",
       "  </tbody>\n",
       "</table>\n",
       "</div>"
      ],
      "text/plain": [
       "                          id           timestamp  target\n",
       "timestamp                                               \n",
       "2000-03-01 12:00:00  T002014 2000-03-01 12:00:00  1648.4\n",
       "2000-03-02 12:00:00  T002014 2000-03-02 12:00:00  1671.4\n",
       "2000-03-03 12:00:00  T002014 2000-03-03 12:00:00  1673.9\n",
       "2000-03-04 12:00:00  T002014 2000-03-04 12:00:00  1680.5\n",
       "2000-03-05 12:00:00  T002014 2000-03-05 12:00:00  1692.7\n",
       "2000-03-06 12:00:00  T002014 2000-03-06 12:00:00  1685.9\n",
       "2000-03-07 12:00:00  T002014 2000-03-07 12:00:00  1705.0\n",
       "2000-03-08 12:00:00  T002014 2000-03-08 12:00:00  1705.2\n",
       "2000-03-09 12:00:00  T002014 2000-03-09 12:00:00  1690.8\n",
       "2000-03-10 12:00:00  T002014 2000-03-10 12:00:00  1706.4"
      ]
     },
     "execution_count": 37,
     "metadata": {},
     "output_type": "execute_result"
    }
   ],
   "source": [
    "df_Industry_1 = df_Industry_1.drop(columns=[\"category\"]).sort_index(ascending=True)\n",
    "df_Industry_1.head(10)"
   ]
  },
  {
   "cell_type": "code",
   "execution_count": 38,
   "metadata": {},
   "outputs": [
    {
     "data": {
      "text/plain": [
       "(4569, 3)"
      ]
     },
     "execution_count": 38,
     "metadata": {},
     "output_type": "execute_result"
    }
   ],
   "source": [
    "df_Industry_1.shape"
   ]
  },
  {
   "cell_type": "code",
   "execution_count": 39,
   "metadata": {},
   "outputs": [
    {
     "data": {
      "text/plain": [
       "0"
      ]
     },
     "execution_count": 39,
     "metadata": {},
     "output_type": "execute_result"
    }
   ],
   "source": [
    "df_Industry_1[\"target\"].isnull().sum()"
   ]
  },
  {
   "cell_type": "code",
   "execution_count": 40,
   "metadata": {},
   "outputs": [
    {
     "name": "stdout",
     "output_type": "stream",
     "text": [
      "Start date: 2000-03-01 12:00:00\n",
      "End date: 2012-09-02 12:00:00\n"
     ]
    }
   ],
   "source": [
    "#Verify if the timestamp is complete and continuous\n",
    "start_date = df_Industry_1.index.min()\n",
    "print(\"Start date:\", start_date)\n",
    "end_date = df_Industry_1.index.max()\n",
    "print(\"End date:\", end_date)"
   ]
  },
  {
   "cell_type": "code",
   "execution_count": 41,
   "metadata": {},
   "outputs": [],
   "source": [
    "complete_date_range = pd.date_range(start=start_date, end=end_date, freq=\"D\")\n"
   ]
  },
  {
   "cell_type": "code",
   "execution_count": 42,
   "metadata": {},
   "outputs": [
    {
     "name": "stdout",
     "output_type": "stream",
     "text": [
      "Missing dates: DatetimeIndex([], dtype='datetime64[ns]', freq='D')\n"
     ]
    }
   ],
   "source": [
    "missing_dates = complete_date_range.difference(m4_df[\"timestamp\"])\n",
    "print(\"Missing dates:\", missing_dates)\n",
    "#The timeseries is continues and complete, so we can work with it."
   ]
  },
  {
   "cell_type": "code",
   "execution_count": 43,
   "metadata": {},
   "outputs": [
    {
     "data": {
      "text/plain": [
       "0"
      ]
     },
     "execution_count": 43,
     "metadata": {},
     "output_type": "execute_result"
    }
   ],
   "source": [
    "len(missing_dates)"
   ]
  },
  {
   "cell_type": "code",
   "execution_count": 44,
   "metadata": {},
   "outputs": [],
   "source": [
    "df_Industry_1.rename(columns={\"id\": \"item_id\"}, inplace=True)"
   ]
  },
  {
   "cell_type": "code",
   "execution_count": 45,
   "metadata": {},
   "outputs": [
    {
     "data": {
      "text/html": [
       "<div>\n",
       "<style scoped>\n",
       "    .dataframe tbody tr th:only-of-type {\n",
       "        vertical-align: middle;\n",
       "    }\n",
       "\n",
       "    .dataframe tbody tr th {\n",
       "        vertical-align: top;\n",
       "    }\n",
       "\n",
       "    .dataframe thead th {\n",
       "        text-align: right;\n",
       "    }\n",
       "</style>\n",
       "<table border=\"1\" class=\"dataframe\">\n",
       "  <thead>\n",
       "    <tr style=\"text-align: right;\">\n",
       "      <th></th>\n",
       "      <th>item_id</th>\n",
       "      <th>timestamp</th>\n",
       "      <th>target</th>\n",
       "    </tr>\n",
       "    <tr>\n",
       "      <th>timestamp</th>\n",
       "      <th></th>\n",
       "      <th></th>\n",
       "      <th></th>\n",
       "    </tr>\n",
       "  </thead>\n",
       "  <tbody>\n",
       "    <tr>\n",
       "      <th>2000-03-01 12:00:00</th>\n",
       "      <td>T002014</td>\n",
       "      <td>2000-03-01 12:00:00</td>\n",
       "      <td>1648.4</td>\n",
       "    </tr>\n",
       "    <tr>\n",
       "      <th>2000-03-02 12:00:00</th>\n",
       "      <td>T002014</td>\n",
       "      <td>2000-03-02 12:00:00</td>\n",
       "      <td>1671.4</td>\n",
       "    </tr>\n",
       "    <tr>\n",
       "      <th>2000-03-03 12:00:00</th>\n",
       "      <td>T002014</td>\n",
       "      <td>2000-03-03 12:00:00</td>\n",
       "      <td>1673.9</td>\n",
       "    </tr>\n",
       "    <tr>\n",
       "      <th>2000-03-04 12:00:00</th>\n",
       "      <td>T002014</td>\n",
       "      <td>2000-03-04 12:00:00</td>\n",
       "      <td>1680.5</td>\n",
       "    </tr>\n",
       "    <tr>\n",
       "      <th>2000-03-05 12:00:00</th>\n",
       "      <td>T002014</td>\n",
       "      <td>2000-03-05 12:00:00</td>\n",
       "      <td>1692.7</td>\n",
       "    </tr>\n",
       "    <tr>\n",
       "      <th>2000-03-06 12:00:00</th>\n",
       "      <td>T002014</td>\n",
       "      <td>2000-03-06 12:00:00</td>\n",
       "      <td>1685.9</td>\n",
       "    </tr>\n",
       "    <tr>\n",
       "      <th>2000-03-07 12:00:00</th>\n",
       "      <td>T002014</td>\n",
       "      <td>2000-03-07 12:00:00</td>\n",
       "      <td>1705.0</td>\n",
       "    </tr>\n",
       "    <tr>\n",
       "      <th>2000-03-08 12:00:00</th>\n",
       "      <td>T002014</td>\n",
       "      <td>2000-03-08 12:00:00</td>\n",
       "      <td>1705.2</td>\n",
       "    </tr>\n",
       "    <tr>\n",
       "      <th>2000-03-09 12:00:00</th>\n",
       "      <td>T002014</td>\n",
       "      <td>2000-03-09 12:00:00</td>\n",
       "      <td>1690.8</td>\n",
       "    </tr>\n",
       "    <tr>\n",
       "      <th>2000-03-10 12:00:00</th>\n",
       "      <td>T002014</td>\n",
       "      <td>2000-03-10 12:00:00</td>\n",
       "      <td>1706.4</td>\n",
       "    </tr>\n",
       "  </tbody>\n",
       "</table>\n",
       "</div>"
      ],
      "text/plain": [
       "                     item_id           timestamp  target\n",
       "timestamp                                               \n",
       "2000-03-01 12:00:00  T002014 2000-03-01 12:00:00  1648.4\n",
       "2000-03-02 12:00:00  T002014 2000-03-02 12:00:00  1671.4\n",
       "2000-03-03 12:00:00  T002014 2000-03-03 12:00:00  1673.9\n",
       "2000-03-04 12:00:00  T002014 2000-03-04 12:00:00  1680.5\n",
       "2000-03-05 12:00:00  T002014 2000-03-05 12:00:00  1692.7\n",
       "2000-03-06 12:00:00  T002014 2000-03-06 12:00:00  1685.9\n",
       "2000-03-07 12:00:00  T002014 2000-03-07 12:00:00  1705.0\n",
       "2000-03-08 12:00:00  T002014 2000-03-08 12:00:00  1705.2\n",
       "2000-03-09 12:00:00  T002014 2000-03-09 12:00:00  1690.8\n",
       "2000-03-10 12:00:00  T002014 2000-03-10 12:00:00  1706.4"
      ]
     },
     "execution_count": 45,
     "metadata": {},
     "output_type": "execute_result"
    }
   ],
   "source": [
    "df_Industry_1.head(10)"
   ]
  },
  {
   "cell_type": "code",
   "execution_count": 46,
   "metadata": {},
   "outputs": [
    {
     "data": {
      "text/html": [
       "<div>\n",
       "<style scoped>\n",
       "    .dataframe tbody tr th:only-of-type {\n",
       "        vertical-align: middle;\n",
       "    }\n",
       "\n",
       "    .dataframe tbody tr th {\n",
       "        vertical-align: top;\n",
       "    }\n",
       "\n",
       "    .dataframe thead th {\n",
       "        text-align: right;\n",
       "    }\n",
       "</style>\n",
       "<table border=\"1\" class=\"dataframe\">\n",
       "  <thead>\n",
       "    <tr style=\"text-align: right;\">\n",
       "      <th></th>\n",
       "      <th></th>\n",
       "      <th>target</th>\n",
       "    </tr>\n",
       "    <tr>\n",
       "      <th>item_id</th>\n",
       "      <th>timestamp</th>\n",
       "      <th></th>\n",
       "    </tr>\n",
       "  </thead>\n",
       "  <tbody>\n",
       "    <tr>\n",
       "      <th rowspan=\"5\" valign=\"top\">T002014</th>\n",
       "      <th>2000-03-01 12:00:00</th>\n",
       "      <td>1648.4</td>\n",
       "    </tr>\n",
       "    <tr>\n",
       "      <th>2000-03-02 12:00:00</th>\n",
       "      <td>1671.4</td>\n",
       "    </tr>\n",
       "    <tr>\n",
       "      <th>2000-03-03 12:00:00</th>\n",
       "      <td>1673.9</td>\n",
       "    </tr>\n",
       "    <tr>\n",
       "      <th>2000-03-04 12:00:00</th>\n",
       "      <td>1680.5</td>\n",
       "    </tr>\n",
       "    <tr>\n",
       "      <th>2000-03-05 12:00:00</th>\n",
       "      <td>1692.7</td>\n",
       "    </tr>\n",
       "  </tbody>\n",
       "</table>\n",
       "</div>"
      ],
      "text/plain": [
       "                             target\n",
       "item_id timestamp                  \n",
       "T002014 2000-03-01 12:00:00  1648.4\n",
       "        2000-03-02 12:00:00  1671.4\n",
       "        2000-03-03 12:00:00  1673.9\n",
       "        2000-03-04 12:00:00  1680.5\n",
       "        2000-03-05 12:00:00  1692.7"
      ]
     },
     "execution_count": 46,
     "metadata": {},
     "output_type": "execute_result"
    }
   ],
   "source": [
    "# Now we can create the TimeSeriesDataFrame\n",
    "data = TimeSeriesDataFrame.from_data_frame(df_Industry_1)\n",
    "data.head()"
   ]
  },
  {
   "cell_type": "code",
   "execution_count": 47,
   "metadata": {},
   "outputs": [],
   "source": [
    "train_data, test_data = train_test_split(df_Industry_1, test_size=0.2, shuffle=False)\n",
    "len_train = len(train_data)\n",
    "len_test = len(test_data)"
   ]
  },
  {
   "cell_type": "code",
   "execution_count": 48,
   "metadata": {},
   "outputs": [
    {
     "name": "stdout",
     "output_type": "stream",
     "text": [
      "Train data:  3655 & Test_data :  914\n"
     ]
    }
   ],
   "source": [
    "print(\"Train data: \" ,len_train ,\"&\", \"Test_data : \", len_test)"
   ]
  },
  {
   "cell_type": "code",
   "execution_count": 63,
   "metadata": {},
   "outputs": [
    {
     "name": "stderr",
     "output_type": "stream",
     "text": [
      "Beginning AutoGluon training...\n",
      "AutoGluon will save models to 'c:\\UdeA\\Deep NL\\Project\\DeepNLP_Forecasting\\AutogluonModels\\ag-20250703_191350'\n"
     ]
    },
    {
     "name": "stderr",
     "output_type": "stream",
     "text": [
      "=================== System Info ===================\n",
      "AutoGluon Version:  1.3.1\n",
      "Python Version:     3.11.13\n",
      "Operating System:   Windows\n",
      "Platform Machine:   AMD64\n",
      "Platform Version:   10.0.22631\n",
      "CPU Count:          12\n",
      "GPU Count:          1\n",
      "Memory Avail:       1.06 GB / 7.37 GB (14.3%)\n",
      "Disk Space Avail:   7.24 GB / 475.75 GB (1.5%)\n",
      "\tWARNING: Available disk space is low and there is a risk that AutoGluon will run out of disk during fit, causing an exception. \n",
      "\tWe recommend a minimum available disk space of 10 GB, and large datasets may require more.\n",
      "===================================================\n",
      "Setting presets to: bolt_small\n",
      "\n",
      "Fitting with arguments:\n",
      "{'enable_ensemble': True,\n",
      " 'eval_metric': WQL,\n",
      " 'hyperparameters': {'Chronos': {'model_path': 'bolt_small'}},\n",
      " 'known_covariates_names': [],\n",
      " 'num_val_windows': 1,\n",
      " 'prediction_length': 914,\n",
      " 'quantile_levels': [0.1, 0.2, 0.3, 0.4, 0.5, 0.6, 0.7, 0.8, 0.9],\n",
      " 'random_seed': 123,\n",
      " 'refit_every_n_windows': 1,\n",
      " 'refit_full': False,\n",
      " 'skip_model_selection': True,\n",
      " 'target': 'target',\n",
      " 'verbosity': 2}\n",
      "\n"
     ]
    },
    {
     "name": "stdout",
     "output_type": "stream",
     "text": [
      "3655\n",
      "914\n",
      "                     item_id           timestamp  target\n",
      "timestamp                                               \n",
      "2000-03-01 12:00:00  T002014 2000-03-01 12:00:00  1648.4\n",
      "2000-03-02 12:00:00  T002014 2000-03-02 12:00:00  1671.4\n",
      "2000-03-03 12:00:00  T002014 2000-03-03 12:00:00  1673.9\n",
      "2000-03-04 12:00:00  T002014 2000-03-04 12:00:00  1680.5\n",
      "2000-03-05 12:00:00  T002014 2000-03-05 12:00:00  1692.7\n",
      "...                      ...                 ...     ...\n",
      "2010-02-27 12:00:00  T002014 2010-02-27 12:00:00  8950.9\n",
      "2010-02-28 12:00:00  T002014 2010-02-28 12:00:00  8951.6\n",
      "2010-03-01 12:00:00  T002014 2010-03-01 12:00:00  8892.2\n",
      "2010-03-02 12:00:00  T002014 2010-03-02 12:00:00  8893.4\n",
      "2010-03-03 12:00:00  T002014 2010-03-03 12:00:00  8947.4\n",
      "\n",
      "[3655 rows x 3 columns]\n"
     ]
    },
    {
     "ename": "IndexError",
     "evalue": "single positional indexer is out-of-bounds",
     "output_type": "error",
     "traceback": [
      "\u001b[31m---------------------------------------------------------------------------\u001b[39m",
      "\u001b[31mIndexError\u001b[39m                                Traceback (most recent call last)",
      "\u001b[36mCell\u001b[39m\u001b[36m \u001b[39m\u001b[32mIn[63]\u001b[39m\u001b[32m, line 28\u001b[39m\n\u001b[32m     25\u001b[39m \u001b[38;5;28mprint\u001b[39m(train_data.iloc[-historical_length:,:])\n\u001b[32m     27\u001b[39m \u001b[38;5;66;03m#Fit the models\u001b[39;00m\n\u001b[32m---> \u001b[39m\u001b[32m28\u001b[39m pred_wql, pred_mase= \u001b[43mfc\u001b[49m\u001b[43m.\u001b[49m\u001b[43mfit_models\u001b[49m\u001b[43m(\u001b[49m\u001b[43mprediction_length\u001b[49m\u001b[43m=\u001b[49m\u001b[43mprediction_length\u001b[49m\u001b[43m,\u001b[49m\u001b[43m \u001b[49m\u001b[43mtrain_data\u001b[49m\u001b[43m=\u001b[49m\u001b[43mtrain_data\u001b[49m\u001b[43m,\u001b[49m\u001b[43m \u001b[49m\u001b[43mhistorical_length\u001b[49m\u001b[43m=\u001b[49m\u001b[43mhistorical_length\u001b[49m\u001b[43m)\u001b[49m\n\u001b[32m     30\u001b[39m \u001b[38;5;66;03m#Remove the oldest data according to the necesary historical_length and predict just the necessary prediction_length\u001b[39;00m\n\u001b[32m     31\u001b[39m complete_data = pd.concat([train_data.iloc[historical_length:], test_data.iloc[:prediction_length]])\n",
      "\u001b[36mFile \u001b[39m\u001b[32mc:\\UdeA\\Deep NL\\Project\\DeepNLP_Forecasting\\utils\\functions.py:29\u001b[39m, in \u001b[36mfit_models\u001b[39m\u001b[34m(prediction_length, train_data, historical_length)\u001b[39m\n\u001b[32m     27\u001b[39m \u001b[38;5;28;01mdef\u001b[39;00m\u001b[38;5;250m  \u001b[39m\u001b[34mfit_models\u001b[39m(prediction_length, train_data, historical_length): \n\u001b[32m---> \u001b[39m\u001b[32m29\u001b[39m     predictor_WQL= \u001b[43mTimeSeriesPredictor\u001b[49m\u001b[43m(\u001b[49m\u001b[43mprediction_length\u001b[49m\u001b[43m=\u001b[49m\u001b[43mprediction_length\u001b[49m\u001b[43m,\u001b[49m\u001b[43meval_metric\u001b[49m\u001b[43m=\u001b[49m\u001b[33;43m\"\u001b[39;49m\u001b[33;43mWQL\u001b[39;49m\u001b[33;43m\"\u001b[39;49m\u001b[43m)\u001b[49m\u001b[43m.\u001b[49m\u001b[43mfit\u001b[49m\u001b[43m(\u001b[49m\n\u001b[32m     30\u001b[39m \u001b[43m        \u001b[49m\u001b[43mtrain_data\u001b[49m\u001b[43m.\u001b[49m\u001b[43miloc\u001b[49m\u001b[43m[\u001b[49m\u001b[43mhistorical_length\u001b[49m\u001b[43m:\u001b[49m\u001b[43m,\u001b[49m\u001b[43m:\u001b[49m\u001b[43m]\u001b[49m\u001b[43m,\u001b[49m\u001b[43m \u001b[49m\u001b[43mpresets\u001b[49m\u001b[43m=\u001b[49m\u001b[33;43m\"\u001b[39;49m\u001b[33;43mbolt_small\u001b[39;49m\u001b[33;43m\"\u001b[39;49m\u001b[43m \u001b[49m\u001b[38;5;66;43;03m#if use_cuda else \"bolt_small\"\u001b[39;49;00m\n\u001b[32m     31\u001b[39m \u001b[43m        \u001b[49m\u001b[43m,\u001b[49m\n\u001b[32m     32\u001b[39m \u001b[43m    \u001b[49m\u001b[43m)\u001b[49m\n\u001b[32m     34\u001b[39m     predictor_MASE=TimeSeriesPredictor(prediction_length=prediction_length,eval_metric=\u001b[33m\"\u001b[39m\u001b[33mMASE\u001b[39m\u001b[33m\"\u001b[39m).fit(\n\u001b[32m     35\u001b[39m         train_data, presets=\u001b[33m\"\u001b[39m\u001b[33mbolt_small\u001b[39m\u001b[33m\"\u001b[39m \u001b[38;5;66;03m#if use_cuda else \"bolt_small\"\u001b[39;00m\n\u001b[32m     36\u001b[39m         ,\n\u001b[32m     37\u001b[39m     )\n\u001b[32m     39\u001b[39m     \u001b[38;5;28;01mreturn\u001b[39;00m predictor_WQL, predictor_MASE\n",
      "\u001b[36mFile \u001b[39m\u001b[32mc:\\Users\\alejandrs\\anaconda3\\envs\\chronosEnv\\Lib\\site-packages\\autogluon\\core\\utils\\decorators.py:31\u001b[39m, in \u001b[36munpack.<locals>._unpack_inner.<locals>._call\u001b[39m\u001b[34m(*args, **kwargs)\u001b[39m\n\u001b[32m     28\u001b[39m \u001b[38;5;129m@functools\u001b[39m.wraps(f)\n\u001b[32m     29\u001b[39m \u001b[38;5;28;01mdef\u001b[39;00m\u001b[38;5;250m \u001b[39m\u001b[34m_call\u001b[39m(*args, **kwargs):\n\u001b[32m     30\u001b[39m     gargs, gkwargs = g(*other_args, *args, **kwargs)\n\u001b[32m---> \u001b[39m\u001b[32m31\u001b[39m     \u001b[38;5;28;01mreturn\u001b[39;00m \u001b[43mf\u001b[49m\u001b[43m(\u001b[49m\u001b[43m*\u001b[49m\u001b[43mgargs\u001b[49m\u001b[43m,\u001b[49m\u001b[43m \u001b[49m\u001b[43m*\u001b[49m\u001b[43m*\u001b[49m\u001b[43mgkwargs\u001b[49m\u001b[43m)\u001b[49m\n",
      "\u001b[36mFile \u001b[39m\u001b[32mc:\\Users\\alejandrs\\anaconda3\\envs\\chronosEnv\\Lib\\site-packages\\autogluon\\timeseries\\predictor.py:715\u001b[39m, in \u001b[36mTimeSeriesPredictor.fit\u001b[39m\u001b[34m(self, train_data, tuning_data, time_limit, presets, hyperparameters, hyperparameter_tune_kwargs, excluded_model_types, num_val_windows, val_step_size, refit_every_n_windows, refit_full, enable_ensemble, skip_model_selection, random_seed, verbosity)\u001b[39m\n\u001b[32m    712\u001b[39m logger.info(\u001b[33m\"\u001b[39m\u001b[38;5;130;01m\\n\u001b[39;00m\u001b[33mFitting with arguments:\u001b[39m\u001b[33m\"\u001b[39m)\n\u001b[32m    713\u001b[39m logger.info(\u001b[33mf\u001b[39m\u001b[33m\"\u001b[39m\u001b[38;5;132;01m{\u001b[39;00mpprint.pformat({k:\u001b[38;5;250m \u001b[39mv\u001b[38;5;250m \u001b[39m\u001b[38;5;28;01mfor\u001b[39;00m\u001b[38;5;250m \u001b[39mk,\u001b[38;5;250m \u001b[39mv\u001b[38;5;250m \u001b[39m\u001b[38;5;129;01min\u001b[39;00m\u001b[38;5;250m \u001b[39mfit_args.items()\u001b[38;5;250m \u001b[39m\u001b[38;5;28;01mif\u001b[39;00m\u001b[38;5;250m \u001b[39mv\u001b[38;5;250m \u001b[39m\u001b[38;5;129;01mis\u001b[39;00m\u001b[38;5;250m \u001b[39m\u001b[38;5;129;01mnot\u001b[39;00m\u001b[38;5;250m \u001b[39m\u001b[38;5;28;01mNone\u001b[39;00m})\u001b[38;5;132;01m}\u001b[39;00m\u001b[38;5;130;01m\\n\u001b[39;00m\u001b[33m\"\u001b[39m)\n\u001b[32m--> \u001b[39m\u001b[32m715\u001b[39m train_data = \u001b[38;5;28;43mself\u001b[39;49m\u001b[43m.\u001b[49m\u001b[43m_check_and_prepare_data_frame\u001b[49m\u001b[43m(\u001b[49m\u001b[43mtrain_data\u001b[49m\u001b[43m,\u001b[49m\u001b[43m \u001b[49m\u001b[43mname\u001b[49m\u001b[43m=\u001b[49m\u001b[33;43m\"\u001b[39;49m\u001b[33;43mtrain_data\u001b[39;49m\u001b[33;43m\"\u001b[39;49m\u001b[43m)\u001b[49m\n\u001b[32m    716\u001b[39m logger.info(\u001b[33mf\u001b[39m\u001b[33m\"\u001b[39m\u001b[33mProvided train_data has \u001b[39m\u001b[38;5;132;01m{\u001b[39;00m\u001b[38;5;28mself\u001b[39m._get_dataset_stats(train_data)\u001b[38;5;132;01m}\u001b[39;00m\u001b[33m\"\u001b[39m)\n\u001b[32m    718\u001b[39m \u001b[38;5;28;01mif\u001b[39;00m val_step_size \u001b[38;5;129;01mis\u001b[39;00m \u001b[38;5;28;01mNone\u001b[39;00m:\n",
      "\u001b[36mFile \u001b[39m\u001b[32mc:\\Users\\alejandrs\\anaconda3\\envs\\chronosEnv\\Lib\\site-packages\\autogluon\\timeseries\\predictor.py:308\u001b[39m, in \u001b[36mTimeSeriesPredictor._check_and_prepare_data_frame\u001b[39m\u001b[34m(self, data, name)\u001b[39m\n\u001b[32m    305\u001b[39m \u001b[38;5;28;01mif\u001b[39;00m \u001b[38;5;28mself\u001b[39m.freq \u001b[38;5;129;01mis\u001b[39;00m \u001b[38;5;28;01mNone\u001b[39;00m:\n\u001b[32m    306\u001b[39m     \u001b[38;5;28;01mtry\u001b[39;00m:\n\u001b[32m    307\u001b[39m         \u001b[38;5;66;03m# Use all items for inferring the frequency\u001b[39;00m\n\u001b[32m--> \u001b[39m\u001b[32m308\u001b[39m         data_freq = \u001b[43mdf\u001b[49m\u001b[43m.\u001b[49m\u001b[43minfer_frequency\u001b[49m\u001b[43m(\u001b[49m\u001b[43mnum_items\u001b[49m\u001b[43m=\u001b[49m\u001b[38;5;28;43;01mNone\u001b[39;49;00m\u001b[43m,\u001b[49m\u001b[43m \u001b[49m\u001b[43mraise_if_irregular\u001b[49m\u001b[43m=\u001b[49m\u001b[38;5;28;43;01mTrue\u001b[39;49;00m\u001b[43m)\u001b[49m\n\u001b[32m    309\u001b[39m     \u001b[38;5;28;01mexcept\u001b[39;00m \u001b[38;5;167;01mValueError\u001b[39;00m:\n\u001b[32m    310\u001b[39m         \u001b[38;5;28;01mraise\u001b[39;00m \u001b[38;5;167;01mValueError\u001b[39;00m(\n\u001b[32m    311\u001b[39m             \u001b[33mf\u001b[39m\u001b[33m\"\u001b[39m\u001b[33mFrequency of \u001b[39m\u001b[38;5;132;01m{\u001b[39;00mname\u001b[38;5;132;01m}\u001b[39;00m\u001b[33m is not provided and cannot be inferred. Please set the expected data \u001b[39m\u001b[33m\"\u001b[39m\n\u001b[32m    312\u001b[39m             \u001b[33mf\u001b[39m\u001b[33m\"\u001b[39m\u001b[33mfrequency when creating the predictor with `TimeSeriesPredictor(freq=...)` or ensure that \u001b[39m\u001b[33m\"\u001b[39m\n\u001b[32m    313\u001b[39m             \u001b[33mf\u001b[39m\u001b[33m\"\u001b[39m\u001b[33mthe data has a regular time index with `\u001b[39m\u001b[38;5;132;01m{\u001b[39;00mname\u001b[38;5;132;01m}\u001b[39;00m\u001b[33m.convert_frequency(freq=...)`\u001b[39m\u001b[33m\"\u001b[39m\n\u001b[32m    314\u001b[39m         )\n",
      "\u001b[36mFile \u001b[39m\u001b[32mc:\\Users\\alejandrs\\anaconda3\\envs\\chronosEnv\\Lib\\site-packages\\autogluon\\timeseries\\dataset\\ts_dataframe.py:498\u001b[39m, in \u001b[36mTimeSeriesDataFrame.infer_frequency\u001b[39m\u001b[34m(self, num_items, raise_if_irregular)\u001b[39m\n\u001b[32m    495\u001b[39m     \u001b[38;5;28;01mreturn\u001b[39;00m inferred_freq\n\u001b[32m    497\u001b[39m freq_for_each_item = index_df.groupby(ITEMID, sort=\u001b[38;5;28;01mFalse\u001b[39;00m).agg(get_freq)[TIMESTAMP]\n\u001b[32m--> \u001b[39m\u001b[32m498\u001b[39m freq = \u001b[43mfreq_for_each_item\u001b[49m\u001b[43m.\u001b[49m\u001b[43miloc\u001b[49m\u001b[43m[\u001b[49m\u001b[32;43m0\u001b[39;49m\u001b[43m]\u001b[49m\n\u001b[32m    499\u001b[39m \u001b[38;5;28;01mif\u001b[39;00m \u001b[38;5;28mlen\u001b[39m(\u001b[38;5;28mset\u001b[39m(freq_for_each_item)) > \u001b[32m1\u001b[39m \u001b[38;5;129;01mor\u001b[39;00m freq \u001b[38;5;129;01mis\u001b[39;00m \u001b[38;5;28;01mNone\u001b[39;00m:\n\u001b[32m    500\u001b[39m     \u001b[38;5;28;01mif\u001b[39;00m raise_if_irregular:\n",
      "\u001b[36mFile \u001b[39m\u001b[32mc:\\Users\\alejandrs\\anaconda3\\envs\\chronosEnv\\Lib\\site-packages\\pandas\\core\\indexing.py:1191\u001b[39m, in \u001b[36m_LocationIndexer.__getitem__\u001b[39m\u001b[34m(self, key)\u001b[39m\n\u001b[32m   1189\u001b[39m maybe_callable = com.apply_if_callable(key, \u001b[38;5;28mself\u001b[39m.obj)\n\u001b[32m   1190\u001b[39m maybe_callable = \u001b[38;5;28mself\u001b[39m._check_deprecated_callable_usage(key, maybe_callable)\n\u001b[32m-> \u001b[39m\u001b[32m1191\u001b[39m \u001b[38;5;28;01mreturn\u001b[39;00m \u001b[38;5;28;43mself\u001b[39;49m\u001b[43m.\u001b[49m\u001b[43m_getitem_axis\u001b[49m\u001b[43m(\u001b[49m\u001b[43mmaybe_callable\u001b[49m\u001b[43m,\u001b[49m\u001b[43m \u001b[49m\u001b[43maxis\u001b[49m\u001b[43m=\u001b[49m\u001b[43maxis\u001b[49m\u001b[43m)\u001b[49m\n",
      "\u001b[36mFile \u001b[39m\u001b[32mc:\\Users\\alejandrs\\anaconda3\\envs\\chronosEnv\\Lib\\site-packages\\pandas\\core\\indexing.py:1752\u001b[39m, in \u001b[36m_iLocIndexer._getitem_axis\u001b[39m\u001b[34m(self, key, axis)\u001b[39m\n\u001b[32m   1749\u001b[39m     \u001b[38;5;28;01mraise\u001b[39;00m \u001b[38;5;167;01mTypeError\u001b[39;00m(\u001b[33m\"\u001b[39m\u001b[33mCannot index by location index with a non-integer key\u001b[39m\u001b[33m\"\u001b[39m)\n\u001b[32m   1751\u001b[39m \u001b[38;5;66;03m# validate the location\u001b[39;00m\n\u001b[32m-> \u001b[39m\u001b[32m1752\u001b[39m \u001b[38;5;28;43mself\u001b[39;49m\u001b[43m.\u001b[49m\u001b[43m_validate_integer\u001b[49m\u001b[43m(\u001b[49m\u001b[43mkey\u001b[49m\u001b[43m,\u001b[49m\u001b[43m \u001b[49m\u001b[43maxis\u001b[49m\u001b[43m)\u001b[49m\n\u001b[32m   1754\u001b[39m \u001b[38;5;28;01mreturn\u001b[39;00m \u001b[38;5;28mself\u001b[39m.obj._ixs(key, axis=axis)\n",
      "\u001b[36mFile \u001b[39m\u001b[32mc:\\Users\\alejandrs\\anaconda3\\envs\\chronosEnv\\Lib\\site-packages\\pandas\\core\\indexing.py:1685\u001b[39m, in \u001b[36m_iLocIndexer._validate_integer\u001b[39m\u001b[34m(self, key, axis)\u001b[39m\n\u001b[32m   1683\u001b[39m len_axis = \u001b[38;5;28mlen\u001b[39m(\u001b[38;5;28mself\u001b[39m.obj._get_axis(axis))\n\u001b[32m   1684\u001b[39m \u001b[38;5;28;01mif\u001b[39;00m key >= len_axis \u001b[38;5;129;01mor\u001b[39;00m key < -len_axis:\n\u001b[32m-> \u001b[39m\u001b[32m1685\u001b[39m     \u001b[38;5;28;01mraise\u001b[39;00m \u001b[38;5;167;01mIndexError\u001b[39;00m(\u001b[33m\"\u001b[39m\u001b[33msingle positional indexer is out-of-bounds\u001b[39m\u001b[33m\"\u001b[39m)\n",
      "\u001b[31mIndexError\u001b[39m: single positional indexer is out-of-bounds"
     ]
    }
   ],
   "source": [
    "\n",
    "train_data, test_data = train_test_split(df_Industry_1, test_size=0.2, shuffle=False)\n",
    "len_train = len(train_data)\n",
    "len_test = len(test_data)\n",
    "\n",
    "prediction_length_percentage=[1,0.05,0.25,0.5,0.75]\n",
    "historical_remove_percentage=[0, 0.05,0.25,0.5,0.75]\n",
    "\n",
    "#Create results table \n",
    "errors_df= pd.DataFrame(columns=[\"Train_size\",\"Percentage_train\", \"Test_size\", \"Percentage_test\", \"MASE_error\", \"Diference_MASE\", \"WQL_error\", \"Diference_WQL\"])\n",
    "row= 0\n",
    "\n",
    "\n",
    "for j in historical_remove_percentage: \n",
    "\n",
    "    #This is the Train data\n",
    "    historical_length=round(len_train*(1-j))\n",
    "    historical_length=int(round(len_train*(1-j)))\n",
    "    print(historical_length)\n",
    "\n",
    "    for i in prediction_length_percentage:\n",
    "\n",
    "        prediction_length=round(len_test*i)\n",
    "        prediction_length=int(round(len_test*i))\n",
    "        print(prediction_length)\n",
    "        print(train_data.iloc[-historical_length:,:])\n",
    "\n",
    "        #Fit the models\n",
    "        pred_wql, pred_mase= fc.fit_models(prediction_length=prediction_length, train_data=train_data, historical_length=historical_length)\n",
    "\n",
    "        #Remove the oldest data according to the necesary historical_length and predict just the necessary prediction_length\n",
    "        complete_data = pd.concat([train_data.iloc[historical_length:], test_data.iloc[:prediction_length]])\n",
    "  \n",
    "        evaluation_metrics_WQL = pred_wql.evaluate(complete_data)\n",
    "        evaluation_metrics_MASE = pred_mase.evaluate(complete_data)\n",
    "\n",
    "        train_data_relative= len_train-historical_length\n",
    "\n",
    "        #Add to the table\n",
    "        errors_df = fc.update_table(\n",
    "            errors_df,\n",
    "            row,\n",
    "            train_data_relative,\n",
    "            f\"{j*100}%\",\n",
    "            prediction_length,\n",
    "            f\"{i*100}%\",\n",
    "            evaluation_metrics_MASE[\"MASE\"],\n",
    "            evaluation_metrics_WQL[\"WQL\"])\n",
    "        row+=1\n",
    "\n"
   ]
  },
  {
   "cell_type": "code",
   "execution_count": null,
   "metadata": {},
   "outputs": [
    {
     "name": "stdout",
     "output_type": "stream",
     "text": [
      "   Train_size Test_size MASE_error Diference_MASE WQL_error Diference_WQL\n",
      "0           0       914  -6.364384              0 -0.185506             0\n",
      "1           0        46  -0.415724       5.948659 -0.017024      0.168481\n",
      "2           0       228  -1.284598       0.868874 -0.038531      0.021507\n",
      "3           0       457  -4.050998       2.766399 -0.127673      0.089142\n",
      "4           0       686   -4.74118       0.690182 -0.144747      0.017074\n",
      "5         183       914  -6.081281       1.340101 -0.185506      0.040758\n",
      "6         183        46  -0.397232       5.684049 -0.017024      0.168481\n",
      "7         183       228  -1.227456       0.830224 -0.038531      0.021507\n",
      "8         183       457    -3.8708       2.643343 -0.127673      0.089142\n",
      "9         183       686  -4.530281       0.659481 -0.144747      0.017074\n",
      "10        914       914  -4.962313       0.432032 -0.185506      0.040758\n",
      "11        914        46   -0.32414       4.638172 -0.017024      0.168481\n",
      "12        914       228  -1.001602       0.677461 -0.038531      0.021507\n",
      "13        914       457  -3.158565       2.156963 -0.127673      0.089142\n",
      "14        914       686    -3.6967       0.538135 -0.144747      0.017074\n",
      "15       1828       914  -4.642362       0.945662  -0.16488      0.020133\n",
      "16       1828        46  -0.242803       4.399559 -0.014343      0.150538\n",
      "17       1828       228  -0.651704         0.4089 -0.024885      0.010542\n",
      "18       1828       457  -2.810995       2.159291 -0.108347      0.083462\n",
      "19       1828       686  -3.370058       0.559063 -0.125342      0.016995\n",
      "20       2741       914  -7.310873       3.940816 -0.142436      0.017094\n",
      "21       2741        46  -1.061585       6.249288 -0.019116       0.12332\n",
      "22       2741       228  -1.042299       0.019286  -0.02094      0.001824\n",
      "23       2741       457  -3.812678       2.770379  -0.08095      0.060009\n",
      "24       2741       686  -4.946267       1.133589 -0.101735      0.020785\n"
     ]
    }
   ],
   "source": [
    "errors_df"
   ]
  },
  {
   "cell_type": "code",
   "execution_count": null,
   "metadata": {},
   "outputs": [],
   "source": [
    "#Which configurations retrieve the minimum error? \n",
    "#Which ones retrieve the maximum one? \n",
    "\n",
    "#How is the behavior of the error? Make a graph\n",
    "#The less old data the better ???????? "
   ]
  },
  {
   "cell_type": "code",
   "execution_count": null,
   "metadata": {},
   "outputs": [],
   "source": []
  },
  {
   "cell_type": "markdown",
   "metadata": {},
   "source": [
    "In this table it is possible to observe that when \n"
   ]
  },
  {
   "cell_type": "code",
   "execution_count": null,
   "metadata": {},
   "outputs": [
    {
     "name": "stdout",
     "output_type": "stream",
     "text": [
      "Prediction length:  9\n"
     ]
    }
   ],
   "source": [
    "prediction_length=int(round(len_test*0.01))\n",
    "print(\"Prediction length: \", prediction_length)"
   ]
  },
  {
   "cell_type": "code",
   "execution_count": null,
   "metadata": {},
   "outputs": [
    {
     "name": "stderr",
     "output_type": "stream",
     "text": [
      "Beginning AutoGluon training...\n",
      "AutoGluon will save models to 'c:\\UdeA\\Deep NL\\Project\\DeepNLP_Forecasting\\AutogluonModels\\ag-20250518_140043'\n",
      "=================== System Info ===================\n",
      "AutoGluon Version:  1.2\n",
      "Python Version:     3.12.10\n",
      "Operating System:   Windows\n",
      "Platform Machine:   AMD64\n",
      "Platform Version:   10.0.22631\n",
      "CPU Count:          12\n",
      "GPU Count:          1\n",
      "Memory Avail:       0.55 GB / 7.37 GB (7.5%)\n",
      "Disk Space Avail:   35.61 GB / 475.75 GB (7.5%)\n",
      "===================================================\n",
      "Setting presets to: bolt_small\n",
      "\n",
      "Fitting with arguments:\n",
      "{'enable_ensemble': True,\n",
      " 'eval_metric': WQL,\n",
      " 'hyperparameters': {'Chronos': {'model_path': 'bolt_small'}},\n",
      " 'known_covariates_names': [],\n",
      " 'num_val_windows': 1,\n",
      " 'prediction_length': 9,\n",
      " 'quantile_levels': [0.1, 0.2, 0.3, 0.4, 0.5, 0.6, 0.7, 0.8, 0.9],\n",
      " 'random_seed': 123,\n",
      " 'refit_every_n_windows': 1,\n",
      " 'refit_full': False,\n",
      " 'skip_model_selection': True,\n",
      " 'target': 'target',\n",
      " 'verbosity': 2}\n",
      "\n",
      "Inferred time series frequency: 'D'\n",
      "Provided train_data has 3655 rows, 1 time series. Median time series length is 3655 (min=3655, max=3655). \n",
      "\n",
      "Provided data contains following columns:\n",
      "\ttarget: 'target'\n",
      "\n",
      "AutoGluon will gauge predictive performance using evaluation metric: 'WQL'\n",
      "\tThis metric's sign has been flipped to adhere to being higher_is_better. The metric score can be multiplied by -1 to get the metric value.\n",
      "===================================================\n",
      "\n",
      "Starting training. Start time is 2025-05-18 16:00:44\n",
      "Models that will be trained: ['Chronos[bolt_small]']\n",
      "Training timeseries model Chronos[bolt_small]. \n",
      "\t3.97    s     = Training runtime\n",
      "Training complete. Models trained: ['Chronos[bolt_small]']\n",
      "Total runtime: 4.04 s\n",
      "Best model: Chronos[bolt_small]\n"
     ]
    }
   ],
   "source": [
    "predictor_WQL= TimeSeriesPredictor(prediction_length=prediction_length,eval_metric=\"WQL\").fit(\n",
    "    train_data, presets=\"bolt_small\" #if use_cuda else \"bolt_small\"\n",
    "    ,\n",
    ")"
   ]
  },
  {
   "cell_type": "code",
   "execution_count": null,
   "metadata": {},
   "outputs": [
    {
     "name": "stderr",
     "output_type": "stream",
     "text": [
      "Beginning AutoGluon training...\n",
      "AutoGluon will save models to 'c:\\UdeA\\Deep NL\\Project\\DeepNLP_Forecasting\\AutogluonModels\\ag-20250518_140048'\n",
      "=================== System Info ===================\n",
      "AutoGluon Version:  1.2\n",
      "Python Version:     3.12.10\n",
      "Operating System:   Windows\n",
      "Platform Machine:   AMD64\n",
      "Platform Version:   10.0.22631\n",
      "CPU Count:          12\n",
      "GPU Count:          1\n",
      "Memory Avail:       0.27 GB / 7.37 GB (3.6%)\n",
      "Disk Space Avail:   35.61 GB / 475.75 GB (7.5%)\n",
      "===================================================\n",
      "Setting presets to: bolt_small\n",
      "\n",
      "Fitting with arguments:\n",
      "{'enable_ensemble': True,\n",
      " 'eval_metric': MASE,\n",
      " 'hyperparameters': {'Chronos': {'model_path': 'bolt_small'}},\n",
      " 'known_covariates_names': [],\n",
      " 'num_val_windows': 1,\n",
      " 'prediction_length': 9,\n",
      " 'quantile_levels': [0.1, 0.2, 0.3, 0.4, 0.5, 0.6, 0.7, 0.8, 0.9],\n",
      " 'random_seed': 123,\n",
      " 'refit_every_n_windows': 1,\n",
      " 'refit_full': False,\n",
      " 'skip_model_selection': True,\n",
      " 'target': 'target',\n",
      " 'verbosity': 2}\n",
      "\n",
      "Inferred time series frequency: 'D'\n",
      "Provided train_data has 3655 rows, 1 time series. Median time series length is 3655 (min=3655, max=3655). \n",
      "\n",
      "Provided data contains following columns:\n",
      "\ttarget: 'target'\n",
      "\n",
      "AutoGluon will gauge predictive performance using evaluation metric: 'MASE'\n",
      "\tThis metric's sign has been flipped to adhere to being higher_is_better. The metric score can be multiplied by -1 to get the metric value.\n",
      "===================================================\n",
      "\n",
      "Starting training. Start time is 2025-05-18 16:00:49\n",
      "Models that will be trained: ['Chronos[bolt_small]']\n",
      "Training timeseries model Chronos[bolt_small]. \n",
      "\t0.00    s     = Training runtime\n",
      "Training complete. Models trained: ['Chronos[bolt_small]']\n",
      "Total runtime: 0.03 s\n",
      "Best model: Chronos[bolt_small]\n"
     ]
    }
   ],
   "source": [
    "predictor_MASE=TimeSeriesPredictor(prediction_length=prediction_length,eval_metric=\"MASE\").fit(\n",
    "    train_data, presets=\"bolt_small\" #if use_cuda else \"bolt_small\"\n",
    "    ,\n",
    ")"
   ]
  },
  {
   "cell_type": "code",
   "execution_count": null,
   "metadata": {},
   "outputs": [
    {
     "data": {
      "text/html": [
       "<div>\n",
       "<style scoped>\n",
       "    .dataframe tbody tr th:only-of-type {\n",
       "        vertical-align: middle;\n",
       "    }\n",
       "\n",
       "    .dataframe tbody tr th {\n",
       "        vertical-align: top;\n",
       "    }\n",
       "\n",
       "    .dataframe thead th {\n",
       "        text-align: right;\n",
       "    }\n",
       "</style>\n",
       "<table border=\"1\" class=\"dataframe\">\n",
       "  <thead>\n",
       "    <tr style=\"text-align: right;\">\n",
       "      <th></th>\n",
       "      <th>item_id</th>\n",
       "      <th>timestamp</th>\n",
       "      <th>target</th>\n",
       "    </tr>\n",
       "    <tr>\n",
       "      <th>timestamp</th>\n",
       "      <th></th>\n",
       "      <th></th>\n",
       "      <th></th>\n",
       "    </tr>\n",
       "  </thead>\n",
       "  <tbody>\n",
       "    <tr>\n",
       "      <th>2010-03-04 12:00:00</th>\n",
       "      <td>T002014</td>\n",
       "      <td>2010-03-04 12:00:00</td>\n",
       "      <td>8895.4</td>\n",
       "    </tr>\n",
       "    <tr>\n",
       "      <th>2010-03-05 12:00:00</th>\n",
       "      <td>T002014</td>\n",
       "      <td>2010-03-05 12:00:00</td>\n",
       "      <td>8836.5</td>\n",
       "    </tr>\n",
       "    <tr>\n",
       "      <th>2010-03-06 12:00:00</th>\n",
       "      <td>T002014</td>\n",
       "      <td>2010-03-06 12:00:00</td>\n",
       "      <td>8556.9</td>\n",
       "    </tr>\n",
       "    <tr>\n",
       "      <th>2010-03-07 12:00:00</th>\n",
       "      <td>T002014</td>\n",
       "      <td>2010-03-07 12:00:00</td>\n",
       "      <td>8662.3</td>\n",
       "    </tr>\n",
       "    <tr>\n",
       "      <th>2010-03-08 12:00:00</th>\n",
       "      <td>T002014</td>\n",
       "      <td>2010-03-08 12:00:00</td>\n",
       "      <td>8817.7</td>\n",
       "    </tr>\n",
       "    <tr>\n",
       "      <th>2010-03-09 12:00:00</th>\n",
       "      <td>T002014</td>\n",
       "      <td>2010-03-09 12:00:00</td>\n",
       "      <td>8744.2</td>\n",
       "    </tr>\n",
       "    <tr>\n",
       "      <th>2010-03-10 12:00:00</th>\n",
       "      <td>T002014</td>\n",
       "      <td>2010-03-10 12:00:00</td>\n",
       "      <td>8671.2</td>\n",
       "    </tr>\n",
       "    <tr>\n",
       "      <th>2010-03-11 12:00:00</th>\n",
       "      <td>T002014</td>\n",
       "      <td>2010-03-11 12:00:00</td>\n",
       "      <td>8851.4</td>\n",
       "    </tr>\n",
       "    <tr>\n",
       "      <th>2010-03-12 12:00:00</th>\n",
       "      <td>T002014</td>\n",
       "      <td>2010-03-12 12:00:00</td>\n",
       "      <td>8758.7</td>\n",
       "    </tr>\n",
       "  </tbody>\n",
       "</table>\n",
       "</div>"
      ],
      "text/plain": [
       "                     item_id           timestamp  target\n",
       "timestamp                                               \n",
       "2010-03-04 12:00:00  T002014 2010-03-04 12:00:00  8895.4\n",
       "2010-03-05 12:00:00  T002014 2010-03-05 12:00:00  8836.5\n",
       "2010-03-06 12:00:00  T002014 2010-03-06 12:00:00  8556.9\n",
       "2010-03-07 12:00:00  T002014 2010-03-07 12:00:00  8662.3\n",
       "2010-03-08 12:00:00  T002014 2010-03-08 12:00:00  8817.7\n",
       "2010-03-09 12:00:00  T002014 2010-03-09 12:00:00  8744.2\n",
       "2010-03-10 12:00:00  T002014 2010-03-10 12:00:00  8671.2\n",
       "2010-03-11 12:00:00  T002014 2010-03-11 12:00:00  8851.4\n",
       "2010-03-12 12:00:00  T002014 2010-03-12 12:00:00  8758.7"
      ]
     },
     "execution_count": 68,
     "metadata": {},
     "output_type": "execute_result"
    }
   ],
   "source": [
    "test_data.iloc[:prediction_length,:]"
   ]
  },
  {
   "cell_type": "code",
   "execution_count": null,
   "metadata": {},
   "outputs": [],
   "source": [
    "complete_data = pd.concat([train_data, test_data.iloc[:prediction_length,:]])"
   ]
  },
  {
   "cell_type": "code",
   "execution_count": null,
   "metadata": {},
   "outputs": [
    {
     "name": "stderr",
     "output_type": "stream",
     "text": [
      "Beginning AutoGluon training...\n",
      "AutoGluon will save models to 'c:\\UdeA\\Deep NL\\Project\\DeepNLP_Forecasting\\AutogluonModels\\ag-20250518_142621'\n",
      "=================== System Info ===================\n",
      "AutoGluon Version:  1.2\n",
      "Python Version:     3.12.10\n",
      "Operating System:   Windows\n",
      "Platform Machine:   AMD64\n",
      "Platform Version:   10.0.22631\n",
      "CPU Count:          12\n",
      "GPU Count:          1\n",
      "Memory Avail:       0.93 GB / 7.37 GB (12.6%)\n",
      "Disk Space Avail:   27.80 GB / 475.75 GB (5.8%)\n",
      "===================================================\n",
      "Setting presets to: bolt_small\n",
      "\n",
      "Fitting with arguments:\n",
      "{'enable_ensemble': True,\n",
      " 'eval_metric': WQL,\n",
      " 'hyperparameters': {'Chronos': {'model_path': 'bolt_small'}},\n",
      " 'known_covariates_names': [],\n",
      " 'num_val_windows': 1,\n",
      " 'prediction_length': 9,\n",
      " 'quantile_levels': [0.1, 0.2, 0.3, 0.4, 0.5, 0.6, 0.7, 0.8, 0.9],\n",
      " 'random_seed': 123,\n",
      " 'refit_every_n_windows': 1,\n",
      " 'refit_full': False,\n",
      " 'skip_model_selection': True,\n",
      " 'target': 'target',\n",
      " 'verbosity': 2}\n",
      "\n",
      "Inferred time series frequency: 'D'\n",
      "Provided train_data has 3655 rows, 1 time series. Median time series length is 3655 (min=3655, max=3655). \n",
      "\n",
      "Provided data contains following columns:\n",
      "\ttarget: 'target'\n",
      "\n",
      "AutoGluon will gauge predictive performance using evaluation metric: 'WQL'\n",
      "\tThis metric's sign has been flipped to adhere to being higher_is_better. The metric score can be multiplied by -1 to get the metric value.\n",
      "===================================================\n",
      "\n",
      "Starting training. Start time is 2025-05-18 16:26:21\n",
      "Models that will be trained: ['Chronos[bolt_small]']\n",
      "Training timeseries model Chronos[bolt_small]. \n",
      "\t0.05    s     = Training runtime\n",
      "Training complete. Models trained: ['Chronos[bolt_small]']\n",
      "Total runtime: 0.11 s\n",
      "Best model: Chronos[bolt_small]\n"
     ]
    }
   ],
   "source": [
    "predictor = TimeSeriesPredictor(prediction_length=prediction_length).fit(\n",
    "    train_data, presets=\"bolt_small\" #if use_cuda else \"bolt_small\"\n",
    "    ,\n",
    ")"
   ]
  },
  {
   "cell_type": "code",
   "execution_count": null,
   "metadata": {},
   "outputs": [
    {
     "name": "stderr",
     "output_type": "stream",
     "text": [
      "Model not specified in predict, will default to the model with the best validation score: Chronos[bolt_small]\n"
     ]
    },
    {
     "name": "stdout",
     "output_type": "stream",
     "text": [
      "{'WQL': -0.011154310299712176}\n"
     ]
    }
   ],
   "source": [
    "evaluation_metrics = predictor_WQL.evaluate(complete_data)\n",
    "print(evaluation_metrics)"
   ]
  },
  {
   "cell_type": "code",
   "execution_count": null,
   "metadata": {},
   "outputs": [
    {
     "name": "stderr",
     "output_type": "stream",
     "text": [
      "Model not specified in predict, will default to the model with the best validation score: Chronos[bolt_small]\n"
     ]
    },
    {
     "name": "stdout",
     "output_type": "stream",
     "text": [
      "{'MASE': -0.3091361484954353}\n"
     ]
    }
   ],
   "source": [
    "evaluation_metrics_MASE = predictor_MASE.evaluate(complete_data)\n",
    "print(evaluation_metrics_MASE)"
   ]
  },
  {
   "cell_type": "code",
   "execution_count": null,
   "metadata": {},
   "outputs": [],
   "source": [
    "errors_df= pd.DataFrame(columns=[\"Train_size\",\"Test_size\", \"MASE_error\", \"Diference_MASE\", \"WQL_error\", \"Diference_WQL\"])"
   ]
  },
  {
   "cell_type": "code",
   "execution_count": null,
   "metadata": {},
   "outputs": [],
   "source": [
    "errors_df.loc[0, \"Diference_MASE\"] = 0\n",
    "errors_df.loc[0, \"Diference_WQL\"] = 0"
   ]
  },
  {
   "cell_type": "code",
   "execution_count": null,
   "metadata": {},
   "outputs": [],
   "source": [
    "errors_df.loc[0, \"Train_size\"] = len_train\n",
    "errors_df.loc[0, \"Test_size\"] = len_test\n",
    "errors_df.loc[0, \"MASE_error\"] = evaluation_metrics_MASE[\"MASE\"] #The initial error is with the whole dataset\n",
    "errors_df.loc[0, \"WQL_error\"] = evaluation_metrics[\"WQL\"] #The initial error is with the whole dataset"
   ]
  },
  {
   "cell_type": "code",
   "execution_count": null,
   "metadata": {},
   "outputs": [
    {
     "data": {
      "text/html": [
       "<div>\n",
       "<style scoped>\n",
       "    .dataframe tbody tr th:only-of-type {\n",
       "        vertical-align: middle;\n",
       "    }\n",
       "\n",
       "    .dataframe tbody tr th {\n",
       "        vertical-align: top;\n",
       "    }\n",
       "\n",
       "    .dataframe thead th {\n",
       "        text-align: right;\n",
       "    }\n",
       "</style>\n",
       "<table border=\"1\" class=\"dataframe\">\n",
       "  <thead>\n",
       "    <tr style=\"text-align: right;\">\n",
       "      <th></th>\n",
       "      <th>Train_size</th>\n",
       "      <th>Test_size</th>\n",
       "      <th>MASE_error</th>\n",
       "      <th>Diference_MASE</th>\n",
       "      <th>WQL_error</th>\n",
       "      <th>Diference_WQL</th>\n",
       "    </tr>\n",
       "  </thead>\n",
       "  <tbody>\n",
       "    <tr>\n",
       "      <th>0</th>\n",
       "      <td>3655</td>\n",
       "      <td>914</td>\n",
       "      <td>-0.541593</td>\n",
       "      <td>0</td>\n",
       "      <td>-0.008049</td>\n",
       "      <td>0</td>\n",
       "    </tr>\n",
       "  </tbody>\n",
       "</table>\n",
       "</div>"
      ],
      "text/plain": [
       "  Train_size Test_size MASE_error Diference_MASE WQL_error Diference_WQL\n",
       "0       3655       914  -0.541593              0 -0.008049             0"
      ]
     },
     "execution_count": 57,
     "metadata": {},
     "output_type": "execute_result"
    }
   ],
   "source": [
    "errors_df"
   ]
  },
  {
   "cell_type": "code",
   "execution_count": null,
   "metadata": {},
   "outputs": [
    {
     "name": "stderr",
     "output_type": "stream",
     "text": [
      "Model not specified in predict, will default to the model with the best validation score: Chronos[bolt_small]\n"
     ]
    }
   ],
   "source": [
    "predictions = predictor.predict(train_data)"
   ]
  },
  {
   "cell_type": "code",
   "execution_count": null,
   "metadata": {},
   "outputs": [
    {
     "name": "stdout",
     "output_type": "stream",
     "text": [
      "                                    mean          0.1          0.2  \\\n",
      "item_id timestamp                                                    \n",
      "T002014 2010-03-04 12:00:00  8861.537109  8638.015625  8725.077148   \n",
      "        2010-03-05 12:00:00  8843.645508  8566.671875  8666.236328   \n",
      "        2010-03-06 12:00:00  8846.398438  8542.627930  8642.883789   \n",
      "        2010-03-07 12:00:00  8865.844727  8527.414062  8639.757812   \n",
      "        2010-03-08 12:00:00  8831.139648  8477.458008  8595.448242   \n",
      "        2010-03-09 12:00:00  8858.715820  8473.966797  8596.961914   \n",
      "        2010-03-10 12:00:00  8849.948242  8442.547852  8573.353516   \n",
      "        2010-03-11 12:00:00  8792.218750  8379.011719  8506.894531   \n",
      "        2010-03-12 12:00:00  8741.097656  8301.008789  8438.657227   \n",
      "\n",
      "                                     0.3          0.4          0.5  \\\n",
      "item_id timestamp                                                    \n",
      "T002014 2010-03-04 12:00:00  8778.553711  8819.754883  8861.537109   \n",
      "        2010-03-05 12:00:00  8738.488281  8795.726562  8843.645508   \n",
      "        2010-03-06 12:00:00  8721.298828  8782.913086  8846.398438   \n",
      "        2010-03-07 12:00:00  8722.345703  8793.036133  8865.844727   \n",
      "        2010-03-08 12:00:00  8679.808594  8754.396484  8831.139648   \n",
      "        2010-03-09 12:00:00  8691.839844  8774.684570  8858.715820   \n",
      "        2010-03-10 12:00:00  8671.924805  8764.126953  8849.948242   \n",
      "        2010-03-11 12:00:00  8608.625977  8703.808594  8792.218750   \n",
      "        2010-03-12 12:00:00  8549.636719  8644.710938  8741.097656   \n",
      "\n",
      "                                     0.6          0.7          0.8  \\\n",
      "item_id timestamp                                                    \n",
      "T002014 2010-03-04 12:00:00  8899.411133  8937.404297  8989.910156   \n",
      "        2010-03-05 12:00:00  8894.353516  8939.820312  9004.735352   \n",
      "        2010-03-06 12:00:00  8906.445312  8956.828125  9026.924805   \n",
      "        2010-03-07 12:00:00  8930.996094  8989.907227  9065.130859   \n",
      "        2010-03-08 12:00:00  8901.446289  8975.457031  9049.535156   \n",
      "        2010-03-09 12:00:00  8939.986328  9023.744141  9116.260742   \n",
      "        2010-03-10 12:00:00  8929.074219  9014.293945  9102.994141   \n",
      "        2010-03-11 12:00:00  8877.650391  8958.775391  9052.586914   \n",
      "        2010-03-12 12:00:00  8831.327148  8918.400391  9011.496094   \n",
      "\n",
      "                                     0.9  \n",
      "item_id timestamp                         \n",
      "T002014 2010-03-04 12:00:00  9093.728516  \n",
      "        2010-03-05 12:00:00  9118.520508  \n",
      "        2010-03-06 12:00:00  9149.105469  \n",
      "        2010-03-07 12:00:00  9192.527344  \n",
      "        2010-03-08 12:00:00  9172.443359  \n",
      "        2010-03-09 12:00:00  9228.911133  \n",
      "        2010-03-10 12:00:00  9236.291992  \n",
      "        2010-03-11 12:00:00  9194.056641  \n",
      "        2010-03-12 12:00:00  9177.566406  \n"
     ]
    }
   ],
   "source": [
    "print(predictions)"
   ]
  },
  {
   "cell_type": "code",
   "execution_count": null,
   "metadata": {},
   "outputs": [],
   "source": [
    "#We need to part from the baseline with "
   ]
  },
  {
   "cell_type": "code",
   "execution_count": null,
   "metadata": {},
   "outputs": [
    {
     "data": {
      "text/html": [
       "<div>\n",
       "<style scoped>\n",
       "    .dataframe tbody tr th:only-of-type {\n",
       "        vertical-align: middle;\n",
       "    }\n",
       "\n",
       "    .dataframe tbody tr th {\n",
       "        vertical-align: top;\n",
       "    }\n",
       "\n",
       "    .dataframe thead th {\n",
       "        text-align: right;\n",
       "    }\n",
       "</style>\n",
       "<table border=\"1\" class=\"dataframe\">\n",
       "  <thead>\n",
       "    <tr style=\"text-align: right;\">\n",
       "      <th></th>\n",
       "      <th>item_id</th>\n",
       "      <th>timestamp</th>\n",
       "      <th>target</th>\n",
       "    </tr>\n",
       "    <tr>\n",
       "      <th>timestamp</th>\n",
       "      <th></th>\n",
       "      <th></th>\n",
       "      <th></th>\n",
       "    </tr>\n",
       "  </thead>\n",
       "  <tbody>\n",
       "    <tr>\n",
       "      <th>2010-03-04 12:00:00</th>\n",
       "      <td>T002014</td>\n",
       "      <td>2010-03-04 12:00:00</td>\n",
       "      <td>8895.4</td>\n",
       "    </tr>\n",
       "    <tr>\n",
       "      <th>2010-03-05 12:00:00</th>\n",
       "      <td>T002014</td>\n",
       "      <td>2010-03-05 12:00:00</td>\n",
       "      <td>8836.5</td>\n",
       "    </tr>\n",
       "    <tr>\n",
       "      <th>2010-03-06 12:00:00</th>\n",
       "      <td>T002014</td>\n",
       "      <td>2010-03-06 12:00:00</td>\n",
       "      <td>8556.9</td>\n",
       "    </tr>\n",
       "    <tr>\n",
       "      <th>2010-03-07 12:00:00</th>\n",
       "      <td>T002014</td>\n",
       "      <td>2010-03-07 12:00:00</td>\n",
       "      <td>8662.3</td>\n",
       "    </tr>\n",
       "    <tr>\n",
       "      <th>2010-03-08 12:00:00</th>\n",
       "      <td>T002014</td>\n",
       "      <td>2010-03-08 12:00:00</td>\n",
       "      <td>8817.7</td>\n",
       "    </tr>\n",
       "    <tr>\n",
       "      <th>2010-03-09 12:00:00</th>\n",
       "      <td>T002014</td>\n",
       "      <td>2010-03-09 12:00:00</td>\n",
       "      <td>8744.2</td>\n",
       "    </tr>\n",
       "    <tr>\n",
       "      <th>2010-03-10 12:00:00</th>\n",
       "      <td>T002014</td>\n",
       "      <td>2010-03-10 12:00:00</td>\n",
       "      <td>8671.2</td>\n",
       "    </tr>\n",
       "    <tr>\n",
       "      <th>2010-03-11 12:00:00</th>\n",
       "      <td>T002014</td>\n",
       "      <td>2010-03-11 12:00:00</td>\n",
       "      <td>8851.4</td>\n",
       "    </tr>\n",
       "    <tr>\n",
       "      <th>2010-03-12 12:00:00</th>\n",
       "      <td>T002014</td>\n",
       "      <td>2010-03-12 12:00:00</td>\n",
       "      <td>8758.7</td>\n",
       "    </tr>\n",
       "  </tbody>\n",
       "</table>\n",
       "</div>"
      ],
      "text/plain": [
       "                     item_id           timestamp  target\n",
       "timestamp                                               \n",
       "2010-03-04 12:00:00  T002014 2010-03-04 12:00:00  8895.4\n",
       "2010-03-05 12:00:00  T002014 2010-03-05 12:00:00  8836.5\n",
       "2010-03-06 12:00:00  T002014 2010-03-06 12:00:00  8556.9\n",
       "2010-03-07 12:00:00  T002014 2010-03-07 12:00:00  8662.3\n",
       "2010-03-08 12:00:00  T002014 2010-03-08 12:00:00  8817.7\n",
       "2010-03-09 12:00:00  T002014 2010-03-09 12:00:00  8744.2\n",
       "2010-03-10 12:00:00  T002014 2010-03-10 12:00:00  8671.2\n",
       "2010-03-11 12:00:00  T002014 2010-03-11 12:00:00  8851.4\n",
       "2010-03-12 12:00:00  T002014 2010-03-12 12:00:00  8758.7"
      ]
     },
     "execution_count": 61,
     "metadata": {},
     "output_type": "execute_result"
    }
   ],
   "source": [
    "test_data.iloc[:prediction_length,:]"
   ]
  },
  {
   "cell_type": "code",
   "execution_count": null,
   "metadata": {},
   "outputs": [],
   "source": [
    "# \n",
    "complete_data = pd.concat([train_data, test_data.iloc[:prediction_length,:]])"
   ]
  },
  {
   "cell_type": "code",
   "execution_count": null,
   "metadata": {},
   "outputs": [
    {
     "name": "stderr",
     "output_type": "stream",
     "text": [
      "Model not specified in predict, will default to the model with the best validation score: Chronos[bolt_small]\n"
     ]
    },
    {
     "name": "stdout",
     "output_type": "stream",
     "text": [
      "{'WQL': -0.011154310299712176}\n"
     ]
    }
   ],
   "source": [
    "evaluation_metrics = predictor.evaluate(complete_data)\n",
    "print(evaluation_metrics)"
   ]
  },
  {
   "cell_type": "code",
   "execution_count": null,
   "metadata": {},
   "outputs": [],
   "source": []
  },
  {
   "cell_type": "markdown",
   "metadata": {},
   "source": [
    "----------------------------------------------------------"
   ]
  },
  {
   "cell_type": "code",
   "execution_count": null,
   "metadata": {},
   "outputs": [],
   "source": []
  },
  {
   "cell_type": "code",
   "execution_count": null,
   "metadata": {},
   "outputs": [
    {
     "data": {
      "image/png": "[encoded data removed]",
      "text/plain": [
       "<Figure size 2000x500 with 1 Axes>"
      ]
     },
     "metadata": {},
     "output_type": "display_data"
    }
   ],
   "source": [
    "low, median, high = predictions.loc[:, \"0.1\"], predictions.loc[:, \"0.5\"], predictions.loc[:, \"0.9\"]\n",
    "start_forecasting_date = test_data.index.get_level_values(\"timestamp\")[0]\n",
    "plot_timeseries_forecasting(df_Industry_1.iloc[:,2], low, median, high,\n",
    "                            start_forecasting_date=start_forecasting_date,\n",
    "                            prediction_length=prediction_length)"
   ]
  },
  {
   "cell_type": "markdown",
   "metadata": {},
   "source": [
    "## Demography dataset"
   ]
  },
  {
   "cell_type": "code",
   "execution_count": null,
   "metadata": {},
   "outputs": [
    {
     "data": {
      "text/html": [
       "<div>\n",
       "<style scoped>\n",
       "    .dataframe tbody tr th:only-of-type {\n",
       "        vertical-align: middle;\n",
       "    }\n",
       "\n",
       "    .dataframe tbody tr th {\n",
       "        vertical-align: top;\n",
       "    }\n",
       "\n",
       "    .dataframe thead th {\n",
       "        text-align: right;\n",
       "    }\n",
       "</style>\n",
       "<table border=\"1\" class=\"dataframe\">\n",
       "  <thead>\n",
       "    <tr style=\"text-align: right;\">\n",
       "      <th></th>\n",
       "      <th>id</th>\n",
       "      <th>timestamp</th>\n",
       "      <th>target</th>\n",
       "      <th>category</th>\n",
       "    </tr>\n",
       "  </thead>\n",
       "  <tbody>\n",
       "    <tr>\n",
       "      <th>1603</th>\n",
       "      <td>T001603</td>\n",
       "      <td>1997-03-01 12:00:00</td>\n",
       "      <td>138.8524</td>\n",
       "      <td>Demographic</td>\n",
       "    </tr>\n",
       "    <tr>\n",
       "      <th>1603</th>\n",
       "      <td>T001603</td>\n",
       "      <td>1997-03-02 12:00:00</td>\n",
       "      <td>140.4125</td>\n",
       "      <td>Demographic</td>\n",
       "    </tr>\n",
       "    <tr>\n",
       "      <th>1603</th>\n",
       "      <td>T001603</td>\n",
       "      <td>1997-03-03 12:00:00</td>\n",
       "      <td>138.6265</td>\n",
       "      <td>Demographic</td>\n",
       "    </tr>\n",
       "    <tr>\n",
       "      <th>1603</th>\n",
       "      <td>T001603</td>\n",
       "      <td>1997-03-04 12:00:00</td>\n",
       "      <td>141.9203</td>\n",
       "      <td>Demographic</td>\n",
       "    </tr>\n",
       "    <tr>\n",
       "      <th>1603</th>\n",
       "      <td>T001603</td>\n",
       "      <td>1997-03-05 12:00:00</td>\n",
       "      <td>148.3013</td>\n",
       "      <td>Demographic</td>\n",
       "    </tr>\n",
       "    <tr>\n",
       "      <th>1603</th>\n",
       "      <td>T001603</td>\n",
       "      <td>1997-03-06 12:00:00</td>\n",
       "      <td>146.8035</td>\n",
       "      <td>Demographic</td>\n",
       "    </tr>\n",
       "    <tr>\n",
       "      <th>1603</th>\n",
       "      <td>T001603</td>\n",
       "      <td>1997-03-07 12:00:00</td>\n",
       "      <td>143.7627</td>\n",
       "      <td>Demographic</td>\n",
       "    </tr>\n",
       "    <tr>\n",
       "      <th>1603</th>\n",
       "      <td>T001603</td>\n",
       "      <td>1997-03-08 12:00:00</td>\n",
       "      <td>152.0674</td>\n",
       "      <td>Demographic</td>\n",
       "    </tr>\n",
       "    <tr>\n",
       "      <th>1603</th>\n",
       "      <td>T001603</td>\n",
       "      <td>1997-03-09 12:00:00</td>\n",
       "      <td>161.0877</td>\n",
       "      <td>Demographic</td>\n",
       "    </tr>\n",
       "    <tr>\n",
       "      <th>1603</th>\n",
       "      <td>T001603</td>\n",
       "      <td>1997-03-10 12:00:00</td>\n",
       "      <td>163.0214</td>\n",
       "      <td>Demographic</td>\n",
       "    </tr>\n",
       "  </tbody>\n",
       "</table>\n",
       "</div>"
      ],
      "text/plain": [
       "           id           timestamp    target     category\n",
       "1603  T001603 1997-03-01 12:00:00  138.8524  Demographic\n",
       "1603  T001603 1997-03-02 12:00:00  140.4125  Demographic\n",
       "1603  T001603 1997-03-03 12:00:00  138.6265  Demographic\n",
       "1603  T001603 1997-03-04 12:00:00  141.9203  Demographic\n",
       "1603  T001603 1997-03-05 12:00:00  148.3013  Demographic\n",
       "1603  T001603 1997-03-06 12:00:00  146.8035  Demographic\n",
       "1603  T001603 1997-03-07 12:00:00  143.7627  Demographic\n",
       "1603  T001603 1997-03-08 12:00:00  152.0674  Demographic\n",
       "1603  T001603 1997-03-09 12:00:00  161.0877  Demographic\n",
       "1603  T001603 1997-03-10 12:00:00  163.0214  Demographic"
      ]
     },
     "execution_count": 65,
     "metadata": {},
     "output_type": "execute_result"
    }
   ],
   "source": [
    "df_Demography.head(10)"
   ]
  },
  {
   "cell_type": "code",
   "execution_count": null,
   "metadata": {},
   "outputs": [
    {
     "data": {
      "text/plain": [
       "0"
      ]
     },
     "execution_count": 66,
     "metadata": {},
     "output_type": "execute_result"
    }
   ],
   "source": [
    "#Check fot nulls in the target column\n",
    "df_Demography[\"target\"].isnull().sum()"
   ]
  }
 ],
 "metadata": {
  "kernelspec": {
   "display_name": "chronosEnv",
   "language": "python",
   "name": "python3"
  },
  "language_info": {
   "codemirror_mode": {
    "name": "ipython",
    "version": 3
   },
   "file_extension": ".py",
   "mimetype": "text/x-python",
   "name": "python",
   "nbconvert_exporter": "python",
   "pygments_lexer": "ipython3",
   "version": "3.11.13"
  }
 },
 "nbformat": 4,
 "nbformat_minor": 2
}

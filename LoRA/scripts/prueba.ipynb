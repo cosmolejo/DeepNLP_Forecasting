{
 "cells": [
  {
   "cell_type": "markdown",
   "id": "4eca3baa",
   "metadata": {},
   "source": [
    "## Chronos & LoRA: Learning fine details efficiently :)\n",
    "Before diving into fine-tuning, let's get your environment ready with the following steps:\n",
    "1. **Create a Python virtual environment:**\n",
    "    <pre>\n",
    "    `python -m venv [name of the environment]`\n",
    "    </pre>\n",
    "2. Open a terminal inside the LoRA folder (located within the repository), and install Chronos in editable mode with training dependencies:\n",
    "    <pre>\n",
    "    `pip install --editable \".[training]\"`\n",
    "    </pre>\n",
    "3. **Install PEFT (Parameter-Efficient Fine-Tuning)** to enable LoRA support: \n",
    "    <pre>\n",
    "    `pip install peft`\n",
    "    </pre>\n",
    "4. **Install the CUDA-enabled version of PyTorch** to leverage GPU acceleration (if available): \n",
    "    - If you are on **Windows 11** with an NVIDIA GPU: \n",
    "    <pre>\n",
    "        `pip3 install torch torchvision torchaudio --index-url https://download.pytorch.org/whl/cu128`\n",
    "    </pre>\n",
    "    - On other platforms, please visit the [official PyTorch install guide](https://pytorch.org/get-started/locally/) to find the right command for your system\n",
    "5. **Start fine-tuning:** Navigate to the scripts folder and run:\n",
    "`python training/train.py --config ./training/configs/chronos-t5-small-lora.yaml`.\n",
    "    <pre>\n",
    "   This command uses the configuration specified in: `./training/configs/chronos-t5-small-lora.yaml`\n",
    "    </pre>"
   ]
  },
  {
   "cell_type": "code",
   "execution_count": null,
   "id": "5f2ffa0a",
   "metadata": {
    "vscode": {
     "languageId": "shellscript"
    }
   },
   "outputs": [
    {
     "name": "stderr",
     "output_type": "stream",
     "text": [
      "d:\\TODO\\PoliTo\\SEMESTRES\\Segundo año\\Deep Natural Language Processing\\Project\\DeepNLP_Forecasting\\LoRA\\LoRAenv\\Lib\\site-packages\\gluonts\\json.py:102: UserWarning: Using `json`-module for json-handling. Consider installing one of `orjson`, `ujson` to speed up serialization and deserialization.\n",
      "  warnings.warn(\n",
      "Traceback (most recent call last):\n",
      "  File \u001b[35m\"d:\\TODO\\PoliTo\\SEMESTRES\\Segundo año\\Deep Natural Language Processing\\Project\\DeepNLP_Forecasting\\LoRA\\scripts\\training\\train.py\"\u001b[0m, line \u001b[35m47\u001b[0m, in \u001b[35m<module>\u001b[0m\n",
      "    from chronos import ChronosConfig, ChronosTokenizer\n",
      "\u001b[1;35mModuleNotFoundError\u001b[0m: \u001b[35mNo module named 'chronos'\u001b[0m\n"
     ]
    }
   ],
   "source": [
    "!python training/train.py --config ./training/configs/chronos-t5-small-lora.yaml"
   ]
  },
  {
   "cell_type": "code",
   "execution_count": null,
   "id": "dab86813",
   "metadata": {
    "vscode": {
     "languageId": "shellscript"
    }
   },
   "outputs": [],
   "source": []
  }
 ],
 "metadata": {
  "kernelspec": {
   "display_name": "LoRAenv",
   "language": "python",
   "name": "python3"
  },
  "language_info": {
   "codemirror_mode": {
    "name": "ipython",
    "version": 3
   },
   "file_extension": ".py",
   "mimetype": "text/x-python",
   "name": "python",
   "nbconvert_exporter": "python",
   "pygments_lexer": "ipython3",
   "version": "3.13.2"
  }
 },
 "nbformat": 4,
 "nbformat_minor": 5
}

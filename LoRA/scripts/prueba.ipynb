{
 "cells": [
  {
   "cell_type": "markdown",
   "id": "4eca3baa",
   "metadata": {},
   "source": [
    "## Chronos & LoRA: Learning fine details efficiently :)\n",
    "Before diving into fine-tuning, let's get your environment ready with the following steps:\n",
    "1. **Create a Python virtual environment:**\n",
    "    <pre>\n",
    "    `python -m venv [name of the environment]`\n",
    "    </pre>\n",
    "2. Open a terminal inside the LoRA folder (located within the repository), and install Chronos in editable mode with training dependencies:\n",
    "    <pre>\n",
    "    `pip install --editable \".[training]\"`\n",
    "    </pre>\n",
    "3. **Install PEFT (Parameter-Efficient Fine-Tuning)** to enable LoRA support: \n",
    "    <pre>\n",
    "    `pip install peft`\n",
    "    </pre>\n",
    "4. **Install the CUDA-enabled version of PyTorch** to leverage GPU acceleration (if available): \n",
    "    - If you are on **Windows 11** with an NVIDIA GPU: \n",
    "    <pre>\n",
    "        `pip3 install torch torchvision torchaudio --index-url https://download.pytorch.org/whl/cu128`\n",
    "    </pre>\n",
    "    - On other platforms, please visit the [official PyTorch install guide](https://pytorch.org/get-started/locally/) to find the right command for your system\n",
    "5. **Start fine-tuning:** Navigate to the scripts folder and run:\n",
    "`python training/train.py --config ./training/configs/chronos-t5-small-lora.yaml`.\n",
    "    <pre>\n",
    "   This command uses the configuration specified in: `./training/configs/chronos-t5-small-lora.yaml`\n",
    "    </pre>"
   ]
  },
  {
   "cell_type": "code",
   "execution_count": null,
   "id": "5f2ffa0a",
   "metadata": {
    "vscode": {
     "languageId": "shellscript"
    }
   },
   "outputs": [
    {
     "name": "stderr",
     "output_type": "stream",
     "text": [
      "d:\\TODO\\PoliTo\\SEMESTRES\\Segundo año\\Deep Natural Language Processing\\Project\\DeepNLP_Forecasting\\LoRA\\LoRAenv\\Lib\\site-packages\\gluonts\\json.py:102: UserWarning: Using `json`-module for json-handling. Consider installing one of `orjson`, `ujson` to speed up serialization and deserialization.\n",
      "  warnings.warn(\n",
      "Traceback (most recent call last):\n",
      "  File \u001b[35m\"d:\\TODO\\PoliTo\\SEMESTRES\\Segundo año\\Deep Natural Language Processing\\Project\\DeepNLP_Forecasting\\LoRA\\scripts\\training\\train.py\"\u001b[0m, line \u001b[35m47\u001b[0m, in \u001b[35m<module>\u001b[0m\n",
      "    from chronos import ChronosConfig, ChronosTokenizer\n",
      "\u001b[1;35mModuleNotFoundError\u001b[0m: \u001b[35mNo module named 'chronos'\u001b[0m\n"
     ]
    }
   ],
   "source": [
    "!python training/train.py --config ./training/configs/chronos-t5-small-lora.yaml"
   ]
  },
  {
   "cell_type": "code",
   "execution_count": 2,
   "id": "dab86813",
   "metadata": {},
   "outputs": [
    {
     "name": "stderr",
     "output_type": "stream",
     "text": [
      "d:\\TODO\\PoliTo\\YEARS\\Second year\\Deep Natural Language Processing\\Project\\DeepNLP_Forecasting\\LoRA\\LoRAenv\\Lib\\site-packages\\tqdm\\auto.py:21: TqdmWarning: IProgress not found. Please update jupyter and ipywidgets. See https://ipywidgets.readthedocs.io/en/stable/user_install.html\n",
      "  from .autonotebook import tqdm as notebook_tqdm\n"
     ]
    }
   ],
   "source": [
    "import datasets"
   ]
  },
  {
   "cell_type": "code",
   "execution_count": 3,
   "id": "aeb3cdc3",
   "metadata": {},
   "outputs": [
    {
     "data": {
      "text/plain": [
       "dict_keys(['id', 'timestamp', 'target'])"
      ]
     },
     "execution_count": 3,
     "metadata": {},
     "output_type": "execute_result"
    }
   ],
   "source": [
    "ds = datasets.load_dataset(\"autogluon/chronos_datasets\", \"monash_australian_electricity\", split=\"train\")\n",
    "ds.set_format(\"numpy\")  # sequences returned as numpy arrays\n",
    "ds[0].keys()"
   ]
  },
  {
   "cell_type": "code",
   "execution_count": 10,
   "id": "21ffba97",
   "metadata": {},
   "outputs": [
    {
     "data": {
      "text/plain": [
       "{'id': 'T000000',\n",
       " 'timestamp': array(['2002-01-01T00:00:00.000', '2002-01-01T00:30:00.000',\n",
       "        '2002-01-01T01:00:00.000', ..., '2015-02-28T22:30:00.000',\n",
       "        '2015-02-28T23:00:00.000', '2015-02-28T23:30:00.000'],\n",
       "       dtype='datetime64[ms]'),\n",
       " 'target': array([5714.045 , 5360.189 , 5014.835 , ..., 5749.3555, 5505.216 ,\n",
       "        5356.356 ], dtype=float32)}"
      ]
     },
     "execution_count": 10,
     "metadata": {},
     "output_type": "execute_result"
    }
   ],
   "source": [
    "ds[0]"
   ]
  },
  {
   "cell_type": "code",
   "execution_count": 12,
   "id": "98bc60ac",
   "metadata": {},
   "outputs": [],
   "source": [
    "from gluonts.dataset.arrow import ArrowWriter\n",
    "from pathlib import Path"
   ]
  },
  {
   "cell_type": "code",
   "execution_count": 15,
   "id": "93b9d971",
   "metadata": {},
   "outputs": [
    {
     "data": {
      "text/plain": [
       "WindowsPath('d:/TODO/PoliTo/YEARS/Second year/Deep Natural Language Processing/Project/DeepNLP_Forecasting/LoRA/scripts')"
      ]
     },
     "execution_count": 15,
     "metadata": {},
     "output_type": "execute_result"
    }
   ],
   "source": [
    "Path.cwd()"
   ]
  },
  {
   "cell_type": "code",
   "execution_count": 16,
   "id": "f16be24f",
   "metadata": {},
   "outputs": [],
   "source": [
    "ArrowWriter(compression=\"lz4\").write_to_file(\n",
    "        ds,\n",
    "        path=Path.cwd()/ \"example.arrow\",\n",
    "    )"
   ]
  },
  {
   "cell_type": "code",
   "execution_count": 17,
   "id": "c69dcbc0",
   "metadata": {},
   "outputs": [
    {
     "ename": "ModuleNotFoundError",
     "evalue": "No module named 'kernel_synth'",
     "output_type": "error",
     "traceback": [
      "\u001b[31m---------------------------------------------------------------------------\u001b[39m",
      "\u001b[31mModuleNotFoundError\u001b[39m                       Traceback (most recent call last)",
      "\u001b[36mCell\u001b[39m\u001b[36m \u001b[39m\u001b[32mIn[17]\u001b[39m\u001b[32m, line 1\u001b[39m\n\u001b[32m----> \u001b[39m\u001b[32m1\u001b[39m \u001b[38;5;28;01mfrom\u001b[39;00m\u001b[38;5;250m \u001b[39m\u001b[34;01mkernel_synth\u001b[39;00m\u001b[38;5;250m \u001b[39m\u001b[38;5;28;01mimport\u001b[39;00m generate_time_series\n",
      "\u001b[31mModuleNotFoundError\u001b[39m: No module named 'kernel_synth'"
     ]
    }
   ],
   "source": [
    "from kernel_synth import generate_time_series"
   ]
  },
  {
   "cell_type": "code",
   "execution_count": null,
   "id": "b19611b0",
   "metadata": {},
   "outputs": [],
   "source": []
  }
 ],
 "metadata": {
  "kernelspec": {
   "display_name": "LoRAenv",
   "language": "python",
   "name": "python3"
  },
  "language_info": {
   "codemirror_mode": {
    "name": "ipython",
    "version": 3
   },
   "file_extension": ".py",
   "mimetype": "text/x-python",
   "name": "python",
   "nbconvert_exporter": "python",
   "pygments_lexer": "ipython3",
   "version": "3.13.2"
  }
 },
 "nbformat": 4,
 "nbformat_minor": 5
}

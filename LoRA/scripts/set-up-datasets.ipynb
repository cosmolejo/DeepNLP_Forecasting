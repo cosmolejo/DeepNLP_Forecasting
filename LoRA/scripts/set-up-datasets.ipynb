{
 "cells": [
  {
   "cell_type": "markdown",
   "id": "5f03ea35",
   "metadata": {},
   "source": [
    "If you want to follow the following notebook, it is not enough with following the steps described at \"README for fine-tuning\", you need to install autogluon following the instructions on its web: https://auto.gluon.ai/stable/install.html"
   ]
  },
  {
   "cell_type": "code",
   "execution_count": 9,
   "id": "dab86813",
   "metadata": {},
   "outputs": [],
   "source": [
    "import datasets\n",
    "from gluonts.dataset.arrow import ArrowWriter\n",
    "from pathlib import Path\n",
    "from typing import Any"
   ]
  },
  {
   "cell_type": "code",
   "execution_count": 10,
   "id": "3223e23f",
   "metadata": {},
   "outputs": [],
   "source": [
    "def to_training_chronos_format(dataset: datasets.arrow_dataset.Dataset, H: int | Any = None):\n",
    "    return dataset.map(\n",
    "        lambda ts: \n",
    "                {'start': str(ts['timestamp'][0]), \n",
    "                 'target': ts['target'][:-H]\n",
    "                 }, \n",
    "                 remove_columns=['id', 'timestamp'])"
   ]
  },
  {
   "cell_type": "code",
   "execution_count": 11,
   "id": "e9a9cd9c",
   "metadata": {},
   "outputs": [
    {
     "data": {
      "text/plain": [
       "[Dataset({\n",
       "     features: ['id', 'timestamp', 'target'],\n",
       "     num_rows: 72\n",
       " }),\n",
       " Dataset({\n",
       "     features: ['id', 'timestamp', 'target'],\n",
       "     num_rows: 2674\n",
       " }),\n",
       " Dataset({\n",
       "     features: ['id', 'timestamp', 'target'],\n",
       "     num_rows: 767\n",
       " }),\n",
       " Dataset({\n",
       "     features: ['id', 'timestamp', 'target'],\n",
       "     num_rows: 107\n",
       " }),\n",
       " Dataset({\n",
       "     features: ['id', 'timestamp', 'target'],\n",
       "     num_rows: 8\n",
       " }),\n",
       " Dataset({\n",
       "     features: ['id', 'timestamp', 'target'],\n",
       "     num_rows: 266\n",
       " }),\n",
       " Dataset({\n",
       "     features: ['id', 'timestamp', 'target'],\n",
       "     num_rows: 862\n",
       " }),\n",
       " Dataset({\n",
       "     features: ['id', 'timestamp', 'target'],\n",
       "     num_rows: 1428\n",
       " })]"
      ]
     },
     "execution_count": 11,
     "metadata": {},
     "output_type": "execute_result"
    }
   ],
   "source": [
    "path = \"autogluon/chronos_datasets\"\n",
    "datasets_with_horizons = [\n",
    "                {'name': 'monash_cif_2016', 'H': 12},\n",
    "                {'name': 'monash_car_parts', 'H': 12},\n",
    "                {'name': 'monash_hospital', 'H': 12},\n",
    "                {'name': 'monash_fred_md', 'H': 12},\n",
    "                {'name': 'exchange_rate', 'H': 30},\n",
    "                {'name': 'monash_covid_deaths', 'H': 30},\n",
    "                {'name': 'monash_traffic', 'H': 24},\n",
    "                {'name': 'monash_m3_monthly', 'H': 18},\n",
    "                ]\n",
    "datasets_for_finetuning = [datasets.load_dataset(path=path, name=ds['name'], split='train') for ds in datasets_with_horizons]\n",
    "datasets_for_finetuning"
   ]
  },
  {
   "cell_type": "code",
   "execution_count": 12,
   "id": "c2d3c4b4",
   "metadata": {},
   "outputs": [],
   "source": [
    "for ds in datasets_for_finetuning:\n",
    "    ds.set_format('numpy')"
   ]
  },
  {
   "cell_type": "code",
   "execution_count": 13,
   "id": "a56574a1",
   "metadata": {},
   "outputs": [],
   "source": [
    "expected_schema = datasets.Features({\n",
    "    \"start\": datasets.Value(\"string\"),\n",
    "    \"target\": datasets.Sequence(datasets.Value(\"float64\"))\n",
    "})"
   ]
  },
  {
   "cell_type": "code",
   "execution_count": 14,
   "id": "37b10305",
   "metadata": {},
   "outputs": [
    {
     "data": {
      "text/plain": [
       "[Dataset({\n",
       "     features: ['start', 'target'],\n",
       "     num_rows: 72\n",
       " }),\n",
       " Dataset({\n",
       "     features: ['start', 'target'],\n",
       "     num_rows: 2674\n",
       " }),\n",
       " Dataset({\n",
       "     features: ['start', 'target'],\n",
       "     num_rows: 767\n",
       " }),\n",
       " Dataset({\n",
       "     features: ['start', 'target'],\n",
       "     num_rows: 107\n",
       " }),\n",
       " Dataset({\n",
       "     features: ['start', 'target'],\n",
       "     num_rows: 8\n",
       " }),\n",
       " Dataset({\n",
       "     features: ['start', 'target'],\n",
       "     num_rows: 266\n",
       " }),\n",
       " Dataset({\n",
       "     features: ['start', 'target'],\n",
       "     num_rows: 862\n",
       " }),\n",
       " Dataset({\n",
       "     features: ['start', 'target'],\n",
       "     num_rows: 1428\n",
       " })]"
      ]
     },
     "execution_count": 14,
     "metadata": {},
     "output_type": "execute_result"
    }
   ],
   "source": [
    "datasets_for_finetuning = list(map(\n",
    "    lambda ds, ds_conf: to_training_chronos_format(ds, ds_conf['H']).cast(expected_schema), \n",
    "    datasets_for_finetuning, \n",
    "    datasets_with_horizons))\n",
    "datasets_for_finetuning"
   ]
  },
  {
   "cell_type": "code",
   "execution_count": 15,
   "id": "d1d15b81",
   "metadata": {},
   "outputs": [
    {
     "data": {
      "text/plain": [
       "Dataset({\n",
       "    features: ['start', 'target'],\n",
       "    num_rows: 6184\n",
       "})"
      ]
     },
     "execution_count": 15,
     "metadata": {},
     "output_type": "execute_result"
    }
   ],
   "source": [
    "datasets_for_finetuning = datasets.concatenate_datasets(datasets_for_finetuning)\n",
    "datasets_for_finetuning"
   ]
  },
  {
   "cell_type": "code",
   "execution_count": 16,
   "id": "f16be24f",
   "metadata": {},
   "outputs": [],
   "source": [
    "ArrowWriter(compression=\"lz4\").write_to_file(\n",
    "    datasets_for_finetuning,\n",
    "    path=Path.cwd()/ \"training\" / \"data\" / \"training_dataset.arrow\",\n",
    ")"
   ]
  },
  {
   "cell_type": "code",
   "execution_count": null,
   "id": "9518ce24",
   "metadata": {},
   "outputs": [],
   "source": [
    "!python training/train.py --config ./training/configs/chronos-t5-small-lora.yaml"
   ]
  },
  {
   "cell_type": "code",
   "execution_count": null,
   "id": "908886d3",
   "metadata": {},
   "outputs": [],
   "source": [
    "!python evaluation/evaluate.py evaluation/configs/zero-shot.yaml evaluation/results/chronos-t5-small-zero-shotprueba.csv --lora-model-id \"output/experimental_run/checkpoint-final\" --batch-size=32 --device=cuda:0 --num-samples 20"
   ]
  }
 ],
 "metadata": {
  "kernelspec": {
   "display_name": "LoRAenv",
   "language": "python",
   "name": "python3"
  },
  "language_info": {
   "codemirror_mode": {
    "name": "ipython",
    "version": 3
   },
   "file_extension": ".py",
   "mimetype": "text/x-python",
   "name": "python",
   "nbconvert_exporter": "python",
   "pygments_lexer": "ipython3",
   "version": "3.11.13"
  }
 },
 "nbformat": 4,
 "nbformat_minor": 5
}

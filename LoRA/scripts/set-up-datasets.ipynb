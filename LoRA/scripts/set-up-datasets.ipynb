{
 "cells": [
  {
   "cell_type": "markdown",
   "id": "5f03ea35",
   "metadata": {},
   "source": [
    "If you want to follow the following notebook, it is not enough with following the steps described at \"README for fine-tuning\", you need to install autogluon following the instructions on its web: https://auto.gluon.ai/stable/install.html"
   ]
  },
  {
   "cell_type": "code",
   "execution_count": 1,
   "id": "dab86813",
   "metadata": {},
   "outputs": [
    {
     "name": "stderr",
     "output_type": "stream",
     "text": [
      "d:\\apps\\envs\\LoRAenv\\Lib\\site-packages\\tqdm\\auto.py:21: TqdmWarning: IProgress not found. Please update jupyter and ipywidgets. See https://ipywidgets.readthedocs.io/en/stable/user_install.html\n",
      "  from .autonotebook import tqdm as notebook_tqdm\n"
     ]
    }
   ],
   "source": [
    "import datasets\n",
    "from gluonts.dataset.arrow import ArrowWriter\n",
    "from pathlib import Path\n",
    "from typing import Any"
   ]
  },
  {
   "cell_type": "code",
   "execution_count": 2,
   "id": "3223e23f",
   "metadata": {},
   "outputs": [],
   "source": [
    "def to_training_chronos_format(dataset: datasets.arrow_dataset.Dataset, H: int | Any = None):\n",
    "    return dataset.map(\n",
    "        lambda ts: \n",
    "                {'start': str(ts['timestamp'][0]), \n",
    "                 'target': ts['target'][:-H]\n",
    "                 }, \n",
    "                 remove_columns=['id', 'timestamp'])"
   ]
  },
  {
   "cell_type": "code",
   "execution_count": 3,
   "id": "e9a9cd9c",
   "metadata": {},
   "outputs": [
    {
     "data": {
      "text/plain": [
       "[Dataset({\n",
       "     features: ['id', 'timestamp', 'target'],\n",
       "     num_rows: 72\n",
       " }),\n",
       " Dataset({\n",
       "     features: ['id', 'timestamp', 'target'],\n",
       "     num_rows: 2674\n",
       " }),\n",
       " Dataset({\n",
       "     features: ['id', 'timestamp', 'target'],\n",
       "     num_rows: 767\n",
       " }),\n",
       " Dataset({\n",
       "     features: ['id', 'timestamp', 'target'],\n",
       "     num_rows: 107\n",
       " }),\n",
       " Dataset({\n",
       "     features: ['id', 'timestamp', 'target'],\n",
       "     num_rows: 8\n",
       " })]"
      ]
     },
     "execution_count": 3,
     "metadata": {},
     "output_type": "execute_result"
    }
   ],
   "source": [
    "path = \"autogluon/chronos_datasets\"\n",
    "datasets_with_horizons = [\n",
    "                {'name': 'monash_cif_2016', 'H': 12},\n",
    "                {'name': 'monash_car_parts', 'H': 12},\n",
    "                {'name': 'monash_hospital', 'H': 12},\n",
    "                {'name': 'monash_fred_md', 'H': 12},\n",
    "                {'name': 'exchange_rate', 'H': 30}\n",
    "                ]\n",
    "datasets_for_finetuning = [datasets.load_dataset(path=path, name=ds['name'], split='train') for ds in datasets_with_horizons]\n",
    "datasets_for_finetuning"
   ]
  },
  {
   "cell_type": "code",
   "execution_count": 4,
   "id": "c2d3c4b4",
   "metadata": {},
   "outputs": [],
   "source": [
    "for ds in datasets_for_finetuning:\n",
    "    ds.set_format('numpy')"
   ]
  },
  {
   "cell_type": "code",
   "execution_count": null,
   "id": "a56574a1",
   "metadata": {},
   "outputs": [],
   "source": [
    "expected_schema = datasets.Features({\n",
    "    \"start\": datasets.Value(\"string\"),\n",
    "    \"target\": datasets.Sequence(datasets.Value(\"float64\"))\n",
    "})"
   ]
  },
  {
   "cell_type": "code",
   "execution_count": 5,
   "id": "37b10305",
   "metadata": {},
   "outputs": [
    {
     "data": {
      "text/plain": [
       "[Dataset({\n",
       "     features: ['target', 'start'],\n",
       "     num_rows: 72\n",
       " }),\n",
       " Dataset({\n",
       "     features: ['target', 'start'],\n",
       "     num_rows: 2674\n",
       " }),\n",
       " Dataset({\n",
       "     features: ['target', 'start'],\n",
       "     num_rows: 767\n",
       " }),\n",
       " Dataset({\n",
       "     features: ['target', 'start'],\n",
       "     num_rows: 107\n",
       " }),\n",
       " Dataset({\n",
       "     features: ['target', 'start'],\n",
       "     num_rows: 8\n",
       " })]"
      ]
     },
     "execution_count": 5,
     "metadata": {},
     "output_type": "execute_result"
    }
   ],
   "source": [
    "datasets_for_finetuning = list(map(\n",
    "    lambda ds, ds_conf: to_training_chronos_format(ds, ds_conf['H']), \n",
    "    datasets_for_finetuning, \n",
    "    datasets_with_horizons))\n",
    "datasets_for_finetuning"
   ]
  },
  {
   "cell_type": "code",
   "execution_count": null,
   "id": "d1d15b81",
   "metadata": {},
   "outputs": [],
   "source": [
    "#datasets_for_finetuning = datasets.concatenate_datasets(datasets_for_finetuning)\n",
    "datasets_for_finetuning"
   ]
  },
  {
   "cell_type": "code",
   "execution_count": 7,
   "id": "f16be24f",
   "metadata": {},
   "outputs": [],
   "source": [
    "for ds, ds_conf in zip(datasets_for_finetuning, datasets_with_horizons):\n",
    "    ArrowWriter(compression=\"lz4\").write_to_file(\n",
    "        ds,\n",
    "        path=Path.cwd()/ \"training\" / \"data\" / f\"{ds_conf['name']}.arrow\",\n",
    "    )"
   ]
  },
  {
   "cell_type": "code",
   "execution_count": null,
   "id": "9518ce24",
   "metadata": {},
   "outputs": [],
   "source": [
    "!python training/train.py --config ./training/configs/chronos-t5-small-lora.yaml"
   ]
  },
  {
   "cell_type": "code",
   "execution_count": null,
   "id": "e7783e8b",
   "metadata": {},
   "outputs": [],
   "source": [
    "datasets_for_finetuning[0][0]"
   ]
  },
  {
   "cell_type": "code",
   "execution_count": null,
   "id": "f9d886b1",
   "metadata": {},
   "outputs": [],
   "source": [
    "import pandas as pd\n",
    "prueba = pd.DataFrame({'item_id': [0 for i in range(10)], \n",
    "                       'timestamp': ['1970-01-31', '1970-02-28', '1970-03-31', '1970-04-30', '1970-05-31', \n",
    "                                     '1972-04-30', '1972-05-31', '1972-06-30', '1972-07-31', '1972-08-31'], \n",
    "                       'target': [76, 54, 32,56,43,11,37,41,75, 90]})\n",
    "prueba"
   ]
  },
  {
   "cell_type": "code",
   "execution_count": null,
   "id": "44de543c",
   "metadata": {},
   "outputs": [],
   "source": [
    "prueba = TimeSeriesDataFrame.from_data_frame(prueba)\n",
    "prueba"
   ]
  },
  {
   "cell_type": "code",
   "execution_count": null,
   "id": "1cdef192",
   "metadata": {},
   "outputs": [],
   "source": [
    "train, test = prueba.train_test_split(3)"
   ]
  },
  {
   "cell_type": "code",
   "execution_count": null,
   "id": "198316db",
   "metadata": {},
   "outputs": [],
   "source": [
    "train"
   ]
  },
  {
   "cell_type": "code",
   "execution_count": null,
   "id": "2156c1e2",
   "metadata": {},
   "outputs": [],
   "source": [
    "test"
   ]
  },
  {
   "cell_type": "code",
   "execution_count": null,
   "id": "dd94cb93",
   "metadata": {},
   "outputs": [],
   "source": []
  }
 ],
 "metadata": {
  "kernelspec": {
   "display_name": "LoRAenv",
   "language": "python",
   "name": "python3"
  },
  "language_info": {
   "codemirror_mode": {
    "name": "ipython",
    "version": 3
   },
   "file_extension": ".py",
   "mimetype": "text/x-python",
   "name": "python",
   "nbconvert_exporter": "python",
   "pygments_lexer": "ipython3",
   "version": "3.11.13"
  }
 },
 "nbformat": 4,
 "nbformat_minor": 5
}

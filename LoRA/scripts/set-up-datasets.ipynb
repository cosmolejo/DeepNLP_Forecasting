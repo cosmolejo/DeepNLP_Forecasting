{
 "cells": [
  {
   "cell_type": "markdown",
   "id": "4eca3baa",
   "metadata": {},
   "source": [
    "## Chronos & LoRA: Learning fine details efficiently :)\n",
    "Before diving into fine-tuning, let's get your environment ready with the following steps:\n",
    "1. **Create a Python virtual environment:**\n",
    "    <pre>\n",
    "    `python -m venv [name of the environment]`\n",
    "    </pre>\n",
    "2. Open a terminal inside the LoRA folder (located within the repository), and install Chronos in editable mode with training dependencies:\n",
    "    <pre>\n",
    "    `pip install --editable \".[training]\"`\n",
    "    </pre>\n",
    "3. **Install PEFT (Parameter-Efficient Fine-Tuning)** to enable LoRA support: \n",
    "    <pre>\n",
    "    `pip install peft`\n",
    "    </pre>\n",
    "4. **Install the CUDA-enabled version of PyTorch** to leverage GPU acceleration (if available): \n",
    "    - If you are on **Windows 11** with an NVIDIA GPU: \n",
    "    <pre>\n",
    "        `pip3 install torch torchvision torchaudio --index-url https://download.pytorch.org/whl/cu128`\n",
    "    </pre>\n",
    "    - On other platforms, please visit the [official PyTorch install guide](https://pytorch.org/get-started/locally/) to find the right command for your system\n",
    "5. **Start fine-tuning:** Navigate to the scripts folder and run:\n",
    "`python training/train.py --config ./training/configs/chronos-t5-small-lora.yaml`.\n",
    "    <pre>\n",
    "   This command uses the configuration specified in: `./training/configs/chronos-t5-small-lora.yaml`\n",
    "    </pre>"
   ]
  },
  {
   "cell_type": "code",
   "execution_count": null,
   "id": "dab86813",
   "metadata": {},
   "outputs": [
    {
     "name": "stderr",
     "output_type": "stream",
     "text": [
      "d:\\TODO\\PoliTo\\YEARS\\Second year\\Deep Natural Language Processing\\Project\\DeepNLP_Forecasting\\LoRA\\LoRAenv\\Lib\\site-packages\\tqdm\\auto.py:21: TqdmWarning: IProgress not found. Please update jupyter and ipywidgets. See https://ipywidgets.readthedocs.io/en/stable/user_install.html\n",
      "  from .autonotebook import tqdm as notebook_tqdm\n"
     ]
    }
   ],
   "source": [
    "import datasets\n",
    "from gluonts.dataset.arrow import ArrowWriter\n",
    "from pathlib import Path"
   ]
  },
  {
   "cell_type": "code",
   "execution_count": 34,
   "id": "3223e23f",
   "metadata": {},
   "outputs": [],
   "source": [
    "def to_chronos_format(dataset: datasets.arrow_dataset.Dataset, t = None):\n",
    "    import numpy as np\n",
    "    return dataset.map(lambda ts: \n",
    "                {'start': str(ts['timestamp'][0]), \n",
    "                 'target': ts['target'][:t]\n",
    "                 }, \n",
    "                 remove_columns=['id', 'timestamp'])"
   ]
  },
  {
   "cell_type": "code",
   "execution_count": 15,
   "id": "aeb3cdc3",
   "metadata": {},
   "outputs": [
    {
     "data": {
      "text/plain": [
       "(Dataset({\n",
       "     features: ['id', 'timestamp', 'target'],\n",
       "     num_rows: 5\n",
       " }),\n",
       " datasets.arrow_dataset.Dataset)"
      ]
     },
     "execution_count": 15,
     "metadata": {},
     "output_type": "execute_result"
    }
   ],
   "source": [
    "monash_australian_electricity_ds = datasets.load_dataset(\"autogluon/chronos_datasets\", \"monash_australian_electricity\", split=\"train\")\n",
    "monash_australian_electricity_ds.set_format(\"numpy\")  # sequences returned as numpy arrays\n",
    "monash_australian_electricity_ds, type(monash_australian_electricity_ds)"
   ]
  },
  {
   "cell_type": "code",
   "execution_count": 37,
   "id": "415380ac",
   "metadata": {},
   "outputs": [
    {
     "name": "stderr",
     "output_type": "stream",
     "text": [
      "Map: 100%|██████████| 5/5 [00:00<00:00, 127.94 examples/s]\n"
     ]
    },
    {
     "data": {
      "text/plain": [
       "Dataset({\n",
       "    features: ['target', 'start'],\n",
       "    num_rows: 5\n",
       "})"
      ]
     },
     "execution_count": 37,
     "metadata": {},
     "output_type": "execute_result"
    }
   ],
   "source": [
    "monash_australian_electricity_ds_for_chronos = to_chronos_format(monash_australian_electricity_ds, 128)\n",
    "monash_australian_electricity_ds_for_chronos"
   ]
  },
  {
   "cell_type": "code",
   "execution_count": 38,
   "id": "f16be24f",
   "metadata": {},
   "outputs": [],
   "source": [
    "ArrowWriter(compression=\"lz4\").write_to_file(\n",
    "        monash_australian_electricity_ds_for_chronos,\n",
    "        path=Path.cwd()/ \"example.arrow\",\n",
    "    )"
   ]
  },
  {
   "cell_type": "code",
   "execution_count": null,
   "id": "9518ce24",
   "metadata": {},
   "outputs": [
    {
     "name": "stdout",
     "output_type": "stream",
     "text": [
      "^C\n"
     ]
    },
    {
     "ename": "",
     "evalue": "",
     "output_type": "error",
     "traceback": [
      "\u001b[1;31mThe Kernel crashed while executing code in the current cell or a previous cell. \n",
      "\u001b[1;31mPlease review the code in the cell(s) to identify a possible cause of the failure. \n",
      "\u001b[1;31mClick <a href='https://aka.ms/vscodeJupyterKernelCrash'>here</a> for more info. \n",
      "\u001b[1;31mView Jupyter <a href='command:jupyter.viewOutput'>log</a> for further details."
     ]
    }
   ],
   "source": [
    "!python training/train.py --config ./training/configs/chronos-t5-small-lora.yaml"
   ]
  },
  {
   "cell_type": "code",
   "execution_count": null,
   "id": "44de543c",
   "metadata": {},
   "outputs": [],
   "source": []
  }
 ],
 "metadata": {
  "kernelspec": {
   "display_name": "LoRAenv",
   "language": "python",
   "name": "python3"
  },
  "language_info": {
   "codemirror_mode": {
    "name": "ipython",
    "version": 3
   },
   "file_extension": ".py",
   "mimetype": "text/x-python",
   "name": "python",
   "nbconvert_exporter": "python",
   "pygments_lexer": "ipython3",
   "version": "3.13.2"
  }
 },
 "nbformat": 4,
 "nbformat_minor": 5
}

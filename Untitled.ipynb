{
 "cells": [
  {
   "cell_type": "code",
   "execution_count": 1,
   "id": "e6b1b32d-bf82-4e58-bece-cde8a274a5de",
   "metadata": {
    "scrolled": true
   },
   "outputs": [
    {
     "name": "stdout",
     "output_type": "stream",
     "text": [
      "Collecting chronos-forecasting\n",
      "  Downloading chronos_forecasting-1.4.1-py3-none-any.whl.metadata (30 kB)\n",
      "Collecting accelerate<1,>=0.32 (from chronos-forecasting)\n",
      "  Downloading accelerate-0.34.2-py3-none-any.whl.metadata (19 kB)\n",
      "Requirement already satisfied: torch<2.6,>=2.0 in /home/antares/anaconda3/envs/deepnlp/lib/python3.12/site-packages (from chronos-forecasting) (2.4.1+cu124)\n",
      "Collecting transformers<4.48,>=4.30 (from chronos-forecasting)\n",
      "  Downloading transformers-4.47.1-py3-none-any.whl.metadata (44 kB)\n",
      "Requirement already satisfied: numpy<3.0.0,>=1.17 in /home/antares/anaconda3/envs/deepnlp/lib/python3.12/site-packages (from accelerate<1,>=0.32->chronos-forecasting) (1.26.3)\n",
      "Requirement already satisfied: packaging>=20.0 in /home/antares/anaconda3/envs/deepnlp/lib/python3.12/site-packages (from accelerate<1,>=0.32->chronos-forecasting) (24.1)\n",
      "Requirement already satisfied: psutil in /home/antares/anaconda3/envs/deepnlp/lib/python3.12/site-packages (from accelerate<1,>=0.32->chronos-forecasting) (6.0.0)\n",
      "Requirement already satisfied: pyyaml in /home/antares/anaconda3/envs/deepnlp/lib/python3.12/site-packages (from accelerate<1,>=0.32->chronos-forecasting) (6.0.2)\n",
      "Collecting huggingface-hub>=0.21.0 (from accelerate<1,>=0.32->chronos-forecasting)\n",
      "  Downloading huggingface_hub-0.27.0-py3-none-any.whl.metadata (13 kB)\n",
      "Collecting safetensors>=0.4.3 (from accelerate<1,>=0.32->chronos-forecasting)\n",
      "  Downloading safetensors-0.4.5-cp312-cp312-manylinux_2_17_x86_64.manylinux2014_x86_64.whl.metadata (3.8 kB)\n",
      "Requirement already satisfied: filelock in /home/antares/anaconda3/envs/deepnlp/lib/python3.12/site-packages (from torch<2.6,>=2.0->chronos-forecasting) (3.13.1)\n",
      "Requirement already satisfied: typing-extensions>=4.8.0 in /home/antares/anaconda3/envs/deepnlp/lib/python3.12/site-packages (from torch<2.6,>=2.0->chronos-forecasting) (4.9.0)\n",
      "Requirement already satisfied: sympy in /home/antares/anaconda3/envs/deepnlp/lib/python3.12/site-packages (from torch<2.6,>=2.0->chronos-forecasting) (1.12)\n",
      "Requirement already satisfied: networkx in /home/antares/anaconda3/envs/deepnlp/lib/python3.12/site-packages (from torch<2.6,>=2.0->chronos-forecasting) (3.2.1)\n",
      "Requirement already satisfied: jinja2 in /home/antares/anaconda3/envs/deepnlp/lib/python3.12/site-packages (from torch<2.6,>=2.0->chronos-forecasting) (3.1.4)\n",
      "Requirement already satisfied: fsspec in /home/antares/anaconda3/envs/deepnlp/lib/python3.12/site-packages (from torch<2.6,>=2.0->chronos-forecasting) (2024.2.0)\n",
      "Requirement already satisfied: setuptools in /home/antares/anaconda3/envs/deepnlp/lib/python3.12/site-packages (from torch<2.6,>=2.0->chronos-forecasting) (75.1.0)\n",
      "Requirement already satisfied: nvidia-cuda-nvrtc-cu12==12.4.99 in /home/antares/anaconda3/envs/deepnlp/lib/python3.12/site-packages (from torch<2.6,>=2.0->chronos-forecasting) (12.4.99)\n",
      "Requirement already satisfied: nvidia-cuda-runtime-cu12==12.4.99 in /home/antares/anaconda3/envs/deepnlp/lib/python3.12/site-packages (from torch<2.6,>=2.0->chronos-forecasting) (12.4.99)\n",
      "Requirement already satisfied: nvidia-cuda-cupti-cu12==12.4.99 in /home/antares/anaconda3/envs/deepnlp/lib/python3.12/site-packages (from torch<2.6,>=2.0->chronos-forecasting) (12.4.99)\n",
      "Requirement already satisfied: nvidia-cudnn-cu12==9.1.0.70 in /home/antares/anaconda3/envs/deepnlp/lib/python3.12/site-packages (from torch<2.6,>=2.0->chronos-forecasting) (9.1.0.70)\n",
      "Requirement already satisfied: nvidia-cublas-cu12==12.4.2.65 in /home/antares/anaconda3/envs/deepnlp/lib/python3.12/site-packages (from torch<2.6,>=2.0->chronos-forecasting) (12.4.2.65)\n",
      "Requirement already satisfied: nvidia-cufft-cu12==11.2.0.44 in /home/antares/anaconda3/envs/deepnlp/lib/python3.12/site-packages (from torch<2.6,>=2.0->chronos-forecasting) (11.2.0.44)\n",
      "Requirement already satisfied: nvidia-curand-cu12==10.3.5.119 in /home/antares/anaconda3/envs/deepnlp/lib/python3.12/site-packages (from torch<2.6,>=2.0->chronos-forecasting) (10.3.5.119)\n",
      "Requirement already satisfied: nvidia-cusolver-cu12==11.6.0.99 in /home/antares/anaconda3/envs/deepnlp/lib/python3.12/site-packages (from torch<2.6,>=2.0->chronos-forecasting) (11.6.0.99)\n",
      "Requirement already satisfied: nvidia-cusparse-cu12==12.3.0.142 in /home/antares/anaconda3/envs/deepnlp/lib/python3.12/site-packages (from torch<2.6,>=2.0->chronos-forecasting) (12.3.0.142)\n",
      "Requirement already satisfied: nvidia-nccl-cu12==2.20.5 in /home/antares/anaconda3/envs/deepnlp/lib/python3.12/site-packages (from torch<2.6,>=2.0->chronos-forecasting) (2.20.5)\n",
      "Requirement already satisfied: nvidia-nvtx-cu12==12.4.99 in /home/antares/anaconda3/envs/deepnlp/lib/python3.12/site-packages (from torch<2.6,>=2.0->chronos-forecasting) (12.4.99)\n",
      "Requirement already satisfied: nvidia-nvjitlink-cu12==12.4.99 in /home/antares/anaconda3/envs/deepnlp/lib/python3.12/site-packages (from torch<2.6,>=2.0->chronos-forecasting) (12.4.99)\n",
      "Requirement already satisfied: triton==3.0.0 in /home/antares/anaconda3/envs/deepnlp/lib/python3.12/site-packages (from torch<2.6,>=2.0->chronos-forecasting) (3.0.0)\n",
      "Collecting regex!=2019.12.17 (from transformers<4.48,>=4.30->chronos-forecasting)\n",
      "  Downloading regex-2024.11.6-cp312-cp312-manylinux_2_17_x86_64.manylinux2014_x86_64.whl.metadata (40 kB)\n",
      "Requirement already satisfied: requests in /home/antares/anaconda3/envs/deepnlp/lib/python3.12/site-packages (from transformers<4.48,>=4.30->chronos-forecasting) (2.32.3)\n",
      "Collecting tokenizers<0.22,>=0.21 (from transformers<4.48,>=4.30->chronos-forecasting)\n",
      "  Downloading tokenizers-0.21.0-cp39-abi3-manylinux_2_17_x86_64.manylinux2014_x86_64.whl.metadata (6.7 kB)\n",
      "Collecting tqdm>=4.27 (from transformers<4.48,>=4.30->chronos-forecasting)\n",
      "  Downloading tqdm-4.67.1-py3-none-any.whl.metadata (57 kB)\n",
      "Requirement already satisfied: MarkupSafe>=2.0 in /home/antares/anaconda3/envs/deepnlp/lib/python3.12/site-packages (from jinja2->torch<2.6,>=2.0->chronos-forecasting) (2.1.5)\n",
      "Requirement already satisfied: charset-normalizer<4,>=2 in /home/antares/anaconda3/envs/deepnlp/lib/python3.12/site-packages (from requests->transformers<4.48,>=4.30->chronos-forecasting) (3.3.2)\n",
      "Requirement already satisfied: idna<4,>=2.5 in /home/antares/anaconda3/envs/deepnlp/lib/python3.12/site-packages (from requests->transformers<4.48,>=4.30->chronos-forecasting) (3.10)\n",
      "Requirement already satisfied: urllib3<3,>=1.21.1 in /home/antares/anaconda3/envs/deepnlp/lib/python3.12/site-packages (from requests->transformers<4.48,>=4.30->chronos-forecasting) (2.2.3)\n",
      "Requirement already satisfied: certifi>=2017.4.17 in /home/antares/anaconda3/envs/deepnlp/lib/python3.12/site-packages (from requests->transformers<4.48,>=4.30->chronos-forecasting) (2024.8.30)\n",
      "Requirement already satisfied: mpmath>=0.19 in /home/antares/anaconda3/envs/deepnlp/lib/python3.12/site-packages (from sympy->torch<2.6,>=2.0->chronos-forecasting) (1.3.0)\n",
      "Downloading chronos_forecasting-1.4.1-py3-none-any.whl (28 kB)\n",
      "Downloading accelerate-0.34.2-py3-none-any.whl (324 kB)\n",
      "Downloading transformers-4.47.1-py3-none-any.whl (10.1 MB)\n",
      "\u001b[2K   \u001b[38;2;114;156;31m━━━━━━━━━━━━━━━━━━━━━━━━━━━━━━━━━━━━━━━━\u001b[0m \u001b[32m10.1/10.1 MB\u001b[0m \u001b[31m10.5 MB/s\u001b[0m eta \u001b[36m0:00:00\u001b[0mMB/s\u001b[0m eta \u001b[36m0:00:01\u001b[0m:01\u001b[0m\n",
      "\u001b[?25hDownloading huggingface_hub-0.27.0-py3-none-any.whl (450 kB)\n",
      "Downloading regex-2024.11.6-cp312-cp312-manylinux_2_17_x86_64.manylinux2014_x86_64.whl (796 kB)\n",
      "\u001b[2K   \u001b[38;2;114;156;31m━━━━━━━━━━━━━━━━━━━━━━━━━━━━━━━━━━━━━━━━\u001b[0m \u001b[32m796.9/796.9 kB\u001b[0m \u001b[31m9.2 MB/s\u001b[0m eta \u001b[36m0:00:00\u001b[0m\n",
      "\u001b[?25hDownloading safetensors-0.4.5-cp312-cp312-manylinux_2_17_x86_64.manylinux2014_x86_64.whl (434 kB)\n",
      "Downloading tokenizers-0.21.0-cp39-abi3-manylinux_2_17_x86_64.manylinux2014_x86_64.whl (3.0 MB)\n",
      "\u001b[2K   \u001b[38;2;114;156;31m━━━━━━━━━━━━━━━━━━━━━━━━━━━━━━━━━━━━━━━━\u001b[0m \u001b[32m3.0/3.0 MB\u001b[0m \u001b[31m12.3 MB/s\u001b[0m eta \u001b[36m0:00:00\u001b[0m MB/s\u001b[0m eta \u001b[36m0:00:01\u001b[0m\n",
      "\u001b[?25hDownloading tqdm-4.67.1-py3-none-any.whl (78 kB)\n",
      "Installing collected packages: tqdm, safetensors, regex, huggingface-hub, tokenizers, transformers, accelerate, chronos-forecasting\n",
      "Successfully installed accelerate-0.34.2 chronos-forecasting-1.4.1 huggingface-hub-0.27.0 regex-2024.11.6 safetensors-0.4.5 tokenizers-0.21.0 tqdm-4.67.1 transformers-4.47.1\n"
     ]
    }
   ],
   "source": [
    "!pip install chronos-forecasting"
   ]
  },
  {
   "cell_type": "code",
   "execution_count": 25,
   "id": "971081da-cc25-4a01-b277-c3507344a8fd",
   "metadata": {},
   "outputs": [
    {
     "data": {
      "application/vnd.jupyter.widget-view+json": {
       "model_id": "664fcc43698c41238f7f05b317405d70",
       "version_major": 2,
       "version_minor": 0
      },
      "text/plain": [
       "config.json:   0%|          | 0.00/1.12k [00:00<?, ?B/s]"
      ]
     },
     "metadata": {},
     "output_type": "display_data"
    },
    {
     "data": {
      "application/vnd.jupyter.widget-view+json": {
       "model_id": "8940f48aac1446398de18d513ce07d2d",
       "version_major": 2,
       "version_minor": 0
      },
      "text/plain": [
       "model.safetensors:   0%|          | 0.00/85.0M [00:00<?, ?B/s]"
      ]
     },
     "metadata": {},
     "output_type": "display_data"
    }
   ],
   "source": [
    "import pandas as pd  # requires: pip install pandas\n",
    "import torch\n",
    "from chronos import BaseChronosPipeline\n",
    "\n",
    "pipeline = BaseChronosPipeline.from_pretrained(\n",
    "    \"amazon/chronos-bolt-mini\",\n",
    "    device_map=\"cuda\",  # use \"cpu\" for CPU inference and \"mps\" for Apple Silicon\n",
    "    torch_dtype=torch.bfloat16,\n",
    ")\n",
    "\n",
    "df = pd.read_csv(\n",
    "    \"https://raw.githubusercontent.com/AileenNielsen/TimeSeriesAnalysisWithPython/master/data/AirPassengers.csv\"\n",
    ")\n",
    "\n",
    "# context must be either a 1D tensor, a list of 1D tensors,\n",
    "# or a left-padded 2D tensor with batch as the first dimension\n",
    "# Chronos-Bolt models generate quantile forecasts, so forecast has shape\n",
    "# [num_series, num_quantiles, prediction_length].\n",
    "forecast = pipeline.predict(\n",
    "    context=torch.tensor(df[\"#Passengers\"]), prediction_length=12\n",
    ")"
   ]
  },
  {
   "cell_type": "code",
   "execution_count": 26,
   "id": "85704284-a2f1-4328-943d-50a1bd8b305c",
   "metadata": {},
   "outputs": [
    {
     "data": {
      "text/plain": [
       "tensor([[[429.7349, 442.8106, 461.4901, 473.6318, 493.2454, 545.5481, 582.9071,\n",
       "          577.3032, 523.1326, 445.6125, 421.3291, 430.6689],\n",
       "         [439.0747, 453.0844, 472.6979, 485.7735, 505.3870, 560.4917, 603.4546,\n",
       "          599.7188, 545.5481, 461.4901, 436.2728, 447.4805],\n",
       "         [446.5465, 462.4241, 482.0376, 495.1133, 512.8589, 571.6994, 618.3983,\n",
       "          612.7944, 560.4917, 472.6979, 448.4145, 458.6882],\n",
       "         [453.0844, 470.8299, 489.5094, 503.5191, 521.2646, 581.0392, 627.7380,\n",
       "          625.8701, 571.6994, 482.0376, 457.7542, 469.8959],\n",
       "         [460.5562, 478.3017, 498.8492, 510.9909, 530.6044, 592.2469, 640.8137,\n",
       "          635.2098, 582.9071, 492.3114, 468.0280, 481.1036],\n",
       "         [468.0280, 486.7075, 507.2550, 519.3967, 538.0762, 599.7188, 652.0214,\n",
       "          646.4175, 594.1149, 502.5851, 479.2357, 493.2454],\n",
       "         [475.4998, 495.1133, 516.5948, 528.7365, 545.5481, 610.9264, 663.2291,\n",
       "          657.6252, 605.3226, 513.7928, 488.5754, 505.3870],\n",
       "         [483.9056, 503.5191, 525.0005, 539.9442, 554.8878, 624.0021, 674.4369,\n",
       "          670.7009, 618.3983, 526.8685, 500.7172, 518.4627],\n",
       "         [495.1133, 515.6608, 539.9442, 551.1519, 567.9635, 637.0778, 691.2484,\n",
       "          687.5126, 635.2098, 543.6801, 517.5287, 534.3403]]])"
      ]
     },
     "execution_count": 26,
     "metadata": {},
     "output_type": "execute_result"
    }
   ],
   "source": [
    "forecast"
   ]
  },
  {
   "cell_type": "code",
   "execution_count": 27,
   "id": "0a0ccfaa-5119-4545-bb40-aa2c80705c5d",
   "metadata": {},
   "outputs": [
    {
     "data": {
      "text/plain": [
       "[<matplotlib.lines.Line2D at 0x7e3cdc48e420>]"
      ]
     },
     "execution_count": 27,
     "metadata": {},
     "output_type": "execute_result"
    },
    {
     "data": {
      "image/png": "[encoded data removed]",
      "text/plain": [
       "<Figure size 640x480 with 1 Axes>"
      ]
     },
     "metadata": {},
     "output_type": "display_data"
    }
   ],
   "source": [
    "import matplotlib.pyplot as plt\n",
    "import numpy as np\n",
    "%matplotlib inline\n",
    "\n",
    "x =forecast[0][0].tolist()\n",
    "\n",
    "plt.plot(np.arange(0,len(x),1),x)\n"
   ]
  },
  {
   "cell_type": "code",
   "execution_count": 30,
   "id": "b6224654-c756-4a2d-b5c4-40349aab9800",
   "metadata": {},
   "outputs": [
    {
     "data": {
      "text/html": [
       "<div>\n",
       "<style scoped>\n",
       "    .dataframe tbody tr th:only-of-type {\n",
       "        vertical-align: middle;\n",
       "    }\n",
       "\n",
       "    .dataframe tbody tr th {\n",
       "        vertical-align: top;\n",
       "    }\n",
       "\n",
       "    .dataframe thead th {\n",
       "        text-align: right;\n",
       "    }\n",
       "</style>\n",
       "<table border=\"1\" class=\"dataframe\">\n",
       "  <thead>\n",
       "    <tr style=\"text-align: right;\">\n",
       "      <th></th>\n",
       "      <th>Date</th>\n",
       "      <th>Open</th>\n",
       "      <th>High</th>\n",
       "      <th>Low</th>\n",
       "      <th>Close</th>\n",
       "      <th>Adj Close</th>\n",
       "      <th>Volume</th>\n",
       "    </tr>\n",
       "  </thead>\n",
       "  <tbody>\n",
       "    <tr>\n",
       "      <th>0</th>\n",
       "      <td>1999-05-04</td>\n",
       "      <td>76.000000</td>\n",
       "      <td>77.250000</td>\n",
       "      <td>70.000000</td>\n",
       "      <td>70.375000</td>\n",
       "      <td>53.576797</td>\n",
       "      <td>22320900</td>\n",
       "    </tr>\n",
       "    <tr>\n",
       "      <th>1</th>\n",
       "      <td>1999-05-05</td>\n",
       "      <td>69.875000</td>\n",
       "      <td>69.875000</td>\n",
       "      <td>66.250000</td>\n",
       "      <td>69.125000</td>\n",
       "      <td>52.625153</td>\n",
       "      <td>7565700</td>\n",
       "    </tr>\n",
       "    <tr>\n",
       "      <th>2</th>\n",
       "      <td>1999-05-06</td>\n",
       "      <td>68.000000</td>\n",
       "      <td>69.375000</td>\n",
       "      <td>67.062500</td>\n",
       "      <td>67.937500</td>\n",
       "      <td>51.721100</td>\n",
       "      <td>2905700</td>\n",
       "    </tr>\n",
       "    <tr>\n",
       "      <th>3</th>\n",
       "      <td>1999-05-07</td>\n",
       "      <td>67.937500</td>\n",
       "      <td>74.875000</td>\n",
       "      <td>66.750000</td>\n",
       "      <td>74.125000</td>\n",
       "      <td>56.431648</td>\n",
       "      <td>4862300</td>\n",
       "    </tr>\n",
       "    <tr>\n",
       "      <th>4</th>\n",
       "      <td>1999-05-10</td>\n",
       "      <td>73.375000</td>\n",
       "      <td>73.500000</td>\n",
       "      <td>70.250000</td>\n",
       "      <td>70.687500</td>\n",
       "      <td>53.814709</td>\n",
       "      <td>2589400</td>\n",
       "    </tr>\n",
       "    <tr>\n",
       "      <th>...</th>\n",
       "      <td>...</td>\n",
       "      <td>...</td>\n",
       "      <td>...</td>\n",
       "      <td>...</td>\n",
       "      <td>...</td>\n",
       "      <td>...</td>\n",
       "      <td>...</td>\n",
       "    </tr>\n",
       "    <tr>\n",
       "      <th>5757</th>\n",
       "      <td>2022-03-18</td>\n",
       "      <td>338.869995</td>\n",
       "      <td>346.769989</td>\n",
       "      <td>337.299988</td>\n",
       "      <td>345.380005</td>\n",
       "      <td>345.380005</td>\n",
       "      <td>5861100</td>\n",
       "    </tr>\n",
       "    <tr>\n",
       "      <th>5758</th>\n",
       "      <td>2022-03-21</td>\n",
       "      <td>345.260010</td>\n",
       "      <td>346.299988</td>\n",
       "      <td>337.149994</td>\n",
       "      <td>339.000000</td>\n",
       "      <td>339.000000</td>\n",
       "      <td>3401200</td>\n",
       "    </tr>\n",
       "    <tr>\n",
       "      <th>5759</th>\n",
       "      <td>2022-03-22</td>\n",
       "      <td>342.200012</td>\n",
       "      <td>346.239990</td>\n",
       "      <td>340.119995</td>\n",
       "      <td>343.010010</td>\n",
       "      <td>343.010010</td>\n",
       "      <td>2840200</td>\n",
       "    </tr>\n",
       "    <tr>\n",
       "      <th>5760</th>\n",
       "      <td>2022-03-23</td>\n",
       "      <td>340.000000</td>\n",
       "      <td>340.829987</td>\n",
       "      <td>335.130005</td>\n",
       "      <td>335.609985</td>\n",
       "      <td>335.609985</td>\n",
       "      <td>2196800</td>\n",
       "    </tr>\n",
       "    <tr>\n",
       "      <th>5761</th>\n",
       "      <td>2022-03-24</td>\n",
       "      <td>336.440002</td>\n",
       "      <td>337.500000</td>\n",
       "      <td>334.299988</td>\n",
       "      <td>336.230011</td>\n",
       "      <td>336.230011</td>\n",
       "      <td>1943600</td>\n",
       "    </tr>\n",
       "  </tbody>\n",
       "</table>\n",
       "<p>5762 rows × 7 columns</p>\n",
       "</div>"
      ],
      "text/plain": [
       "            Date        Open        High         Low       Close   Adj Close  \\\n",
       "0     1999-05-04   76.000000   77.250000   70.000000   70.375000   53.576797   \n",
       "1     1999-05-05   69.875000   69.875000   66.250000   69.125000   52.625153   \n",
       "2     1999-05-06   68.000000   69.375000   67.062500   67.937500   51.721100   \n",
       "3     1999-05-07   67.937500   74.875000   66.750000   74.125000   56.431648   \n",
       "4     1999-05-10   73.375000   73.500000   70.250000   70.687500   53.814709   \n",
       "...          ...         ...         ...         ...         ...         ...   \n",
       "5757  2022-03-18  338.869995  346.769989  337.299988  345.380005  345.380005   \n",
       "5758  2022-03-21  345.260010  346.299988  337.149994  339.000000  339.000000   \n",
       "5759  2022-03-22  342.200012  346.239990  340.119995  343.010010  343.010010   \n",
       "5760  2022-03-23  340.000000  340.829987  335.130005  335.609985  335.609985   \n",
       "5761  2022-03-24  336.440002  337.500000  334.299988  336.230011  336.230011   \n",
       "\n",
       "        Volume  \n",
       "0     22320900  \n",
       "1      7565700  \n",
       "2      2905700  \n",
       "3      4862300  \n",
       "4      2589400  \n",
       "...        ...  \n",
       "5757   5861100  \n",
       "5758   3401200  \n",
       "5759   2840200  \n",
       "5760   2196800  \n",
       "5761   1943600  \n",
       "\n",
       "[5762 rows x 7 columns]"
      ]
     },
     "execution_count": 30,
     "metadata": {},
     "output_type": "execute_result"
    }
   ],
   "source": [
    "df = pd.read_csv('GS.csv')\n",
    "df"
   ]
  },
  {
   "cell_type": "code",
   "execution_count": 35,
   "id": "18ac66d6-e8aa-4bed-970e-e5ecef65d7b9",
   "metadata": {},
   "outputs": [
    {
     "data": {
      "text/html": [
       "<div>\n",
       "<style scoped>\n",
       "    .dataframe tbody tr th:only-of-type {\n",
       "        vertical-align: middle;\n",
       "    }\n",
       "\n",
       "    .dataframe tbody tr th {\n",
       "        vertical-align: top;\n",
       "    }\n",
       "\n",
       "    .dataframe thead th {\n",
       "        text-align: right;\n",
       "    }\n",
       "</style>\n",
       "<table border=\"1\" class=\"dataframe\">\n",
       "  <thead>\n",
       "    <tr style=\"text-align: right;\">\n",
       "      <th></th>\n",
       "      <th>Date</th>\n",
       "      <th>Close</th>\n",
       "    </tr>\n",
       "  </thead>\n",
       "  <tbody>\n",
       "    <tr>\n",
       "      <th>0</th>\n",
       "      <td>1999-05-04</td>\n",
       "      <td>70.375000</td>\n",
       "    </tr>\n",
       "    <tr>\n",
       "      <th>1</th>\n",
       "      <td>1999-05-05</td>\n",
       "      <td>69.125000</td>\n",
       "    </tr>\n",
       "    <tr>\n",
       "      <th>2</th>\n",
       "      <td>1999-05-06</td>\n",
       "      <td>67.937500</td>\n",
       "    </tr>\n",
       "    <tr>\n",
       "      <th>3</th>\n",
       "      <td>1999-05-07</td>\n",
       "      <td>74.125000</td>\n",
       "    </tr>\n",
       "    <tr>\n",
       "      <th>4</th>\n",
       "      <td>1999-05-10</td>\n",
       "      <td>70.687500</td>\n",
       "    </tr>\n",
       "    <tr>\n",
       "      <th>...</th>\n",
       "      <td>...</td>\n",
       "      <td>...</td>\n",
       "    </tr>\n",
       "    <tr>\n",
       "      <th>5757</th>\n",
       "      <td>2022-03-18</td>\n",
       "      <td>345.380005</td>\n",
       "    </tr>\n",
       "    <tr>\n",
       "      <th>5758</th>\n",
       "      <td>2022-03-21</td>\n",
       "      <td>339.000000</td>\n",
       "    </tr>\n",
       "    <tr>\n",
       "      <th>5759</th>\n",
       "      <td>2022-03-22</td>\n",
       "      <td>343.010010</td>\n",
       "    </tr>\n",
       "    <tr>\n",
       "      <th>5760</th>\n",
       "      <td>2022-03-23</td>\n",
       "      <td>335.609985</td>\n",
       "    </tr>\n",
       "    <tr>\n",
       "      <th>5761</th>\n",
       "      <td>2022-03-24</td>\n",
       "      <td>336.230011</td>\n",
       "    </tr>\n",
       "  </tbody>\n",
       "</table>\n",
       "<p>5762 rows × 2 columns</p>\n",
       "</div>"
      ],
      "text/plain": [
       "            Date       Close\n",
       "0     1999-05-04   70.375000\n",
       "1     1999-05-05   69.125000\n",
       "2     1999-05-06   67.937500\n",
       "3     1999-05-07   74.125000\n",
       "4     1999-05-10   70.687500\n",
       "...          ...         ...\n",
       "5757  2022-03-18  345.380005\n",
       "5758  2022-03-21  339.000000\n",
       "5759  2022-03-22  343.010010\n",
       "5760  2022-03-23  335.609985\n",
       "5761  2022-03-24  336.230011\n",
       "\n",
       "[5762 rows x 2 columns]"
      ]
     },
     "execution_count": 35,
     "metadata": {},
     "output_type": "execute_result"
    }
   ],
   "source": [
    "GS = df.loc[:,['Date','Close']]\n",
    "GS"
   ]
  },
  {
   "cell_type": "code",
   "execution_count": 36,
   "id": "a86fe63c-d4a3-4f4f-bdee-5b9de4f329d6",
   "metadata": {},
   "outputs": [],
   "source": [
    "# context must be either a 1D tensor, a list of 1D tensors,\n",
    "# or a left-padded 2D tensor with batch as the first dimension\n",
    "# Chronos-Bolt models generate quantile forecasts, so forecast has shape\n",
    "# [num_series, num_quantiles, prediction_length].\n",
    "forecast = pipeline.predict(\n",
    "    context=torch.tensor(GS[\"Close\"]), prediction_length=12\n",
    ")"
   ]
  },
  {
   "cell_type": "code",
   "execution_count": 37,
   "id": "9304d321-a765-43ce-9d27-06f4dfa5cb9a",
   "metadata": {},
   "outputs": [
    {
     "data": {
      "text/plain": [
       "tensor([[[324.0184, 322.9969, 321.9754, 320.4432, 319.4217, 317.3788, 315.8466,\n",
       "          315.8466, 314.8251, 312.2714, 310.2284, 309.7177],\n",
       "         [328.1043, 327.5936, 327.0828, 326.5721, 325.5506, 325.0399, 323.5076,\n",
       "          324.0184, 322.9969, 320.9539, 319.9325, 319.4217],\n",
       "         [329.6365, 330.6580, 330.1472, 330.6580, 329.6365, 328.6151, 328.1043,\n",
       "          328.6151, 327.5936, 326.5721, 326.0613, 325.5506],\n",
       "         [332.1902, 333.2117, 333.2117, 333.2117, 333.2117, 332.7010, 331.6795,\n",
       "          332.7010, 332.1902, 331.1687, 330.1472, 330.1472],\n",
       "         [333.7224, 335.7654, 336.2761, 336.2761, 336.7869, 335.7654, 335.2546,\n",
       "          336.7869, 336.2761, 335.7654, 334.7439, 334.7439],\n",
       "         [336.2761, 337.8083, 338.3191, 339.3406, 339.3406, 339.3406, 338.8298,\n",
       "          340.3621, 339.8513, 339.3406, 338.8298, 339.8513],\n",
       "         [338.3191, 340.3621, 341.3835, 342.4050, 342.9157, 342.9157, 342.4050,\n",
       "          344.4480, 344.4480, 343.9372, 343.4265, 344.4480],\n",
       "         [340.8728, 343.4265, 344.9587, 346.4909, 347.0016, 347.5124, 347.0016,\n",
       "          348.5339, 349.0446, 349.0446, 349.0446, 350.5768],\n",
       "         [344.4480, 348.0231, 350.0661, 352.1091, 353.1306, 353.6413, 353.1306,\n",
       "          355.1735, 355.6842, 356.1950, 357.2165, 359.2594]]])"
      ]
     },
     "execution_count": 37,
     "metadata": {},
     "output_type": "execute_result"
    }
   ],
   "source": [
    "forecast"
   ]
  },
  {
   "cell_type": "code",
   "execution_count": 38,
   "id": "08cae911-912d-44c8-9bb4-384691a9fa8b",
   "metadata": {},
   "outputs": [
    {
     "data": {
      "text/plain": [
       "[<matplotlib.lines.Line2D at 0x7e3cdc31f590>]"
      ]
     },
     "execution_count": 38,
     "metadata": {},
     "output_type": "execute_result"
    },
    {
     "data": {
      "image/png": "[encoded data removed]",
      "text/plain": [
       "<Figure size 640x480 with 1 Axes>"
      ]
     },
     "metadata": {},
     "output_type": "display_data"
    }
   ],
   "source": [
    "x =forecast[0][0].tolist()\n",
    "\n",
    "plt.plot(np.arange(0,len(x),1),x)"
   ]
  }
 ],
 "metadata": {
  "kernelspec": {
   "display_name": "deepnlp",
   "language": "python",
   "name": "deepnlp"
  },
  "language_info": {
   "codemirror_mode": {
    "name": "ipython",
    "version": 3
   },
   "file_extension": ".py",
   "mimetype": "text/x-python",
   "name": "python",
   "nbconvert_exporter": "python",
   "pygments_lexer": "ipython3",
   "version": "3.12.7"
  }
 },
 "nbformat": 4,
 "nbformat_minor": 5
}
